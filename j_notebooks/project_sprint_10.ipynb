{
 "cells": [
  {
   "cell_type": "markdown",
   "metadata": {
    "toc": true
   },
   "source": [
    "<h1>Содержание<span class=\"tocSkip\"></span></h1>\n",
    "<div class=\"toc\"><ul class=\"toc-item\"><li><span><a href=\"#Подготовка-данных\" data-toc-modified-id=\"Подготовка-данных-1\"><span class=\"toc-item-num\">1&nbsp;&nbsp;</span>Подготовка данных</a></span><ul class=\"toc-item\"><li><span><a href=\"#Импорт-библиотек-и-функций\" data-toc-modified-id=\"Импорт-библиотек-и-функций-1.1\"><span class=\"toc-item-num\">1.1&nbsp;&nbsp;</span>Импорт библиотек и функций</a></span></li><li><span><a href=\"#Обзор-датасета\" data-toc-modified-id=\"Обзор-датасета-1.2\"><span class=\"toc-item-num\">1.2&nbsp;&nbsp;</span>Обзор датасета</a></span></li><li><span><a href=\"#Предобработка-данных\" data-toc-modified-id=\"Предобработка-данных-1.3\"><span class=\"toc-item-num\">1.3&nbsp;&nbsp;</span>Предобработка данных</a></span><ul class=\"toc-item\"><li><span><a href=\"#Удаление-лишних-столбцов\" data-toc-modified-id=\"Удаление-лишних-столбцов-1.3.1\"><span class=\"toc-item-num\">1.3.1&nbsp;&nbsp;</span>Удаление лишних столбцов</a></span></li><li><span><a href=\"#Переименование-столбцов\" data-toc-modified-id=\"Переименование-столбцов-1.3.2\"><span class=\"toc-item-num\">1.3.2&nbsp;&nbsp;</span>Переименование столбцов</a></span></li><li><span><a href=\"#Поиск-дублей\" data-toc-modified-id=\"Поиск-дублей-1.3.3\"><span class=\"toc-item-num\">1.3.3&nbsp;&nbsp;</span>Поиск дублей</a></span></li><li><span><a href=\"#Поиск-аномалий\" data-toc-modified-id=\"Поиск-аномалий-1.3.4\"><span class=\"toc-item-num\">1.3.4&nbsp;&nbsp;</span>Поиск аномалий</a></span></li><li><span><a href=\"#Анализ-пропусков-в-данных\" data-toc-modified-id=\"Анализ-пропусков-в-данных-1.3.5\"><span class=\"toc-item-num\">1.3.5&nbsp;&nbsp;</span>Анализ пропусков в данных</a></span></li><li><span><a href=\"#Подготовка-признаков\" data-toc-modified-id=\"Подготовка-признаков-1.3.6\"><span class=\"toc-item-num\">1.3.6&nbsp;&nbsp;</span>Подготовка признаков</a></span><ul class=\"toc-item\"><li><span><a href=\"#Признак-&quot;geography&quot;\" data-toc-modified-id=\"Признак-&quot;geography&quot;-1.3.6.1\"><span class=\"toc-item-num\">1.3.6.1&nbsp;&nbsp;</span>Признак \"geography\"</a></span></li><li><span><a href=\"#Признак-&quot;gender&quot;\" data-toc-modified-id=\"Признак-&quot;gender&quot;-1.3.6.2\"><span class=\"toc-item-num\">1.3.6.2&nbsp;&nbsp;</span>Признак \"gender\"</a></span></li></ul></li><li><span><a href=\"#Выводы\" data-toc-modified-id=\"Выводы-1.3.7\"><span class=\"toc-item-num\">1.3.7&nbsp;&nbsp;</span>Выводы</a></span></li></ul></li><li><span><a href=\"#Разделение-датасета-на-выборки\" data-toc-modified-id=\"Разделение-датасета-на-выборки-1.4\"><span class=\"toc-item-num\">1.4&nbsp;&nbsp;</span>Разделение датасета на выборки</a></span></li></ul></li><li><span><a href=\"#Исследование-задачи\" data-toc-modified-id=\"Исследование-задачи-2\"><span class=\"toc-item-num\">2&nbsp;&nbsp;</span>Исследование задачи</a></span><ul class=\"toc-item\"><li><span><a href=\"#Определение-дисбаланса-классов\" data-toc-modified-id=\"Определение-дисбаланса-классов-2.1\"><span class=\"toc-item-num\">2.1&nbsp;&nbsp;</span>Определение дисбаланса классов</a></span></li><li><span><a href=\"#Подготовка:-Создание-функций-и-формирование-дополнительных-выборок\" data-toc-modified-id=\"Подготовка:-Создание-функций-и-формирование-дополнительных-выборок-2.2\"><span class=\"toc-item-num\">2.2&nbsp;&nbsp;</span>Подготовка: Создание функций и формирование дополнительных выборок</a></span><ul class=\"toc-item\"><li><span><a href=\"#Функция-для-DecisionTreeClassifier\" data-toc-modified-id=\"Функция-для-DecisionTreeClassifier-2.2.1\"><span class=\"toc-item-num\">2.2.1&nbsp;&nbsp;</span>Функция для DecisionTreeClassifier</a></span></li><li><span><a href=\"#Функция-для-RandomForestClassifier\" data-toc-modified-id=\"Функция-для-RandomForestClassifier-2.2.2\"><span class=\"toc-item-num\">2.2.2&nbsp;&nbsp;</span>Функция для RandomForestClassifier</a></span></li><li><span><a href=\"#Функция-для-LogisticRegression\" data-toc-modified-id=\"Функция-для-LogisticRegression-2.2.3\"><span class=\"toc-item-num\">2.2.3&nbsp;&nbsp;</span>Функция для LogisticRegression</a></span></li><li><span><a href=\"#Функция-upsample\" data-toc-modified-id=\"Функция-upsample-2.2.4\"><span class=\"toc-item-num\">2.2.4&nbsp;&nbsp;</span>Функция upsample</a></span></li><li><span><a href=\"#Функция-downsample\" data-toc-modified-id=\"Функция-downsample-2.2.5\"><span class=\"toc-item-num\">2.2.5&nbsp;&nbsp;</span>Функция downsample</a></span></li></ul></li><li><span><a href=\"#Обучение-модели\" data-toc-modified-id=\"Обучение-модели-2.3\"><span class=\"toc-item-num\">2.3&nbsp;&nbsp;</span>Обучение модели</a></span><ul class=\"toc-item\"><li><span><a href=\"#Модель-DecisionTreeClassifier\" data-toc-modified-id=\"Модель-DecisionTreeClassifier-2.3.1\"><span class=\"toc-item-num\">2.3.1&nbsp;&nbsp;</span>Модель DecisionTreeClassifier</a></span></li><li><span><a href=\"#Модель-RandomForestClassifier\" data-toc-modified-id=\"Модель-RandomForestClassifier-2.3.2\"><span class=\"toc-item-num\">2.3.2&nbsp;&nbsp;</span>Модель RandomForestClassifier</a></span></li><li><span><a href=\"#Модель-LogisticRegression\" data-toc-modified-id=\"Модель-LogisticRegression-2.3.3\"><span class=\"toc-item-num\">2.3.3&nbsp;&nbsp;</span>Модель LogisticRegression</a></span></li></ul></li><li><span><a href=\"#Выводы\" data-toc-modified-id=\"Выводы-2.4\"><span class=\"toc-item-num\">2.4&nbsp;&nbsp;</span>Выводы</a></span></li></ul></li><li><span><a href=\"#Борьба-с-дисбалансом\" data-toc-modified-id=\"Борьба-с-дисбалансом-3\"><span class=\"toc-item-num\">3&nbsp;&nbsp;</span>Борьба с дисбалансом</a></span><ul class=\"toc-item\"><li><span><a href=\"#Модель-DecisionTreeClassifier-(с-устранением-дисбаланса)\" data-toc-modified-id=\"Модель-DecisionTreeClassifier-(с-устранением-дисбаланса)-3.1\"><span class=\"toc-item-num\">3.1&nbsp;&nbsp;</span>Модель DecisionTreeClassifier (с устранением дисбаланса)</a></span><ul class=\"toc-item\"><li><span><a href=\"#Взвешивание-классов\" data-toc-modified-id=\"Взвешивание-классов-3.1.1\"><span class=\"toc-item-num\">3.1.1&nbsp;&nbsp;</span>Взвешивание классов</a></span></li><li><span><a href=\"#Увеличение-выборки\" data-toc-modified-id=\"Увеличение-выборки-3.1.2\"><span class=\"toc-item-num\">3.1.2&nbsp;&nbsp;</span>Увеличение выборки</a></span></li><li><span><a href=\"#Уменьшение-выборки\" data-toc-modified-id=\"Уменьшение-выборки-3.1.3\"><span class=\"toc-item-num\">3.1.3&nbsp;&nbsp;</span>Уменьшение выборки</a></span></li></ul></li><li><span><a href=\"#Модель-RandomForestClassifier-(с-устранением-дисбаланса)\" data-toc-modified-id=\"Модель-RandomForestClassifier-(с-устранением-дисбаланса)-3.2\"><span class=\"toc-item-num\">3.2&nbsp;&nbsp;</span>Модель RandomForestClassifier (с устранением дисбаланса)</a></span><ul class=\"toc-item\"><li><span><a href=\"#Взвешивание-классов\" data-toc-modified-id=\"Взвешивание-классов-3.2.1\"><span class=\"toc-item-num\">3.2.1&nbsp;&nbsp;</span>Взвешивание классов</a></span></li><li><span><a href=\"#Увеличение-выборки\" data-toc-modified-id=\"Увеличение-выборки-3.2.2\"><span class=\"toc-item-num\">3.2.2&nbsp;&nbsp;</span>Увеличение выборки</a></span></li><li><span><a href=\"#Уменьшение-выборки\" data-toc-modified-id=\"Уменьшение-выборки-3.2.3\"><span class=\"toc-item-num\">3.2.3&nbsp;&nbsp;</span>Уменьшение выборки</a></span></li></ul></li><li><span><a href=\"#Модель-LogisticRegression-(с-устранением-дисбаланса)\" data-toc-modified-id=\"Модель-LogisticRegression-(с-устранением-дисбаланса)-3.3\"><span class=\"toc-item-num\">3.3&nbsp;&nbsp;</span>Модель LogisticRegression (с устранением дисбаланса)</a></span><ul class=\"toc-item\"><li><span><a href=\"#Взвешивание-классов\" data-toc-modified-id=\"Взвешивание-классов-3.3.1\"><span class=\"toc-item-num\">3.3.1&nbsp;&nbsp;</span>Взвешивание классов</a></span></li><li><span><a href=\"#Увеличение-выборки\" data-toc-modified-id=\"Увеличение-выборки-3.3.2\"><span class=\"toc-item-num\">3.3.2&nbsp;&nbsp;</span>Увеличение выборки</a></span></li><li><span><a href=\"#Уменьшение-выборки\" data-toc-modified-id=\"Уменьшение-выборки-3.3.3\"><span class=\"toc-item-num\">3.3.3&nbsp;&nbsp;</span>Уменьшение выборки</a></span></li></ul></li><li><span><a href=\"#Выводы\" data-toc-modified-id=\"Выводы-3.4\"><span class=\"toc-item-num\">3.4&nbsp;&nbsp;</span>Выводы</a></span></li></ul></li><li><span><a href=\"#Тестирование-модели\" data-toc-modified-id=\"Тестирование-модели-4\"><span class=\"toc-item-num\">4&nbsp;&nbsp;</span>Тестирование модели</a></span><ul class=\"toc-item\"><li><span><a href=\"#Тестирование-модели-RandomForestClassifier-со-взвешиванием-классов\" data-toc-modified-id=\"Тестирование-модели-RandomForestClassifier-со-взвешиванием-классов-4.1\"><span class=\"toc-item-num\">4.1&nbsp;&nbsp;</span>Тестирование модели RandomForestClassifier со взвешиванием классов</a></span></li><li><span><a href=\"#Тестирование-модели-DecisionTreeClassifier-с-уменьшением-выборки\" data-toc-modified-id=\"Тестирование-модели-DecisionTreeClassifier-с-уменьшением-выборки-4.2\"><span class=\"toc-item-num\">4.2&nbsp;&nbsp;</span>Тестирование модели DecisionTreeClassifier с уменьшением выборки</a></span></li></ul></li><li><span><a href=\"#Общий-вывод\" data-toc-modified-id=\"Общий-вывод-5\"><span class=\"toc-item-num\">5&nbsp;&nbsp;</span>Общий вывод</a></span></li><li><span><a href=\"#Чек-лист-готовности-проекта\" data-toc-modified-id=\"Чек-лист-готовности-проекта-6\"><span class=\"toc-item-num\">6&nbsp;&nbsp;</span>Чек-лист готовности проекта</a></span></li></ul></div>"
   ]
  },
  {
   "cell_type": "markdown",
   "metadata": {},
   "source": [
    "# Отток клиентов"
   ]
  },
  {
   "cell_type": "markdown",
   "metadata": {},
   "source": [
    "Из «Бета-Банка» стали уходить клиенты. Каждый месяц. Немного, но заметно. Банковские маркетологи посчитали: сохранять текущих клиентов дешевле, чем привлекать новых.\n",
    "\n",
    "Нужно спрогнозировать, уйдёт клиент из банка в ближайшее время или нет. Вам предоставлены исторические данные о поведении клиентов и расторжении договоров с банком. \n",
    "\n",
    "Постройте модель с предельно большим значением *F1*-меры. Чтобы сдать проект успешно, нужно довести метрику до 0.59. Проверьте *F1*-меру на тестовой выборке самостоятельно.\n",
    "\n",
    "Дополнительно измеряйте *AUC-ROC*, сравнивайте её значение с *F1*-мерой.\n",
    "\n",
    "Источник данных: [https://www.kaggle.com/barelydedicated/bank-customer-churn-modeling](https://www.kaggle.com/barelydedicated/bank-customer-churn-modeling)"
   ]
  },
  {
   "cell_type": "markdown",
   "metadata": {},
   "source": [
    "**Цель работы**\n",
    "\n",
    "\n",
    "Построить модель, предсказывающую факт возможного ухода клиента из банка в ближайшее время на основе исторических данных о его поведении."
   ]
  },
  {
   "cell_type": "markdown",
   "metadata": {},
   "source": [
    "**Ход работы**\n",
    "1. Выполнить первоначальный обзор данных;\n",
    "2. Проверить необходимость предобработки данных и выполнить, если требуется;\n",
    "3. Исследовать баланс классов;\n",
    "4. Обучить модель без учёта дисбаланса и сделать соответствующие выводы;\n",
    "5. Обучить модель с учётом дисбаланса классов, рассмотрев разные модели и выбрав наилучшую;\n",
    "6. Проверить работу модели на тестовой выборке."
   ]
  },
  {
   "cell_type": "markdown",
   "metadata": {},
   "source": [
    "Также, следует учитывать следующие ***условия***:\n",
    "- Должны быть рассмотрены метрики качества классификации: ***F1-мера*** (F1-score, гармоническое среднее *полноты* и *точности* модели) и ***AUC-ROC*** (мера способности модели различать положительный и отрицательный классы);\n",
    "- Значение метрики ***F1-мера*** должно достигать значения минимум **0.59**."
   ]
  },
  {
   "cell_type": "markdown",
   "metadata": {},
   "source": [
    "## Подготовка данных"
   ]
  },
  {
   "cell_type": "markdown",
   "metadata": {},
   "source": [
    "### Импорт библиотек и функций"
   ]
  },
  {
   "cell_type": "markdown",
   "metadata": {},
   "source": [
    "Перед непосредственным обзором данных выполним импорт необходимых библиотек и функций, которые потребуются в дальнейшей работе:"
   ]
  },
  {
   "cell_type": "code",
   "execution_count": 1,
   "metadata": {},
   "outputs": [],
   "source": [
    "import pandas as pd\n",
    "import datetime\n",
    "import numpy as np\n",
    "import matplotlib.pyplot as plt\n",
    "from sklearn.model_selection import train_test_split\n",
    "from sklearn.tree import DecisionTreeClassifier\n",
    "from sklearn.ensemble import RandomForestClassifier\n",
    "from sklearn.ensemble import GradientBoostingClassifier \n",
    "from sklearn.linear_model import LogisticRegression\n",
    "from sklearn.metrics import accuracy_score\n",
    "from sklearn.metrics import f1_score\n",
    "from sklearn.metrics import roc_auc_score\n",
    "from sklearn.metrics import confusion_matrix\n",
    "from sklearn.metrics import recall_score\n",
    "from sklearn.metrics import precision_score\n",
    "from sklearn.metrics import ConfusionMatrixDisplay\n",
    "from sklearn.metrics import precision_recall_curve\n",
    "from sklearn.utils import shuffle"
   ]
  },
  {
   "cell_type": "markdown",
   "metadata": {},
   "source": [
    "### Обзор датасета"
   ]
  },
  {
   "cell_type": "markdown",
   "metadata": {},
   "source": [
    "Нам предоставлен датасет `/datasets/Churn.csv`, описывающий поведение и характеристики клиента, а также содержащий целевой признак - факт ухода клиента."
   ]
  },
  {
   "cell_type": "markdown",
   "metadata": {},
   "source": [
    "**Содержание датасета**\n",
    "\n",
    "***Признаки***:\n",
    "- *RowNumber* — индекс строки в данных;\n",
    "- *CustomerId* — уникальный идентификатор клиента;\n",
    "- *Surname* — фамилия;\n",
    "- *CreditScore* — кредитный рейтинг;\n",
    "- *Geography* — страна проживания;\n",
    "- *Gender* — пол;\n",
    "- *Age* — возраст;\n",
    "- *Tenure* — сколько лет человек является клиентом банка;\n",
    "- *Balance* — баланс на счёте;\n",
    "- *NumOfProducts* — количество продуктов банка, используемых клиентом;\n",
    "- *HasCrCard* — наличие кредитной карты;\n",
    "- *IsActiveMember* — активность клиента;\n",
    "- *EstimatedSalary* — предполагаемая зарплата;\n",
    "\n",
    "***Целевой признак***:\n",
    "- *Exited* — факт ухода клиента."
   ]
  },
  {
   "cell_type": "markdown",
   "metadata": {},
   "source": [
    "Сохраним датасет в переменную `df` и выведем основную информацию о нём:"
   ]
  },
  {
   "cell_type": "code",
   "execution_count": 2,
   "metadata": {},
   "outputs": [
    {
     "name": "stdout",
     "output_type": "stream",
     "text": [
      "<class 'pandas.core.frame.DataFrame'>\n",
      "RangeIndex: 10000 entries, 0 to 9999\n",
      "Data columns (total 14 columns):\n",
      " #   Column           Non-Null Count  Dtype  \n",
      "---  ------           --------------  -----  \n",
      " 0   RowNumber        10000 non-null  int64  \n",
      " 1   CustomerId       10000 non-null  int64  \n",
      " 2   Surname          10000 non-null  object \n",
      " 3   CreditScore      10000 non-null  int64  \n",
      " 4   Geography        10000 non-null  object \n",
      " 5   Gender           10000 non-null  object \n",
      " 6   Age              10000 non-null  int64  \n",
      " 7   Tenure           9091 non-null   float64\n",
      " 8   Balance          10000 non-null  float64\n",
      " 9   NumOfProducts    10000 non-null  int64  \n",
      " 10  HasCrCard        10000 non-null  int64  \n",
      " 11  IsActiveMember   10000 non-null  int64  \n",
      " 12  EstimatedSalary  10000 non-null  float64\n",
      " 13  Exited           10000 non-null  int64  \n",
      "dtypes: float64(3), int64(8), object(3)\n",
      "memory usage: 1.1+ MB\n"
     ]
    }
   ],
   "source": [
    "df = pd.read_csv('/datasets/Churn.csv')\n",
    "\n",
    "df.info()"
   ]
  },
  {
   "cell_type": "markdown",
   "metadata": {},
   "source": [
    "Для наглядности также следует посмотреть на часть самого датасета. Для этого выведем первые 10 объектов:"
   ]
  },
  {
   "cell_type": "code",
   "execution_count": 3,
   "metadata": {},
   "outputs": [
    {
     "data": {
      "text/html": [
       "<div>\n",
       "<style scoped>\n",
       "    .dataframe tbody tr th:only-of-type {\n",
       "        vertical-align: middle;\n",
       "    }\n",
       "\n",
       "    .dataframe tbody tr th {\n",
       "        vertical-align: top;\n",
       "    }\n",
       "\n",
       "    .dataframe thead th {\n",
       "        text-align: right;\n",
       "    }\n",
       "</style>\n",
       "<table border=\"1\" class=\"dataframe\">\n",
       "  <thead>\n",
       "    <tr style=\"text-align: right;\">\n",
       "      <th></th>\n",
       "      <th>RowNumber</th>\n",
       "      <th>CustomerId</th>\n",
       "      <th>Surname</th>\n",
       "      <th>CreditScore</th>\n",
       "      <th>Geography</th>\n",
       "      <th>Gender</th>\n",
       "      <th>Age</th>\n",
       "      <th>Tenure</th>\n",
       "      <th>Balance</th>\n",
       "      <th>NumOfProducts</th>\n",
       "      <th>HasCrCard</th>\n",
       "      <th>IsActiveMember</th>\n",
       "      <th>EstimatedSalary</th>\n",
       "      <th>Exited</th>\n",
       "    </tr>\n",
       "  </thead>\n",
       "  <tbody>\n",
       "    <tr>\n",
       "      <th>0</th>\n",
       "      <td>1</td>\n",
       "      <td>15634602</td>\n",
       "      <td>Hargrave</td>\n",
       "      <td>619</td>\n",
       "      <td>France</td>\n",
       "      <td>Female</td>\n",
       "      <td>42</td>\n",
       "      <td>2.0</td>\n",
       "      <td>0.00</td>\n",
       "      <td>1</td>\n",
       "      <td>1</td>\n",
       "      <td>1</td>\n",
       "      <td>101348.88</td>\n",
       "      <td>1</td>\n",
       "    </tr>\n",
       "    <tr>\n",
       "      <th>1</th>\n",
       "      <td>2</td>\n",
       "      <td>15647311</td>\n",
       "      <td>Hill</td>\n",
       "      <td>608</td>\n",
       "      <td>Spain</td>\n",
       "      <td>Female</td>\n",
       "      <td>41</td>\n",
       "      <td>1.0</td>\n",
       "      <td>83807.86</td>\n",
       "      <td>1</td>\n",
       "      <td>0</td>\n",
       "      <td>1</td>\n",
       "      <td>112542.58</td>\n",
       "      <td>0</td>\n",
       "    </tr>\n",
       "    <tr>\n",
       "      <th>2</th>\n",
       "      <td>3</td>\n",
       "      <td>15619304</td>\n",
       "      <td>Onio</td>\n",
       "      <td>502</td>\n",
       "      <td>France</td>\n",
       "      <td>Female</td>\n",
       "      <td>42</td>\n",
       "      <td>8.0</td>\n",
       "      <td>159660.80</td>\n",
       "      <td>3</td>\n",
       "      <td>1</td>\n",
       "      <td>0</td>\n",
       "      <td>113931.57</td>\n",
       "      <td>1</td>\n",
       "    </tr>\n",
       "    <tr>\n",
       "      <th>3</th>\n",
       "      <td>4</td>\n",
       "      <td>15701354</td>\n",
       "      <td>Boni</td>\n",
       "      <td>699</td>\n",
       "      <td>France</td>\n",
       "      <td>Female</td>\n",
       "      <td>39</td>\n",
       "      <td>1.0</td>\n",
       "      <td>0.00</td>\n",
       "      <td>2</td>\n",
       "      <td>0</td>\n",
       "      <td>0</td>\n",
       "      <td>93826.63</td>\n",
       "      <td>0</td>\n",
       "    </tr>\n",
       "    <tr>\n",
       "      <th>4</th>\n",
       "      <td>5</td>\n",
       "      <td>15737888</td>\n",
       "      <td>Mitchell</td>\n",
       "      <td>850</td>\n",
       "      <td>Spain</td>\n",
       "      <td>Female</td>\n",
       "      <td>43</td>\n",
       "      <td>2.0</td>\n",
       "      <td>125510.82</td>\n",
       "      <td>1</td>\n",
       "      <td>1</td>\n",
       "      <td>1</td>\n",
       "      <td>79084.10</td>\n",
       "      <td>0</td>\n",
       "    </tr>\n",
       "    <tr>\n",
       "      <th>5</th>\n",
       "      <td>6</td>\n",
       "      <td>15574012</td>\n",
       "      <td>Chu</td>\n",
       "      <td>645</td>\n",
       "      <td>Spain</td>\n",
       "      <td>Male</td>\n",
       "      <td>44</td>\n",
       "      <td>8.0</td>\n",
       "      <td>113755.78</td>\n",
       "      <td>2</td>\n",
       "      <td>1</td>\n",
       "      <td>0</td>\n",
       "      <td>149756.71</td>\n",
       "      <td>1</td>\n",
       "    </tr>\n",
       "    <tr>\n",
       "      <th>6</th>\n",
       "      <td>7</td>\n",
       "      <td>15592531</td>\n",
       "      <td>Bartlett</td>\n",
       "      <td>822</td>\n",
       "      <td>France</td>\n",
       "      <td>Male</td>\n",
       "      <td>50</td>\n",
       "      <td>7.0</td>\n",
       "      <td>0.00</td>\n",
       "      <td>2</td>\n",
       "      <td>1</td>\n",
       "      <td>1</td>\n",
       "      <td>10062.80</td>\n",
       "      <td>0</td>\n",
       "    </tr>\n",
       "    <tr>\n",
       "      <th>7</th>\n",
       "      <td>8</td>\n",
       "      <td>15656148</td>\n",
       "      <td>Obinna</td>\n",
       "      <td>376</td>\n",
       "      <td>Germany</td>\n",
       "      <td>Female</td>\n",
       "      <td>29</td>\n",
       "      <td>4.0</td>\n",
       "      <td>115046.74</td>\n",
       "      <td>4</td>\n",
       "      <td>1</td>\n",
       "      <td>0</td>\n",
       "      <td>119346.88</td>\n",
       "      <td>1</td>\n",
       "    </tr>\n",
       "    <tr>\n",
       "      <th>8</th>\n",
       "      <td>9</td>\n",
       "      <td>15792365</td>\n",
       "      <td>He</td>\n",
       "      <td>501</td>\n",
       "      <td>France</td>\n",
       "      <td>Male</td>\n",
       "      <td>44</td>\n",
       "      <td>4.0</td>\n",
       "      <td>142051.07</td>\n",
       "      <td>2</td>\n",
       "      <td>0</td>\n",
       "      <td>1</td>\n",
       "      <td>74940.50</td>\n",
       "      <td>0</td>\n",
       "    </tr>\n",
       "    <tr>\n",
       "      <th>9</th>\n",
       "      <td>10</td>\n",
       "      <td>15592389</td>\n",
       "      <td>H?</td>\n",
       "      <td>684</td>\n",
       "      <td>France</td>\n",
       "      <td>Male</td>\n",
       "      <td>27</td>\n",
       "      <td>2.0</td>\n",
       "      <td>134603.88</td>\n",
       "      <td>1</td>\n",
       "      <td>1</td>\n",
       "      <td>1</td>\n",
       "      <td>71725.73</td>\n",
       "      <td>0</td>\n",
       "    </tr>\n",
       "  </tbody>\n",
       "</table>\n",
       "</div>"
      ],
      "text/plain": [
       "   RowNumber  CustomerId   Surname  CreditScore Geography  Gender  Age  \\\n",
       "0          1    15634602  Hargrave          619    France  Female   42   \n",
       "1          2    15647311      Hill          608     Spain  Female   41   \n",
       "2          3    15619304      Onio          502    France  Female   42   \n",
       "3          4    15701354      Boni          699    France  Female   39   \n",
       "4          5    15737888  Mitchell          850     Spain  Female   43   \n",
       "5          6    15574012       Chu          645     Spain    Male   44   \n",
       "6          7    15592531  Bartlett          822    France    Male   50   \n",
       "7          8    15656148    Obinna          376   Germany  Female   29   \n",
       "8          9    15792365        He          501    France    Male   44   \n",
       "9         10    15592389        H?          684    France    Male   27   \n",
       "\n",
       "   Tenure    Balance  NumOfProducts  HasCrCard  IsActiveMember  \\\n",
       "0     2.0       0.00              1          1               1   \n",
       "1     1.0   83807.86              1          0               1   \n",
       "2     8.0  159660.80              3          1               0   \n",
       "3     1.0       0.00              2          0               0   \n",
       "4     2.0  125510.82              1          1               1   \n",
       "5     8.0  113755.78              2          1               0   \n",
       "6     7.0       0.00              2          1               1   \n",
       "7     4.0  115046.74              4          1               0   \n",
       "8     4.0  142051.07              2          0               1   \n",
       "9     2.0  134603.88              1          1               1   \n",
       "\n",
       "   EstimatedSalary  Exited  \n",
       "0        101348.88       1  \n",
       "1        112542.58       0  \n",
       "2        113931.57       1  \n",
       "3         93826.63       0  \n",
       "4         79084.10       0  \n",
       "5        149756.71       1  \n",
       "6         10062.80       0  \n",
       "7        119346.88       1  \n",
       "8         74940.50       0  \n",
       "9         71725.73       0  "
      ]
     },
     "execution_count": 3,
     "metadata": {},
     "output_type": "execute_result"
    }
   ],
   "source": [
    "df.head(10)"
   ]
  },
  {
   "cell_type": "markdown",
   "metadata": {},
   "source": [
    "По результатам метода `info()` и отображённым строкам датасета можем отметить следующее:\n",
    "- В датасете ровно 10 тысяч объектов;\n",
    "- Пропуски присутствуют только в признаке `Tenure`;\n",
    "- Наименования столбцов представлены в виде *CamelCase*, что в нашем случае **не соответствует** стилистической семантике;\n",
    "- Присутствует три категориальных признака: ***Surname***, ***Geography***, ***Gender***, что потребует их преобразования в числовой вид;\n",
    "- От признака ***Surname*** следует вовсе избавиться из датасета, так как фамилия клиента не имеет прямого влияния на возможность его скорого ухода из банка. Кроме того, если бы мы переводили этот признак в числовой техникой ***OHE***, то получили бы тысячи лишних столбцов, и впоследствии, неправильно обученную модель, для которой значимость фамилии не отличается от значимости любого другого признака;\n",
    "- Аналогично, следует избавиться от `RowNumber` и `CustomerId`, так как значения этих столбцов уникальны для каждой строки, являются техническими и не влияют на возможность ухода клиента из банка."
   ]
  },
  {
   "cell_type": "markdown",
   "metadata": {},
   "source": [
    "### Предобработка данных"
   ]
  },
  {
   "cell_type": "markdown",
   "metadata": {},
   "source": [
    "#### Удаление лишних столбцов"
   ]
  },
  {
   "cell_type": "markdown",
   "metadata": {},
   "source": [
    "На основании выводов, сделанных в п.1.2., столбцы `Surname`, `RowNumber` и `CustomerId` не требуются для обучения модели, поэтому следует удалить их."
   ]
  },
  {
   "cell_type": "code",
   "execution_count": 4,
   "metadata": {},
   "outputs": [
    {
     "name": "stdout",
     "output_type": "stream",
     "text": [
      "<class 'pandas.core.frame.DataFrame'>\n",
      "RangeIndex: 10000 entries, 0 to 9999\n",
      "Data columns (total 11 columns):\n",
      " #   Column           Non-Null Count  Dtype  \n",
      "---  ------           --------------  -----  \n",
      " 0   CreditScore      10000 non-null  int64  \n",
      " 1   Geography        10000 non-null  object \n",
      " 2   Gender           10000 non-null  object \n",
      " 3   Age              10000 non-null  int64  \n",
      " 4   Tenure           9091 non-null   float64\n",
      " 5   Balance          10000 non-null  float64\n",
      " 6   NumOfProducts    10000 non-null  int64  \n",
      " 7   HasCrCard        10000 non-null  int64  \n",
      " 8   IsActiveMember   10000 non-null  int64  \n",
      " 9   EstimatedSalary  10000 non-null  float64\n",
      " 10  Exited           10000 non-null  int64  \n",
      "dtypes: float64(3), int64(6), object(2)\n",
      "memory usage: 859.5+ KB\n"
     ]
    }
   ],
   "source": [
    "df = df.drop(['Surname', 'RowNumber', 'CustomerId'], axis=1)\n",
    "\n",
    "# Проверим результат\n",
    "df.info()"
   ]
  },
  {
   "cell_type": "markdown",
   "metadata": {},
   "source": [
    "От лишних столбцов мы избавились, остальная часть датасета осталась прежней."
   ]
  },
  {
   "cell_type": "markdown",
   "metadata": {},
   "source": [
    "#### Переименование столбцов"
   ]
  },
  {
   "cell_type": "markdown",
   "metadata": {},
   "source": [
    "Переведём наименования столбцов в стиль `snake_case` в соответствии с семантическим стилем Python, а также, в случае столбца `HasCrCard` переименуем его в `has_credit_card`, так как данное сокращение здесь выглядит лишним."
   ]
  },
  {
   "cell_type": "code",
   "execution_count": 5,
   "metadata": {
    "scrolled": false
   },
   "outputs": [
    {
     "data": {
      "text/plain": [
       "Index(['credit_score', 'geography', 'gender', 'age', 'tenure', 'balance',\n",
       "       'num_of_products', 'has_credit_card', 'is_active_member',\n",
       "       'estimated_salary', 'exited'],\n",
       "      dtype='object')"
      ]
     },
     "execution_count": 5,
     "metadata": {},
     "output_type": "execute_result"
    }
   ],
   "source": [
    "df = df.rename(columns={'CreditScore': 'credit_score', \n",
    "                        'Geography': 'geography',\n",
    "                        'Gender': 'gender',\n",
    "                        'Age': 'age',\n",
    "                        'Tenure': 'tenure',\n",
    "                        'Balance': 'balance',\n",
    "                        'NumOfProducts': 'num_of_products',\n",
    "                        'HasCrCard': 'has_credit_card',\n",
    "                        'IsActiveMember': 'is_active_member',\n",
    "                        'EstimatedSalary': 'estimated_salary',\n",
    "                        'Exited': 'exited'})\n",
    "\n",
    "# Проверим результат\n",
    "df.columns"
   ]
  },
  {
   "cell_type": "markdown",
   "metadata": {},
   "source": [
    "#### Поиск дублей"
   ]
  },
  {
   "cell_type": "markdown",
   "metadata": {},
   "source": [
    "Для того, чтобы убедиться, что модель будет обучаться на корректных данных, определим наличие явных и неявных дублей."
   ]
  },
  {
   "cell_type": "markdown",
   "metadata": {},
   "source": [
    "Определим количество явных дублей с помощью сочетания методов `duplicated()` и `sum()`."
   ]
  },
  {
   "cell_type": "code",
   "execution_count": 6,
   "metadata": {},
   "outputs": [
    {
     "data": {
      "text/plain": [
       "0"
      ]
     },
     "execution_count": 6,
     "metadata": {},
     "output_type": "execute_result"
    }
   ],
   "source": [
    "df.duplicated().sum()"
   ]
  },
  {
   "cell_type": "markdown",
   "metadata": {},
   "source": [
    "Явных дублей в датасете нет.\n",
    "\n",
    "Теперь определим, есть ли у нас неявные дубли. В случае текущего датасета они могут быть в двух столбцах: `Gender` и `Geography`.\n",
    "\n",
    "Рассмотрим для начала столбец `Gender`."
   ]
  },
  {
   "cell_type": "code",
   "execution_count": 7,
   "metadata": {},
   "outputs": [
    {
     "data": {
      "text/plain": [
       "array(['Female', 'Male'], dtype=object)"
      ]
     },
     "execution_count": 7,
     "metadata": {},
     "output_type": "execute_result"
    }
   ],
   "source": [
    "df['gender'].unique()"
   ]
  },
  {
   "cell_type": "markdown",
   "metadata": {},
   "source": [
    "Как видно, в данном поле существует всего два возможных значения.\n",
    "\n",
    "Теперь рассмотрим столбец `geography`."
   ]
  },
  {
   "cell_type": "code",
   "execution_count": 8,
   "metadata": {},
   "outputs": [
    {
     "data": {
      "text/plain": [
       "array(['France', 'Spain', 'Germany'], dtype=object)"
      ]
     },
     "execution_count": 8,
     "metadata": {},
     "output_type": "execute_result"
    }
   ],
   "source": [
    "df['geography'].unique()"
   ]
  },
  {
   "cell_type": "markdown",
   "metadata": {},
   "source": [
    "Всего три страны, и как видно, никаких опечаток, разных написаний и прочего здесь нет."
   ]
  },
  {
   "cell_type": "markdown",
   "metadata": {},
   "source": [
    "Выходит, что дублей в датасете нет и дополнительные действия здесь не требуются."
   ]
  },
  {
   "cell_type": "markdown",
   "metadata": {},
   "source": [
    "#### Поиск аномалий"
   ]
  },
  {
   "cell_type": "markdown",
   "metadata": {},
   "source": [
    "Определим также, нет ли в датасете выбивающихся из общей картины значений. Например, если возраст клиента 175 лет, то вероятно, здесь что-то не так. Будем проверять это для всех столбцов с типами данных `float` и `int`:\n",
    "- *credit_score*;\n",
    "- *age*;\n",
    "- *tenure*;\n",
    "- *balance*;\n",
    "- *num_of_products*;\n",
    "- *has_credit_card*;\n",
    "- *is_active_member*;\n",
    "- *estimated_salary*."
   ]
  },
  {
   "cell_type": "markdown",
   "metadata": {},
   "source": [
    "**credit_score**"
   ]
  },
  {
   "cell_type": "markdown",
   "metadata": {},
   "source": [
    "Определим числовое описание этого признака:"
   ]
  },
  {
   "cell_type": "code",
   "execution_count": 9,
   "metadata": {},
   "outputs": [
    {
     "data": {
      "text/plain": [
       "count    10000.000000\n",
       "mean       650.528800\n",
       "std         96.653299\n",
       "min        350.000000\n",
       "25%        584.000000\n",
       "50%        652.000000\n",
       "75%        718.000000\n",
       "max        850.000000\n",
       "Name: credit_score, dtype: float64"
      ]
     },
     "execution_count": 9,
     "metadata": {},
     "output_type": "execute_result"
    }
   ],
   "source": [
    "df['credit_score'].describe()"
   ]
  },
  {
   "cell_type": "markdown",
   "metadata": {},
   "source": [
    "Никаких явно выбивающихся значений здесь нет, считаем, что c признаком *credit_score* проблем нет."
   ]
  },
  {
   "cell_type": "markdown",
   "metadata": {},
   "source": [
    "**age**"
   ]
  },
  {
   "cell_type": "markdown",
   "metadata": {},
   "source": [
    "Определим числовое описание этого признака:"
   ]
  },
  {
   "cell_type": "code",
   "execution_count": 10,
   "metadata": {},
   "outputs": [
    {
     "data": {
      "text/plain": [
       "count    10000.000000\n",
       "mean        38.921800\n",
       "std         10.487806\n",
       "min         18.000000\n",
       "25%         32.000000\n",
       "50%         37.000000\n",
       "75%         44.000000\n",
       "max         92.000000\n",
       "Name: age, dtype: float64"
      ]
     },
     "execution_count": 10,
     "metadata": {},
     "output_type": "execute_result"
    }
   ],
   "source": [
    "df['age'].describe()"
   ]
  },
  {
   "cell_type": "markdown",
   "metadata": {},
   "source": [
    "Самому молодому клиента банка 18 лет. Детей, подростков и клиентов с отрицательным возрастом среди клиентов банка нет, поэтому к нижней границе данного признака вопросов нет. Самому возрастному клиенту банка 92 года. Вероятно, не самый типичный случай, но в данном случае к верхней границе также вопросов нет, долгих и здоровых ему лет жизни."
   ]
  },
  {
   "cell_type": "markdown",
   "metadata": {},
   "source": [
    "**tenure**"
   ]
  },
  {
   "cell_type": "markdown",
   "metadata": {},
   "source": [
    "Определим числовое описание этого признака:"
   ]
  },
  {
   "cell_type": "code",
   "execution_count": 11,
   "metadata": {},
   "outputs": [
    {
     "data": {
      "text/plain": [
       "count    9091.000000\n",
       "mean        4.997690\n",
       "std         2.894723\n",
       "min         0.000000\n",
       "25%         2.000000\n",
       "50%         5.000000\n",
       "75%         7.000000\n",
       "max        10.000000\n",
       "Name: tenure, dtype: float64"
      ]
     },
     "execution_count": 11,
     "metadata": {},
     "output_type": "execute_result"
    }
   ],
   "source": [
    "df['tenure'].describe()"
   ]
  },
  {
   "cell_type": "markdown",
   "metadata": {},
   "source": [
    "Здесь также не видно аномалий. Единственное место, где здесь могла бы быть ошибка - это верхняя граница значения, но нам неизвестно, сколько лет существует этот банк, поэтому и сравнить возраст банка и то, сколько лет человек является клиентом банка, мы не можем.\n",
    "На всякий случай можем посмотреть на количество данных по каждому из вариантов:"
   ]
  },
  {
   "cell_type": "code",
   "execution_count": 12,
   "metadata": {},
   "outputs": [
    {
     "data": {
      "text/plain": [
       "1.0     952\n",
       "2.0     950\n",
       "8.0     933\n",
       "3.0     928\n",
       "5.0     927\n",
       "7.0     925\n",
       "4.0     885\n",
       "9.0     882\n",
       "6.0     881\n",
       "10.0    446\n",
       "0.0     382\n",
       "Name: tenure, dtype: int64"
      ]
     },
     "execution_count": 12,
     "metadata": {},
     "output_type": "execute_result"
    }
   ],
   "source": [
    "df['tenure'].value_counts()"
   ]
  },
  {
   "cell_type": "markdown",
   "metadata": {},
   "source": [
    "Как видно, 10 лет - не самый редкий срок бытия клиентом в этом банке, поэтому считаем, что здесь проблем нет.\n",
    "\n",
    "Другое дело, что в данном столбце присутствуют пропуски, но их мы рассмотрим в другом пункте."
   ]
  },
  {
   "cell_type": "markdown",
   "metadata": {},
   "source": [
    "**balance**"
   ]
  },
  {
   "cell_type": "markdown",
   "metadata": {},
   "source": [
    "Определим числовое описание этого признака:"
   ]
  },
  {
   "cell_type": "code",
   "execution_count": 13,
   "metadata": {},
   "outputs": [
    {
     "data": {
      "text/plain": [
       "count     10000.000000\n",
       "mean      76485.889288\n",
       "std       62397.405202\n",
       "min           0.000000\n",
       "25%           0.000000\n",
       "50%       97198.540000\n",
       "75%      127644.240000\n",
       "max      250898.090000\n",
       "Name: balance, dtype: float64"
      ]
     },
     "execution_count": 13,
     "metadata": {},
     "output_type": "execute_result"
    }
   ],
   "source": [
    "df['balance'].describe()"
   ]
  },
  {
   "cell_type": "markdown",
   "metadata": {},
   "source": [
    "Кроме как интересного факта в том, что как минимум у 25% клиентов банка нулевой баланс на счёте, аномалий здесь нет."
   ]
  },
  {
   "cell_type": "markdown",
   "metadata": {},
   "source": [
    "**num_of_products**"
   ]
  },
  {
   "cell_type": "markdown",
   "metadata": {},
   "source": [
    "Определим числовое описание этого признака:"
   ]
  },
  {
   "cell_type": "code",
   "execution_count": 14,
   "metadata": {},
   "outputs": [
    {
     "data": {
      "text/plain": [
       "count    10000.000000\n",
       "mean         1.530200\n",
       "std          0.581654\n",
       "min          1.000000\n",
       "25%          1.000000\n",
       "50%          1.000000\n",
       "75%          2.000000\n",
       "max          4.000000\n",
       "Name: num_of_products, dtype: float64"
      ]
     },
     "execution_count": 14,
     "metadata": {},
     "output_type": "execute_result"
    }
   ],
   "source": [
    "df['num_of_products'].describe()"
   ]
  },
  {
   "cell_type": "markdown",
   "metadata": {},
   "source": [
    "Аномалии в данном столбце отсутствуют."
   ]
  },
  {
   "cell_type": "markdown",
   "metadata": {},
   "source": [
    "**has_credit_card**"
   ]
  },
  {
   "cell_type": "markdown",
   "metadata": {},
   "source": [
    "Определим уникальные значения этого признака:"
   ]
  },
  {
   "cell_type": "code",
   "execution_count": 15,
   "metadata": {},
   "outputs": [
    {
     "data": {
      "text/plain": [
       "array([1, 0])"
      ]
     },
     "execution_count": 15,
     "metadata": {},
     "output_type": "execute_result"
    }
   ],
   "source": [
    "df['has_credit_card'].unique()"
   ]
  },
  {
   "cell_type": "markdown",
   "metadata": {},
   "source": [
    "Аномалии в данном столбце отсутствуют."
   ]
  },
  {
   "cell_type": "markdown",
   "metadata": {},
   "source": [
    "**is_active_member**"
   ]
  },
  {
   "cell_type": "markdown",
   "metadata": {},
   "source": [
    "Определим уникальные значения этого признака:"
   ]
  },
  {
   "cell_type": "code",
   "execution_count": 16,
   "metadata": {},
   "outputs": [
    {
     "data": {
      "text/plain": [
       "array([1, 0])"
      ]
     },
     "execution_count": 16,
     "metadata": {},
     "output_type": "execute_result"
    }
   ],
   "source": [
    "df['is_active_member'].unique()"
   ]
  },
  {
   "cell_type": "markdown",
   "metadata": {},
   "source": [
    "Аномалии в данном столбце отсутствуют."
   ]
  },
  {
   "cell_type": "markdown",
   "metadata": {},
   "source": [
    "**estimated_salary**"
   ]
  },
  {
   "cell_type": "markdown",
   "metadata": {},
   "source": [
    "Определим числовое описание этого признака:"
   ]
  },
  {
   "cell_type": "code",
   "execution_count": 17,
   "metadata": {},
   "outputs": [
    {
     "data": {
      "text/plain": [
       "count     10000.000000\n",
       "mean     100090.239881\n",
       "std       57510.492818\n",
       "min          11.580000\n",
       "25%       51002.110000\n",
       "50%      100193.915000\n",
       "75%      149388.247500\n",
       "max      199992.480000\n",
       "Name: estimated_salary, dtype: float64"
      ]
     },
     "execution_count": 17,
     "metadata": {},
     "output_type": "execute_result"
    }
   ],
   "source": [
    "df['estimated_salary'].describe()"
   ]
  },
  {
   "cell_type": "markdown",
   "metadata": {},
   "source": [
    "По верхней границе вопросов нет. Хотя, нам неизвестна точная валюта, представленная в этом датасете, а также, то, за какой период представлена зарплата (месяц или год), но она вполне соотносится с медианным значением, оставаясь в тех же порядках.\n",
    "\n",
    "Если считать это долларами или евро, что наиболее вероятно, учитывая, что данные в датасете представлены по европейским странам, а автор датасета явно не русскоязычный, то даже для датасета 5-летней давности (судя по дате на Kaggle) медианна зарплата за год в переводе на рубли будет достигать 500 тысяч рублей. Но, вероятно, для указанных стран всё так и есть с учётом более высоких цен и в целом более высокого уровня экономики.\n",
    "\n",
    "Больше внимания на себя заостряет нижняя граница. Вероятно, это безработные клиенты. Минимальное значение \"11\" не похоже даже на какое-либо пособие, но прежде чем делать вывод об аномальности такого значения, посмотрим на сами данные, отсортировав их по возрастанию."
   ]
  },
  {
   "cell_type": "code",
   "execution_count": 18,
   "metadata": {
    "scrolled": true
   },
   "outputs": [
    {
     "data": {
      "text/html": [
       "<div>\n",
       "<style scoped>\n",
       "    .dataframe tbody tr th:only-of-type {\n",
       "        vertical-align: middle;\n",
       "    }\n",
       "\n",
       "    .dataframe tbody tr th {\n",
       "        vertical-align: top;\n",
       "    }\n",
       "\n",
       "    .dataframe thead th {\n",
       "        text-align: right;\n",
       "    }\n",
       "</style>\n",
       "<table border=\"1\" class=\"dataframe\">\n",
       "  <thead>\n",
       "    <tr style=\"text-align: right;\">\n",
       "      <th></th>\n",
       "      <th>credit_score</th>\n",
       "      <th>geography</th>\n",
       "      <th>gender</th>\n",
       "      <th>age</th>\n",
       "      <th>tenure</th>\n",
       "      <th>balance</th>\n",
       "      <th>num_of_products</th>\n",
       "      <th>has_credit_card</th>\n",
       "      <th>is_active_member</th>\n",
       "      <th>estimated_salary</th>\n",
       "      <th>exited</th>\n",
       "    </tr>\n",
       "  </thead>\n",
       "  <tbody>\n",
       "    <tr>\n",
       "      <th>2362</th>\n",
       "      <td>709</td>\n",
       "      <td>Germany</td>\n",
       "      <td>Male</td>\n",
       "      <td>45</td>\n",
       "      <td>4.0</td>\n",
       "      <td>122917.71</td>\n",
       "      <td>1</td>\n",
       "      <td>1</td>\n",
       "      <td>1</td>\n",
       "      <td>11.58</td>\n",
       "      <td>1</td>\n",
       "    </tr>\n",
       "    <tr>\n",
       "      <th>9647</th>\n",
       "      <td>625</td>\n",
       "      <td>France</td>\n",
       "      <td>Male</td>\n",
       "      <td>31</td>\n",
       "      <td>5.0</td>\n",
       "      <td>0.00</td>\n",
       "      <td>2</td>\n",
       "      <td>0</td>\n",
       "      <td>1</td>\n",
       "      <td>90.07</td>\n",
       "      <td>0</td>\n",
       "    </tr>\n",
       "    <tr>\n",
       "      <th>9010</th>\n",
       "      <td>645</td>\n",
       "      <td>Germany</td>\n",
       "      <td>Female</td>\n",
       "      <td>59</td>\n",
       "      <td>8.0</td>\n",
       "      <td>121669.93</td>\n",
       "      <td>2</td>\n",
       "      <td>0</td>\n",
       "      <td>0</td>\n",
       "      <td>91.75</td>\n",
       "      <td>1</td>\n",
       "    </tr>\n",
       "    <tr>\n",
       "      <th>5548</th>\n",
       "      <td>710</td>\n",
       "      <td>France</td>\n",
       "      <td>Male</td>\n",
       "      <td>38</td>\n",
       "      <td>2.0</td>\n",
       "      <td>0.00</td>\n",
       "      <td>2</td>\n",
       "      <td>1</td>\n",
       "      <td>0</td>\n",
       "      <td>96.27</td>\n",
       "      <td>0</td>\n",
       "    </tr>\n",
       "    <tr>\n",
       "      <th>4989</th>\n",
       "      <td>629</td>\n",
       "      <td>France</td>\n",
       "      <td>Male</td>\n",
       "      <td>40</td>\n",
       "      <td>NaN</td>\n",
       "      <td>0.00</td>\n",
       "      <td>1</td>\n",
       "      <td>1</td>\n",
       "      <td>0</td>\n",
       "      <td>106.67</td>\n",
       "      <td>0</td>\n",
       "    </tr>\n",
       "    <tr>\n",
       "      <th>7565</th>\n",
       "      <td>708</td>\n",
       "      <td>France</td>\n",
       "      <td>Male</td>\n",
       "      <td>52</td>\n",
       "      <td>10.0</td>\n",
       "      <td>105355.81</td>\n",
       "      <td>1</td>\n",
       "      <td>1</td>\n",
       "      <td>0</td>\n",
       "      <td>123.07</td>\n",
       "      <td>1</td>\n",
       "    </tr>\n",
       "    <tr>\n",
       "      <th>2498</th>\n",
       "      <td>718</td>\n",
       "      <td>France</td>\n",
       "      <td>Male</td>\n",
       "      <td>37</td>\n",
       "      <td>8.0</td>\n",
       "      <td>0.00</td>\n",
       "      <td>2</td>\n",
       "      <td>1</td>\n",
       "      <td>1</td>\n",
       "      <td>142.81</td>\n",
       "      <td>0</td>\n",
       "    </tr>\n",
       "    <tr>\n",
       "      <th>8722</th>\n",
       "      <td>621</td>\n",
       "      <td>France</td>\n",
       "      <td>Male</td>\n",
       "      <td>35</td>\n",
       "      <td>7.0</td>\n",
       "      <td>87619.29</td>\n",
       "      <td>1</td>\n",
       "      <td>1</td>\n",
       "      <td>0</td>\n",
       "      <td>143.34</td>\n",
       "      <td>0</td>\n",
       "    </tr>\n",
       "    <tr>\n",
       "      <th>4774</th>\n",
       "      <td>811</td>\n",
       "      <td>France</td>\n",
       "      <td>Female</td>\n",
       "      <td>35</td>\n",
       "      <td>7.0</td>\n",
       "      <td>0.00</td>\n",
       "      <td>1</td>\n",
       "      <td>1</td>\n",
       "      <td>1</td>\n",
       "      <td>178.19</td>\n",
       "      <td>0</td>\n",
       "    </tr>\n",
       "    <tr>\n",
       "      <th>1451</th>\n",
       "      <td>551</td>\n",
       "      <td>France</td>\n",
       "      <td>Female</td>\n",
       "      <td>38</td>\n",
       "      <td>10.0</td>\n",
       "      <td>0.00</td>\n",
       "      <td>2</td>\n",
       "      <td>1</td>\n",
       "      <td>1</td>\n",
       "      <td>216.27</td>\n",
       "      <td>0</td>\n",
       "    </tr>\n",
       "    <tr>\n",
       "      <th>1462</th>\n",
       "      <td>616</td>\n",
       "      <td>Germany</td>\n",
       "      <td>Female</td>\n",
       "      <td>41</td>\n",
       "      <td>1.0</td>\n",
       "      <td>103560.57</td>\n",
       "      <td>1</td>\n",
       "      <td>1</td>\n",
       "      <td>0</td>\n",
       "      <td>236.45</td>\n",
       "      <td>1</td>\n",
       "    </tr>\n",
       "    <tr>\n",
       "      <th>3446</th>\n",
       "      <td>649</td>\n",
       "      <td>France</td>\n",
       "      <td>Male</td>\n",
       "      <td>37</td>\n",
       "      <td>9.0</td>\n",
       "      <td>87374.88</td>\n",
       "      <td>2</td>\n",
       "      <td>1</td>\n",
       "      <td>1</td>\n",
       "      <td>247.36</td>\n",
       "      <td>0</td>\n",
       "    </tr>\n",
       "    <tr>\n",
       "      <th>8502</th>\n",
       "      <td>530</td>\n",
       "      <td>France</td>\n",
       "      <td>Male</td>\n",
       "      <td>37</td>\n",
       "      <td>8.0</td>\n",
       "      <td>0.00</td>\n",
       "      <td>2</td>\n",
       "      <td>1</td>\n",
       "      <td>1</td>\n",
       "      <td>287.99</td>\n",
       "      <td>0</td>\n",
       "    </tr>\n",
       "    <tr>\n",
       "      <th>9649</th>\n",
       "      <td>715</td>\n",
       "      <td>France</td>\n",
       "      <td>Female</td>\n",
       "      <td>38</td>\n",
       "      <td>0.0</td>\n",
       "      <td>0.00</td>\n",
       "      <td>2</td>\n",
       "      <td>1</td>\n",
       "      <td>1</td>\n",
       "      <td>332.81</td>\n",
       "      <td>0</td>\n",
       "    </tr>\n",
       "    <tr>\n",
       "      <th>2046</th>\n",
       "      <td>520</td>\n",
       "      <td>Germany</td>\n",
       "      <td>Male</td>\n",
       "      <td>34</td>\n",
       "      <td>8.0</td>\n",
       "      <td>120018.86</td>\n",
       "      <td>2</td>\n",
       "      <td>1</td>\n",
       "      <td>1</td>\n",
       "      <td>343.38</td>\n",
       "      <td>0</td>\n",
       "    </tr>\n",
       "    <tr>\n",
       "      <th>396</th>\n",
       "      <td>557</td>\n",
       "      <td>France</td>\n",
       "      <td>Male</td>\n",
       "      <td>33</td>\n",
       "      <td>3.0</td>\n",
       "      <td>54503.55</td>\n",
       "      <td>1</td>\n",
       "      <td>1</td>\n",
       "      <td>1</td>\n",
       "      <td>371.05</td>\n",
       "      <td>0</td>\n",
       "    </tr>\n",
       "    <tr>\n",
       "      <th>393</th>\n",
       "      <td>556</td>\n",
       "      <td>Spain</td>\n",
       "      <td>Male</td>\n",
       "      <td>38</td>\n",
       "      <td>8.0</td>\n",
       "      <td>0.00</td>\n",
       "      <td>2</td>\n",
       "      <td>0</td>\n",
       "      <td>0</td>\n",
       "      <td>417.41</td>\n",
       "      <td>1</td>\n",
       "    </tr>\n",
       "    <tr>\n",
       "      <th>5675</th>\n",
       "      <td>766</td>\n",
       "      <td>France</td>\n",
       "      <td>Female</td>\n",
       "      <td>26</td>\n",
       "      <td>3.0</td>\n",
       "      <td>104258.80</td>\n",
       "      <td>1</td>\n",
       "      <td>1</td>\n",
       "      <td>1</td>\n",
       "      <td>428.23</td>\n",
       "      <td>0</td>\n",
       "    </tr>\n",
       "    <tr>\n",
       "      <th>5120</th>\n",
       "      <td>663</td>\n",
       "      <td>France</td>\n",
       "      <td>Male</td>\n",
       "      <td>26</td>\n",
       "      <td>NaN</td>\n",
       "      <td>141462.13</td>\n",
       "      <td>1</td>\n",
       "      <td>1</td>\n",
       "      <td>0</td>\n",
       "      <td>440.20</td>\n",
       "      <td>0</td>\n",
       "    </tr>\n",
       "    <tr>\n",
       "      <th>925</th>\n",
       "      <td>714</td>\n",
       "      <td>Germany</td>\n",
       "      <td>Female</td>\n",
       "      <td>36</td>\n",
       "      <td>1.0</td>\n",
       "      <td>101609.01</td>\n",
       "      <td>2</td>\n",
       "      <td>1</td>\n",
       "      <td>1</td>\n",
       "      <td>447.73</td>\n",
       "      <td>0</td>\n",
       "    </tr>\n",
       "    <tr>\n",
       "      <th>8671</th>\n",
       "      <td>542</td>\n",
       "      <td>Germany</td>\n",
       "      <td>Female</td>\n",
       "      <td>35</td>\n",
       "      <td>9.0</td>\n",
       "      <td>127543.11</td>\n",
       "      <td>2</td>\n",
       "      <td>1</td>\n",
       "      <td>0</td>\n",
       "      <td>468.94</td>\n",
       "      <td>1</td>\n",
       "    </tr>\n",
       "    <tr>\n",
       "      <th>7224</th>\n",
       "      <td>751</td>\n",
       "      <td>Spain</td>\n",
       "      <td>Female</td>\n",
       "      <td>34</td>\n",
       "      <td>8.0</td>\n",
       "      <td>127095.14</td>\n",
       "      <td>2</td>\n",
       "      <td>0</td>\n",
       "      <td>0</td>\n",
       "      <td>479.54</td>\n",
       "      <td>0</td>\n",
       "    </tr>\n",
       "    <tr>\n",
       "      <th>7226</th>\n",
       "      <td>777</td>\n",
       "      <td>Germany</td>\n",
       "      <td>Female</td>\n",
       "      <td>46</td>\n",
       "      <td>0.0</td>\n",
       "      <td>107362.80</td>\n",
       "      <td>1</td>\n",
       "      <td>1</td>\n",
       "      <td>0</td>\n",
       "      <td>487.30</td>\n",
       "      <td>0</td>\n",
       "    </tr>\n",
       "    <tr>\n",
       "      <th>7776</th>\n",
       "      <td>736</td>\n",
       "      <td>France</td>\n",
       "      <td>Female</td>\n",
       "      <td>63</td>\n",
       "      <td>10.0</td>\n",
       "      <td>0.00</td>\n",
       "      <td>2</td>\n",
       "      <td>0</td>\n",
       "      <td>1</td>\n",
       "      <td>502.70</td>\n",
       "      <td>0</td>\n",
       "    </tr>\n",
       "    <tr>\n",
       "      <th>6956</th>\n",
       "      <td>571</td>\n",
       "      <td>France</td>\n",
       "      <td>Male</td>\n",
       "      <td>49</td>\n",
       "      <td>4.0</td>\n",
       "      <td>180614.04</td>\n",
       "      <td>1</td>\n",
       "      <td>0</td>\n",
       "      <td>0</td>\n",
       "      <td>523.00</td>\n",
       "      <td>0</td>\n",
       "    </tr>\n",
       "  </tbody>\n",
       "</table>\n",
       "</div>"
      ],
      "text/plain": [
       "      credit_score geography  gender  age  tenure    balance  num_of_products  \\\n",
       "2362           709   Germany    Male   45     4.0  122917.71                1   \n",
       "9647           625    France    Male   31     5.0       0.00                2   \n",
       "9010           645   Germany  Female   59     8.0  121669.93                2   \n",
       "5548           710    France    Male   38     2.0       0.00                2   \n",
       "4989           629    France    Male   40     NaN       0.00                1   \n",
       "7565           708    France    Male   52    10.0  105355.81                1   \n",
       "2498           718    France    Male   37     8.0       0.00                2   \n",
       "8722           621    France    Male   35     7.0   87619.29                1   \n",
       "4774           811    France  Female   35     7.0       0.00                1   \n",
       "1451           551    France  Female   38    10.0       0.00                2   \n",
       "1462           616   Germany  Female   41     1.0  103560.57                1   \n",
       "3446           649    France    Male   37     9.0   87374.88                2   \n",
       "8502           530    France    Male   37     8.0       0.00                2   \n",
       "9649           715    France  Female   38     0.0       0.00                2   \n",
       "2046           520   Germany    Male   34     8.0  120018.86                2   \n",
       "396            557    France    Male   33     3.0   54503.55                1   \n",
       "393            556     Spain    Male   38     8.0       0.00                2   \n",
       "5675           766    France  Female   26     3.0  104258.80                1   \n",
       "5120           663    France    Male   26     NaN  141462.13                1   \n",
       "925            714   Germany  Female   36     1.0  101609.01                2   \n",
       "8671           542   Germany  Female   35     9.0  127543.11                2   \n",
       "7224           751     Spain  Female   34     8.0  127095.14                2   \n",
       "7226           777   Germany  Female   46     0.0  107362.80                1   \n",
       "7776           736    France  Female   63    10.0       0.00                2   \n",
       "6956           571    France    Male   49     4.0  180614.04                1   \n",
       "\n",
       "      has_credit_card  is_active_member  estimated_salary  exited  \n",
       "2362                1                 1             11.58       1  \n",
       "9647                0                 1             90.07       0  \n",
       "9010                0                 0             91.75       1  \n",
       "5548                1                 0             96.27       0  \n",
       "4989                1                 0            106.67       0  \n",
       "7565                1                 0            123.07       1  \n",
       "2498                1                 1            142.81       0  \n",
       "8722                1                 0            143.34       0  \n",
       "4774                1                 1            178.19       0  \n",
       "1451                1                 1            216.27       0  \n",
       "1462                1                 0            236.45       1  \n",
       "3446                1                 1            247.36       0  \n",
       "8502                1                 1            287.99       0  \n",
       "9649                1                 1            332.81       0  \n",
       "2046                1                 1            343.38       0  \n",
       "396                 1                 1            371.05       0  \n",
       "393                 0                 0            417.41       1  \n",
       "5675                1                 1            428.23       0  \n",
       "5120                1                 0            440.20       0  \n",
       "925                 1                 1            447.73       0  \n",
       "8671                1                 0            468.94       1  \n",
       "7224                0                 0            479.54       0  \n",
       "7226                1                 0            487.30       0  \n",
       "7776                0                 1            502.70       0  \n",
       "6956                0                 0            523.00       0  "
      ]
     },
     "execution_count": 18,
     "metadata": {},
     "output_type": "execute_result"
    }
   ],
   "source": [
    "df.sort_values(by='estimated_salary').head(25)"
   ]
  },
  {
   "cell_type": "markdown",
   "metadata": {},
   "source": [
    "В целом нельзя сказать, что *11.58* совсем уж уникальное значение, так как оно стоит достаточно близко к остальным низким значениям зарплаты. Учитывая, что это фактически единичный случай, его влияние на обучение модели будет минимальным или вовсе отсутствовать."
   ]
  },
  {
   "cell_type": "markdown",
   "metadata": {},
   "source": [
    "#### Анализ пропусков в данных"
   ]
  },
  {
   "cell_type": "markdown",
   "metadata": {},
   "source": [
    "В данном датасете присутствуют пропуски по полю `tenure`. Рассмотрим данные на примере первых 15 строк датасета с пропусками."
   ]
  },
  {
   "cell_type": "code",
   "execution_count": 19,
   "metadata": {
    "scrolled": true
   },
   "outputs": [
    {
     "data": {
      "text/html": [
       "<div>\n",
       "<style scoped>\n",
       "    .dataframe tbody tr th:only-of-type {\n",
       "        vertical-align: middle;\n",
       "    }\n",
       "\n",
       "    .dataframe tbody tr th {\n",
       "        vertical-align: top;\n",
       "    }\n",
       "\n",
       "    .dataframe thead th {\n",
       "        text-align: right;\n",
       "    }\n",
       "</style>\n",
       "<table border=\"1\" class=\"dataframe\">\n",
       "  <thead>\n",
       "    <tr style=\"text-align: right;\">\n",
       "      <th></th>\n",
       "      <th>credit_score</th>\n",
       "      <th>geography</th>\n",
       "      <th>gender</th>\n",
       "      <th>age</th>\n",
       "      <th>tenure</th>\n",
       "      <th>balance</th>\n",
       "      <th>num_of_products</th>\n",
       "      <th>has_credit_card</th>\n",
       "      <th>is_active_member</th>\n",
       "      <th>estimated_salary</th>\n",
       "      <th>exited</th>\n",
       "    </tr>\n",
       "  </thead>\n",
       "  <tbody>\n",
       "    <tr>\n",
       "      <th>30</th>\n",
       "      <td>591</td>\n",
       "      <td>Spain</td>\n",
       "      <td>Female</td>\n",
       "      <td>39</td>\n",
       "      <td>NaN</td>\n",
       "      <td>0.00</td>\n",
       "      <td>3</td>\n",
       "      <td>1</td>\n",
       "      <td>0</td>\n",
       "      <td>140469.38</td>\n",
       "      <td>1</td>\n",
       "    </tr>\n",
       "    <tr>\n",
       "      <th>48</th>\n",
       "      <td>550</td>\n",
       "      <td>Germany</td>\n",
       "      <td>Male</td>\n",
       "      <td>38</td>\n",
       "      <td>NaN</td>\n",
       "      <td>103391.38</td>\n",
       "      <td>1</td>\n",
       "      <td>0</td>\n",
       "      <td>1</td>\n",
       "      <td>90878.13</td>\n",
       "      <td>0</td>\n",
       "    </tr>\n",
       "    <tr>\n",
       "      <th>51</th>\n",
       "      <td>585</td>\n",
       "      <td>Germany</td>\n",
       "      <td>Male</td>\n",
       "      <td>36</td>\n",
       "      <td>NaN</td>\n",
       "      <td>146050.97</td>\n",
       "      <td>2</td>\n",
       "      <td>0</td>\n",
       "      <td>0</td>\n",
       "      <td>86424.57</td>\n",
       "      <td>0</td>\n",
       "    </tr>\n",
       "    <tr>\n",
       "      <th>53</th>\n",
       "      <td>655</td>\n",
       "      <td>Germany</td>\n",
       "      <td>Male</td>\n",
       "      <td>41</td>\n",
       "      <td>NaN</td>\n",
       "      <td>125561.97</td>\n",
       "      <td>1</td>\n",
       "      <td>0</td>\n",
       "      <td>0</td>\n",
       "      <td>164040.94</td>\n",
       "      <td>1</td>\n",
       "    </tr>\n",
       "    <tr>\n",
       "      <th>60</th>\n",
       "      <td>742</td>\n",
       "      <td>Germany</td>\n",
       "      <td>Male</td>\n",
       "      <td>35</td>\n",
       "      <td>NaN</td>\n",
       "      <td>136857.00</td>\n",
       "      <td>1</td>\n",
       "      <td>0</td>\n",
       "      <td>0</td>\n",
       "      <td>84509.57</td>\n",
       "      <td>0</td>\n",
       "    </tr>\n",
       "    <tr>\n",
       "      <th>82</th>\n",
       "      <td>543</td>\n",
       "      <td>France</td>\n",
       "      <td>Female</td>\n",
       "      <td>36</td>\n",
       "      <td>NaN</td>\n",
       "      <td>0.00</td>\n",
       "      <td>2</td>\n",
       "      <td>0</td>\n",
       "      <td>0</td>\n",
       "      <td>26019.59</td>\n",
       "      <td>0</td>\n",
       "    </tr>\n",
       "    <tr>\n",
       "      <th>85</th>\n",
       "      <td>652</td>\n",
       "      <td>Spain</td>\n",
       "      <td>Female</td>\n",
       "      <td>75</td>\n",
       "      <td>NaN</td>\n",
       "      <td>0.00</td>\n",
       "      <td>2</td>\n",
       "      <td>1</td>\n",
       "      <td>1</td>\n",
       "      <td>114675.75</td>\n",
       "      <td>0</td>\n",
       "    </tr>\n",
       "    <tr>\n",
       "      <th>94</th>\n",
       "      <td>730</td>\n",
       "      <td>Spain</td>\n",
       "      <td>Male</td>\n",
       "      <td>42</td>\n",
       "      <td>NaN</td>\n",
       "      <td>0.00</td>\n",
       "      <td>2</td>\n",
       "      <td>0</td>\n",
       "      <td>1</td>\n",
       "      <td>85982.47</td>\n",
       "      <td>0</td>\n",
       "    </tr>\n",
       "    <tr>\n",
       "      <th>99</th>\n",
       "      <td>413</td>\n",
       "      <td>France</td>\n",
       "      <td>Male</td>\n",
       "      <td>34</td>\n",
       "      <td>NaN</td>\n",
       "      <td>0.00</td>\n",
       "      <td>2</td>\n",
       "      <td>0</td>\n",
       "      <td>0</td>\n",
       "      <td>6534.18</td>\n",
       "      <td>0</td>\n",
       "    </tr>\n",
       "    <tr>\n",
       "      <th>111</th>\n",
       "      <td>538</td>\n",
       "      <td>Germany</td>\n",
       "      <td>Male</td>\n",
       "      <td>39</td>\n",
       "      <td>NaN</td>\n",
       "      <td>108055.10</td>\n",
       "      <td>2</td>\n",
       "      <td>1</td>\n",
       "      <td>0</td>\n",
       "      <td>27231.26</td>\n",
       "      <td>0</td>\n",
       "    </tr>\n",
       "    <tr>\n",
       "      <th>123</th>\n",
       "      <td>684</td>\n",
       "      <td>Germany</td>\n",
       "      <td>Female</td>\n",
       "      <td>48</td>\n",
       "      <td>NaN</td>\n",
       "      <td>126384.42</td>\n",
       "      <td>1</td>\n",
       "      <td>1</td>\n",
       "      <td>1</td>\n",
       "      <td>198129.36</td>\n",
       "      <td>0</td>\n",
       "    </tr>\n",
       "    <tr>\n",
       "      <th>125</th>\n",
       "      <td>432</td>\n",
       "      <td>France</td>\n",
       "      <td>Male</td>\n",
       "      <td>42</td>\n",
       "      <td>NaN</td>\n",
       "      <td>152603.45</td>\n",
       "      <td>1</td>\n",
       "      <td>1</td>\n",
       "      <td>0</td>\n",
       "      <td>110265.24</td>\n",
       "      <td>1</td>\n",
       "    </tr>\n",
       "    <tr>\n",
       "      <th>146</th>\n",
       "      <td>635</td>\n",
       "      <td>Spain</td>\n",
       "      <td>Female</td>\n",
       "      <td>29</td>\n",
       "      <td>NaN</td>\n",
       "      <td>138296.94</td>\n",
       "      <td>2</td>\n",
       "      <td>1</td>\n",
       "      <td>0</td>\n",
       "      <td>141075.51</td>\n",
       "      <td>0</td>\n",
       "    </tr>\n",
       "    <tr>\n",
       "      <th>162</th>\n",
       "      <td>800</td>\n",
       "      <td>France</td>\n",
       "      <td>Female</td>\n",
       "      <td>49</td>\n",
       "      <td>NaN</td>\n",
       "      <td>108007.36</td>\n",
       "      <td>1</td>\n",
       "      <td>0</td>\n",
       "      <td>0</td>\n",
       "      <td>47125.11</td>\n",
       "      <td>0</td>\n",
       "    </tr>\n",
       "    <tr>\n",
       "      <th>173</th>\n",
       "      <td>578</td>\n",
       "      <td>France</td>\n",
       "      <td>Male</td>\n",
       "      <td>30</td>\n",
       "      <td>NaN</td>\n",
       "      <td>169462.09</td>\n",
       "      <td>1</td>\n",
       "      <td>1</td>\n",
       "      <td>0</td>\n",
       "      <td>112187.11</td>\n",
       "      <td>0</td>\n",
       "    </tr>\n",
       "  </tbody>\n",
       "</table>\n",
       "</div>"
      ],
      "text/plain": [
       "     credit_score geography  gender  age  tenure    balance  num_of_products  \\\n",
       "30            591     Spain  Female   39     NaN       0.00                3   \n",
       "48            550   Germany    Male   38     NaN  103391.38                1   \n",
       "51            585   Germany    Male   36     NaN  146050.97                2   \n",
       "53            655   Germany    Male   41     NaN  125561.97                1   \n",
       "60            742   Germany    Male   35     NaN  136857.00                1   \n",
       "82            543    France  Female   36     NaN       0.00                2   \n",
       "85            652     Spain  Female   75     NaN       0.00                2   \n",
       "94            730     Spain    Male   42     NaN       0.00                2   \n",
       "99            413    France    Male   34     NaN       0.00                2   \n",
       "111           538   Germany    Male   39     NaN  108055.10                2   \n",
       "123           684   Germany  Female   48     NaN  126384.42                1   \n",
       "125           432    France    Male   42     NaN  152603.45                1   \n",
       "146           635     Spain  Female   29     NaN  138296.94                2   \n",
       "162           800    France  Female   49     NaN  108007.36                1   \n",
       "173           578    France    Male   30     NaN  169462.09                1   \n",
       "\n",
       "     has_credit_card  is_active_member  estimated_salary  exited  \n",
       "30                 1                 0         140469.38       1  \n",
       "48                 0                 1          90878.13       0  \n",
       "51                 0                 0          86424.57       0  \n",
       "53                 0                 0         164040.94       1  \n",
       "60                 0                 0          84509.57       0  \n",
       "82                 0                 0          26019.59       0  \n",
       "85                 1                 1         114675.75       0  \n",
       "94                 0                 1          85982.47       0  \n",
       "99                 0                 0           6534.18       0  \n",
       "111                1                 0          27231.26       0  \n",
       "123                1                 1         198129.36       0  \n",
       "125                1                 0         110265.24       1  \n",
       "146                1                 0         141075.51       0  \n",
       "162                0                 0          47125.11       0  \n",
       "173                1                 0         112187.11       0  "
      ]
     },
     "execution_count": 19,
     "metadata": {},
     "output_type": "execute_result"
    }
   ],
   "source": [
    "df[df['tenure'].isna()].head(15)"
   ]
  },
  {
   "cell_type": "markdown",
   "metadata": {},
   "source": [
    "Определить \"на глаз\" зависимость этого пропуска от каких-то других признаков не представляется возможным, т.к. в выводе данных выше не очевидны чёткие закономерности.\n",
    "\n",
    "Выходит, что у нас следующие варианты действий с пропусками:\n",
    "- Оставить их в датасете;\n",
    "- Заменить их на среднее/медианное значение;\n",
    "- Удалить из датасета.\n",
    "\n",
    "Первый вариант поможет сохранить больше данных в датасете, но неизвестно, как каждая из моделей отреагирует на пропуски в признаках, на которых она будет обучаться. Кроме того, `tenure` как признак, описывающий, сколько лет человек является клиентом банка, может существенно влиять на факт его возможного ухода из банка. Поэтому оставлять это в виде пропусков может быть нежелательно.\n",
    "\n",
    "Второй вариант также поможет сохранить больше данных в датасете, но при этом \"испортит\" их, внеся определённую неточность для будущего обучения. Учитывая, что объектов с пропусками по этому признаку почти 10% из этого датасета, будет плохо, если модель примет их во внимание и учтёт заполненные нами вручную пропуски, в то время, как на самом деле они могут и не соответствовать настоящей картине.\n",
    "\n",
    "Третий вариант снизит объём датасета почти на 10%, но вероятно, лучше обучиться на менее большой, но корректной выборке данных, нежели на более объёмной, но с потенциально неверными значениями признаков. Поэтому в данном случае примем решение об **удалении из датасета** объектов с пропусками по признаку `tenure`."
   ]
  },
  {
   "cell_type": "code",
   "execution_count": 20,
   "metadata": {},
   "outputs": [
    {
     "name": "stdout",
     "output_type": "stream",
     "text": [
      "<class 'pandas.core.frame.DataFrame'>\n",
      "Int64Index: 9091 entries, 0 to 9998\n",
      "Data columns (total 11 columns):\n",
      " #   Column            Non-Null Count  Dtype  \n",
      "---  ------            --------------  -----  \n",
      " 0   credit_score      9091 non-null   int64  \n",
      " 1   geography         9091 non-null   object \n",
      " 2   gender            9091 non-null   object \n",
      " 3   age               9091 non-null   int64  \n",
      " 4   tenure            9091 non-null   float64\n",
      " 5   balance           9091 non-null   float64\n",
      " 6   num_of_products   9091 non-null   int64  \n",
      " 7   has_credit_card   9091 non-null   int64  \n",
      " 8   is_active_member  9091 non-null   int64  \n",
      " 9   estimated_salary  9091 non-null   float64\n",
      " 10  exited            9091 non-null   int64  \n",
      "dtypes: float64(3), int64(6), object(2)\n",
      "memory usage: 852.3+ KB\n"
     ]
    }
   ],
   "source": [
    "df = df.dropna()\n",
    "\n",
    "df.info()"
   ]
  },
  {
   "cell_type": "markdown",
   "metadata": {},
   "source": [
    "Пропуски в данных удалены, теперь в датасете *9091 объект*."
   ]
  },
  {
   "cell_type": "markdown",
   "metadata": {},
   "source": [
    "#### Подготовка признаков"
   ]
  },
  {
   "cell_type": "markdown",
   "metadata": {},
   "source": [
    "Для того, чтобы модели были способны обучаться по категориальным признакам, переведём их в числовые. \n",
    "\n",
    "Для этого будем использовать технику **OHE**, за счёт которой для каждого существующего значения признака будет создан свой столбец с возможными значениями \"*0*\" или \"*1*\"."
   ]
  },
  {
   "cell_type": "markdown",
   "metadata": {},
   "source": [
    "##### Признак \"geography\""
   ]
  },
  {
   "cell_type": "markdown",
   "metadata": {},
   "source": [
    "Как мы уже увидели в п.1.3.3., признак `geography` содержит всего 3 возможных значения. С учётом избегания \"дамми-ловушки\", и как следствие, избавлением от одного из столбцов, значение которого можно восстановить по значениям оставшихся двух, получим два новых столбца вместо оригинального."
   ]
  },
  {
   "cell_type": "code",
   "execution_count": 21,
   "metadata": {},
   "outputs": [
    {
     "data": {
      "text/html": [
       "<div>\n",
       "<style scoped>\n",
       "    .dataframe tbody tr th:only-of-type {\n",
       "        vertical-align: middle;\n",
       "    }\n",
       "\n",
       "    .dataframe tbody tr th {\n",
       "        vertical-align: top;\n",
       "    }\n",
       "\n",
       "    .dataframe thead th {\n",
       "        text-align: right;\n",
       "    }\n",
       "</style>\n",
       "<table border=\"1\" class=\"dataframe\">\n",
       "  <thead>\n",
       "    <tr style=\"text-align: right;\">\n",
       "      <th></th>\n",
       "      <th>geography_Germany</th>\n",
       "      <th>geography_Spain</th>\n",
       "      <th>credit_score</th>\n",
       "      <th>gender</th>\n",
       "      <th>age</th>\n",
       "      <th>tenure</th>\n",
       "      <th>balance</th>\n",
       "      <th>num_of_products</th>\n",
       "      <th>has_credit_card</th>\n",
       "      <th>is_active_member</th>\n",
       "      <th>estimated_salary</th>\n",
       "      <th>exited</th>\n",
       "    </tr>\n",
       "  </thead>\n",
       "  <tbody>\n",
       "    <tr>\n",
       "      <th>0</th>\n",
       "      <td>0</td>\n",
       "      <td>0</td>\n",
       "      <td>619</td>\n",
       "      <td>Female</td>\n",
       "      <td>42</td>\n",
       "      <td>2.0</td>\n",
       "      <td>0.00</td>\n",
       "      <td>1</td>\n",
       "      <td>1</td>\n",
       "      <td>1</td>\n",
       "      <td>101348.88</td>\n",
       "      <td>1</td>\n",
       "    </tr>\n",
       "    <tr>\n",
       "      <th>1</th>\n",
       "      <td>0</td>\n",
       "      <td>1</td>\n",
       "      <td>608</td>\n",
       "      <td>Female</td>\n",
       "      <td>41</td>\n",
       "      <td>1.0</td>\n",
       "      <td>83807.86</td>\n",
       "      <td>1</td>\n",
       "      <td>0</td>\n",
       "      <td>1</td>\n",
       "      <td>112542.58</td>\n",
       "      <td>0</td>\n",
       "    </tr>\n",
       "    <tr>\n",
       "      <th>2</th>\n",
       "      <td>0</td>\n",
       "      <td>0</td>\n",
       "      <td>502</td>\n",
       "      <td>Female</td>\n",
       "      <td>42</td>\n",
       "      <td>8.0</td>\n",
       "      <td>159660.80</td>\n",
       "      <td>3</td>\n",
       "      <td>1</td>\n",
       "      <td>0</td>\n",
       "      <td>113931.57</td>\n",
       "      <td>1</td>\n",
       "    </tr>\n",
       "    <tr>\n",
       "      <th>3</th>\n",
       "      <td>0</td>\n",
       "      <td>0</td>\n",
       "      <td>699</td>\n",
       "      <td>Female</td>\n",
       "      <td>39</td>\n",
       "      <td>1.0</td>\n",
       "      <td>0.00</td>\n",
       "      <td>2</td>\n",
       "      <td>0</td>\n",
       "      <td>0</td>\n",
       "      <td>93826.63</td>\n",
       "      <td>0</td>\n",
       "    </tr>\n",
       "    <tr>\n",
       "      <th>4</th>\n",
       "      <td>0</td>\n",
       "      <td>1</td>\n",
       "      <td>850</td>\n",
       "      <td>Female</td>\n",
       "      <td>43</td>\n",
       "      <td>2.0</td>\n",
       "      <td>125510.82</td>\n",
       "      <td>1</td>\n",
       "      <td>1</td>\n",
       "      <td>1</td>\n",
       "      <td>79084.10</td>\n",
       "      <td>0</td>\n",
       "    </tr>\n",
       "  </tbody>\n",
       "</table>\n",
       "</div>"
      ],
      "text/plain": [
       "   geography_Germany  geography_Spain  credit_score  gender  age  tenure  \\\n",
       "0                  0                0           619  Female   42     2.0   \n",
       "1                  0                1           608  Female   41     1.0   \n",
       "2                  0                0           502  Female   42     8.0   \n",
       "3                  0                0           699  Female   39     1.0   \n",
       "4                  0                1           850  Female   43     2.0   \n",
       "\n",
       "     balance  num_of_products  has_credit_card  is_active_member  \\\n",
       "0       0.00                1                1                 1   \n",
       "1   83807.86                1                0                 1   \n",
       "2  159660.80                3                1                 0   \n",
       "3       0.00                2                0                 0   \n",
       "4  125510.82                1                1                 1   \n",
       "\n",
       "   estimated_salary  exited  \n",
       "0         101348.88       1  \n",
       "1         112542.58       0  \n",
       "2         113931.57       1  \n",
       "3          93826.63       0  \n",
       "4          79084.10       0  "
      ]
     },
     "execution_count": 21,
     "metadata": {},
     "output_type": "execute_result"
    }
   ],
   "source": [
    "try:\n",
    "    # Выполняем соединение создаваемых столбцов с датасетом \"df\"\n",
    "    df = pd.concat([pd.get_dummies(df['geography'], drop_first=True, prefix='geography'), df], axis=1)\n",
    "    # Удаляем изначальный столбец\n",
    "    df = df.drop('geography', axis=1)\n",
    "except:\n",
    "    print('Столбец \"geography\" уже преобразован')\n",
    "\n",
    "df.head()"
   ]
  },
  {
   "cell_type": "markdown",
   "metadata": {},
   "source": [
    "Как и ожидалось, получили всего два столбца. А значение третьего признака определяется по значениям первых двух."
   ]
  },
  {
   "cell_type": "markdown",
   "metadata": {},
   "source": [
    "##### Признак \"gender\""
   ]
  },
  {
   "cell_type": "markdown",
   "metadata": {},
   "source": [
    "Аналогично пункту 1.4.1., выполним подготовку признака `gender`, заменив его категориальные значения на столбцы с числовыми значениями."
   ]
  },
  {
   "cell_type": "code",
   "execution_count": 22,
   "metadata": {},
   "outputs": [
    {
     "data": {
      "text/html": [
       "<div>\n",
       "<style scoped>\n",
       "    .dataframe tbody tr th:only-of-type {\n",
       "        vertical-align: middle;\n",
       "    }\n",
       "\n",
       "    .dataframe tbody tr th {\n",
       "        vertical-align: top;\n",
       "    }\n",
       "\n",
       "    .dataframe thead th {\n",
       "        text-align: right;\n",
       "    }\n",
       "</style>\n",
       "<table border=\"1\" class=\"dataframe\">\n",
       "  <thead>\n",
       "    <tr style=\"text-align: right;\">\n",
       "      <th></th>\n",
       "      <th>gender_Male</th>\n",
       "      <th>geography_Germany</th>\n",
       "      <th>geography_Spain</th>\n",
       "      <th>credit_score</th>\n",
       "      <th>age</th>\n",
       "      <th>tenure</th>\n",
       "      <th>balance</th>\n",
       "      <th>num_of_products</th>\n",
       "      <th>has_credit_card</th>\n",
       "      <th>is_active_member</th>\n",
       "      <th>estimated_salary</th>\n",
       "      <th>exited</th>\n",
       "    </tr>\n",
       "  </thead>\n",
       "  <tbody>\n",
       "    <tr>\n",
       "      <th>0</th>\n",
       "      <td>0</td>\n",
       "      <td>0</td>\n",
       "      <td>0</td>\n",
       "      <td>619</td>\n",
       "      <td>42</td>\n",
       "      <td>2.0</td>\n",
       "      <td>0.00</td>\n",
       "      <td>1</td>\n",
       "      <td>1</td>\n",
       "      <td>1</td>\n",
       "      <td>101348.88</td>\n",
       "      <td>1</td>\n",
       "    </tr>\n",
       "    <tr>\n",
       "      <th>1</th>\n",
       "      <td>0</td>\n",
       "      <td>0</td>\n",
       "      <td>1</td>\n",
       "      <td>608</td>\n",
       "      <td>41</td>\n",
       "      <td>1.0</td>\n",
       "      <td>83807.86</td>\n",
       "      <td>1</td>\n",
       "      <td>0</td>\n",
       "      <td>1</td>\n",
       "      <td>112542.58</td>\n",
       "      <td>0</td>\n",
       "    </tr>\n",
       "    <tr>\n",
       "      <th>2</th>\n",
       "      <td>0</td>\n",
       "      <td>0</td>\n",
       "      <td>0</td>\n",
       "      <td>502</td>\n",
       "      <td>42</td>\n",
       "      <td>8.0</td>\n",
       "      <td>159660.80</td>\n",
       "      <td>3</td>\n",
       "      <td>1</td>\n",
       "      <td>0</td>\n",
       "      <td>113931.57</td>\n",
       "      <td>1</td>\n",
       "    </tr>\n",
       "    <tr>\n",
       "      <th>3</th>\n",
       "      <td>0</td>\n",
       "      <td>0</td>\n",
       "      <td>0</td>\n",
       "      <td>699</td>\n",
       "      <td>39</td>\n",
       "      <td>1.0</td>\n",
       "      <td>0.00</td>\n",
       "      <td>2</td>\n",
       "      <td>0</td>\n",
       "      <td>0</td>\n",
       "      <td>93826.63</td>\n",
       "      <td>0</td>\n",
       "    </tr>\n",
       "    <tr>\n",
       "      <th>4</th>\n",
       "      <td>0</td>\n",
       "      <td>0</td>\n",
       "      <td>1</td>\n",
       "      <td>850</td>\n",
       "      <td>43</td>\n",
       "      <td>2.0</td>\n",
       "      <td>125510.82</td>\n",
       "      <td>1</td>\n",
       "      <td>1</td>\n",
       "      <td>1</td>\n",
       "      <td>79084.10</td>\n",
       "      <td>0</td>\n",
       "    </tr>\n",
       "  </tbody>\n",
       "</table>\n",
       "</div>"
      ],
      "text/plain": [
       "   gender_Male  geography_Germany  geography_Spain  credit_score  age  tenure  \\\n",
       "0            0                  0                0           619   42     2.0   \n",
       "1            0                  0                1           608   41     1.0   \n",
       "2            0                  0                0           502   42     8.0   \n",
       "3            0                  0                0           699   39     1.0   \n",
       "4            0                  0                1           850   43     2.0   \n",
       "\n",
       "     balance  num_of_products  has_credit_card  is_active_member  \\\n",
       "0       0.00                1                1                 1   \n",
       "1   83807.86                1                0                 1   \n",
       "2  159660.80                3                1                 0   \n",
       "3       0.00                2                0                 0   \n",
       "4  125510.82                1                1                 1   \n",
       "\n",
       "   estimated_salary  exited  \n",
       "0         101348.88       1  \n",
       "1         112542.58       0  \n",
       "2         113931.57       1  \n",
       "3          93826.63       0  \n",
       "4          79084.10       0  "
      ]
     },
     "execution_count": 22,
     "metadata": {},
     "output_type": "execute_result"
    }
   ],
   "source": [
    "try:\n",
    "    # Выполняем соединение создаваемых столбцов с датасетом \"df\"\n",
    "    df = pd.concat([pd.get_dummies(df['gender'], drop_first=True, prefix='gender'), df], axis=1)\n",
    "    # Удаляем изначальный столбец\n",
    "    df = df.drop('gender', axis=1)\n",
    "except:\n",
    "    print('Столбец \"gender\" уже преобразован')\n",
    "\n",
    "df.head()"
   ]
  },
  {
   "cell_type": "markdown",
   "metadata": {},
   "source": [
    "Признак `gender` преобразован, получили всего один столбец. Значение второго определяется по значению первого."
   ]
  },
  {
   "cell_type": "markdown",
   "metadata": {},
   "source": [
    "#### Выводы"
   ]
  },
  {
   "cell_type": "markdown",
   "metadata": {},
   "source": [
    "На этапе предобработки данных были выполнены следующие действия, повлиявшие на исходный датасет:\n",
    "- Выполнено удаление трёх столбцов, не являющиеся адекватными признаками для нашей текущей задачи;\n",
    "- Было выполнено переименование ряда стобцов с целью привести их к семантически правильному виду для Python;\n",
    "- Была удалена почти 1/10 часть объектов по причине наличия пропусков, которые нет возможности заполнить такими значениями, и при этом обеспечить \"чистоту\" данных для обучения;\n",
    "- Признаки \"geopraphy\" и \"gender\" были приведены к числовым значениям.\n",
    "\n",
    "Дублей и явных аномалий не найдено."
   ]
  },
  {
   "cell_type": "markdown",
   "metadata": {},
   "source": [
    "### Разделение датасета на выборки"
   ]
  },
  {
   "cell_type": "markdown",
   "metadata": {},
   "source": [
    "Для того, чтобы обучить и корректно проверить качество работы модели, разделим исходный преобразованный датасет `df` на три выборки в соотношении 3:1:1:\n",
    "\n",
    "1. Обучающая выборка:\n",
    "    - Признаки (вопросы): ***`features_train`***;\n",
    "    - Целевые признаки (ответы): ***`target_train`***;\n",
    "    - Доля от общей выборки `df`: ***0.6***.\n",
    "2. Валидационная выборка:\n",
    "    - Признаки (вопросы): ***`features_valid`***;\n",
    "    - Целевые признаки (ответы): ***`target_valid`***;\n",
    "    - Доля от общей выборки `df`: ***0.2***.\n",
    "3. Тестовая выборка:\n",
    "    - Признаки (вопросы): ***`features_test`***;\n",
    "    - Целевые признаки (ответы): ***`target_test`***;\n",
    "    - Доля от общей выборки `df`: ***0.2***.\n",
    "\n",
    "Данные будут обучены на тренировочной выборке. Наилучшие параметры для улучшения работы модели будут найдены на валидационной выборке. И контрольное тестирование будет выполнено на тестовой выборке."
   ]
  },
  {
   "cell_type": "markdown",
   "metadata": {},
   "source": [
    "Перед тем как выполнять деление на указанные три выборки, определим также признаки `features` и целевой признаки `target`, чтобы сразу учитывать деление выборок по целевому признаку и остальным признакам."
   ]
  },
  {
   "cell_type": "code",
   "execution_count": 23,
   "metadata": {
    "scrolled": true
   },
   "outputs": [
    {
     "name": "stdout",
     "output_type": "stream",
     "text": [
      "features: (9091, 11)\n",
      "target: (9091,)\n"
     ]
    }
   ],
   "source": [
    "features = df.drop(['exited'], axis=1)\n",
    "target = df['exited']\n",
    "\n",
    "# Проверяем результат формирования выборок \"features\" и \"target\"\n",
    "print('features:', features.shape)\n",
    "print('target:', target.shape)"
   ]
  },
  {
   "cell_type": "markdown",
   "metadata": {},
   "source": [
    "Теперь разделим датасет на две выборки: тренировочную и \"временную\"."
   ]
  },
  {
   "cell_type": "code",
   "execution_count": 24,
   "metadata": {},
   "outputs": [
    {
     "name": "stdout",
     "output_type": "stream",
     "text": [
      "features_train: (5454, 11)\n",
      "features_temp: (3637, 11)\n"
     ]
    }
   ],
   "source": [
    "# Выполняем разделение выборок\n",
    "# Устанавливаем фиксированное значение random_state для одинакового разделения при каждом выполнении\n",
    "features_train, features_temp, target_train, target_temp = train_test_split(\n",
    "    features, target, \n",
    "    test_size=0.4, \n",
    "    random_state=75)\n",
    "\n",
    "# Выводим на экран их размеры, чтобы визуально оценить корректность разделения\n",
    "print('features_train:', features_train.shape)\n",
    "print('features_temp:', features_temp.shape)"
   ]
  },
  {
   "cell_type": "markdown",
   "metadata": {},
   "source": [
    "Теперь, когда мы получили временные выборки `features_temp` и `target_temp`, разделим их на валидационную и тестовую выборки:"
   ]
  },
  {
   "cell_type": "code",
   "execution_count": 25,
   "metadata": {},
   "outputs": [
    {
     "name": "stdout",
     "output_type": "stream",
     "text": [
      "features_valid: (1818, 11)\n",
      "features_test: (1819, 11)\n"
     ]
    }
   ],
   "source": [
    "# Выполняем разделение выборок\n",
    "features_valid, features_test, target_valid, target_test = train_test_split(features_temp, \n",
    "                                                                            target_temp, \n",
    "                                                                            test_size=0.5, \n",
    "                                                                            random_state=75)\n",
    "\n",
    "# Выводим на экран их размеры, чтобы визуально оценить корректность разделения\n",
    "print('features_valid:', features_valid.shape)\n",
    "print('features_test:', features_test.shape)"
   ]
  },
  {
   "cell_type": "markdown",
   "metadata": {},
   "source": [
    "В итоге мы получили следующее разделение из 9091 объекта датасета с соотношением 3:1:1 между тремя выборками:\n",
    "- Тренировочная выборка: **5454** объекта;\n",
    "- Валидационная выборка: **1818** объектов;\n",
    "- Тестовая выборка: **1819** объектов.\n",
    "\n",
    "А также, мы сразу разделили их на признаки (вопросы) и целевые признаки (ответы), что будем использовать в следующем разделе нашей работы."
   ]
  },
  {
   "cell_type": "markdown",
   "metadata": {},
   "source": [
    "## Исследование задачи"
   ]
  },
  {
   "cell_type": "markdown",
   "metadata": {},
   "source": [
    "### Определение дисбаланса классов"
   ]
  },
  {
   "cell_type": "markdown",
   "metadata": {},
   "source": [
    "Вероятно, что целевой признак может иметь дисбаланс классов, то есть, слишком большую разницу в соотношении положительных и отрицательных ответов.\n",
    "Проверим, как выглядит это соотношение в каждой из трёх выборок + в изначальном датасете."
   ]
  },
  {
   "cell_type": "code",
   "execution_count": 26,
   "metadata": {},
   "outputs": [
    {
     "name": "stdout",
     "output_type": "stream",
     "text": [
      "Доля положительных ответов в датасете df: 0.26 \n",
      "\n",
      "Доля положительных ответов в выборке target_train: 0.25\n",
      "Доля положительных ответов в выборке target_valid: 0.26\n",
      "Доля положительных ответов в выборке target_test: 0.26\n"
     ]
    }
   ],
   "source": [
    "print('Доля положительных ответов в датасете df:', round((df[df['exited'] == 1]['exited'].count() \n",
    "                                                          / df[df['exited'] == 0]['exited'].count()), 2), '\\n')\n",
    "\n",
    "print('Доля положительных ответов в выборке target_train:', round((target_train[target_train == 1].count() \n",
    "                                                          / target_train[target_train == 0].count()), 2))\n",
    "\n",
    "print('Доля положительных ответов в выборке target_valid:', round((target_valid[target_valid == 1].count() \n",
    "                                                          / target_valid[target_valid == 0].count()), 2))\n",
    "\n",
    "print('Доля положительных ответов в выборке target_test:', round((target_test[target_test == 1].count() \n",
    "                                                          / target_test[target_test == 0].count()), 2))"
   ]
  },
  {
   "cell_type": "markdown",
   "metadata": {},
   "source": [
    "Также дополнительно проверим разницу между классами в их абсолютных значениях:"
   ]
  },
  {
   "cell_type": "code",
   "execution_count": 27,
   "metadata": {},
   "outputs": [
    {
     "name": "stdout",
     "output_type": "stream",
     "text": [
      "(4351, 11)\n",
      "(1103, 11)\n",
      "(4351,)\n",
      "(1103,)\n"
     ]
    }
   ],
   "source": [
    "# Делим выборку на объекты с положительными и отрицательными ответами\n",
    "features_zeros = features_train[target_train == 0]\n",
    "features_ones = features_train[target_train == 1]\n",
    "target_zeros = target_train[target_train == 0]\n",
    "target_ones = target_train[target_train == 1]\n",
    "\n",
    "print(features_zeros.shape)\n",
    "print(features_ones.shape)\n",
    "print(target_zeros.shape)\n",
    "print(target_ones.shape)"
   ]
  },
  {
   "cell_type": "markdown",
   "metadata": {},
   "source": [
    "Нельзя сказать, что дисбаланс слишком критичен, но тем не менее, он присутствует в достаточно ощутимой степени и, вероятно, может повлиять на оценку качества обучения.\n",
    "\n",
    "Чтобы понять степень влияния такого дисбаланса в нашем исследовании наверняка, выполним обучение модели и оценку его качества как без балансирования классов, так и с ним.\n",
    "\n",
    "В текущем разделе \"Исследование задачи\" мы будем выполнять обучение модели без балансирования классов."
   ]
  },
  {
   "cell_type": "markdown",
   "metadata": {},
   "source": [
    "### Подготовка: Создание функций и формирование дополнительных выборок"
   ]
  },
  {
   "cell_type": "markdown",
   "metadata": {},
   "source": [
    "Для того, чтобы определить наилучшее сочетание гиперпараметров для рассматриваемых моделей, а также вывести информацию о значениях этих гиперпараметров и метрик качества, напишем функции, которые будут принимать на вход ряд гиперпараметров. Если передать на вход диапозон гиперпараметров (как и задумывается в дальнейшем исследовании), то функция будет работать в цикле, перебирая каждое из значений. В случае отсутствия явного определения параметра при вызове функции, будет выбрано значение гиперпараметра по умолчанию.\n",
    "\n",
    "Например, мы передаём на вход диапозон ***range(1, 11)*** для гиперпараметра `max_depth` и ***range(2, 21)*** для гиперпараметра `min_samples_split`. В этом случае функция во вложенном цикле сначала проверит все возможные значения `min_samples_split` из заданного диапазона для `max_depth` = 1. После этого то же самое для `max_depth` = 2 и т.д.\n",
    "\n",
    "Следует учитывать, что при передаче слишком большого количества гиперпараметров с большими диапазонами, перебор всех комбинаций гиперпараметров может занимать очень много времени.\n",
    "\n",
    "Кроме того, функции также могут принимать на вход параметр `class_weight`, который пригодится нам в разделе 3, когда будем проверять работу моделей, пытаясь устранить влияние дисбаланса классов.\n",
    "\n",
    "Также, на вход могут быть переданы параметры `p_features_sampled` и `p_target_sampled` для того, чтобы мы могли выполнить обучение модели не на исходных тренировочных данных, а на увеличенной/уменьшенной выборке (в части меньшего/большего класса)."
   ]
  },
  {
   "cell_type": "markdown",
   "metadata": {},
   "source": [
    "#### Функция для DecisionTreeClassifier"
   ]
  },
  {
   "cell_type": "markdown",
   "metadata": {},
   "source": [
    "Функция `model_dtc_launch` может принимать на вход следующие параметры (где `p_*` - имя параметра, а значение после знака \"=\" — значение по умолчанию):\n",
    "- **p_splitter_range**='best'; \n",
    "- **p_criterion_range**='gini'; \n",
    "- **p_split_range**=2;\n",
    "- **p_leaf_range**=1; \n",
    "- **p_depth_range**=None;\n",
    "- **p_class_weight**=None;\n",
    "- **p_features_sampled**=features_train;\n",
    "- **p_target_sampled**=target_train.\n",
    "\n",
    "Значения по умолчанию для гиперпараметров модели взяты из документации *scikit-learn.org*:\n",
    "\n",
    "https://scikit-learn.org/stable/modules/generated/sklearn.tree.DecisionTreeClassifier.html#sklearn.tree.DecisionTreeClassifier\n"
   ]
  },
  {
   "cell_type": "code",
   "execution_count": 28,
   "metadata": {},
   "outputs": [],
   "source": [
    "best_model_decision_tree = ''\n",
    "\n",
    "def model_dtc_launch(p_splitter_range=['best'], \n",
    "                   p_criterion_range=['gini'], \n",
    "                   p_split_range=[2], \n",
    "                   p_leaf_range=[1], \n",
    "                   p_depth_range=None,\n",
    "                   p_class_weight=None,\n",
    "                   p_features_sampled=features_train,\n",
    "                   p_target_sampled=target_train):\n",
    "    # Переопределяем переменные для обучения и перебора гиперпараметров для возможности повторного запуска кода\n",
    "    best_f1_score = 0\n",
    "    best_auc_roc = 0\n",
    "    best_model_decision_tree = 0\n",
    "    best_max_depth = 0\n",
    "    best_min_samples_split = 0\n",
    "    best_min_samples_leaf = 0\n",
    "    best_criterion = ''\n",
    "    best_splitter = ''\n",
    "    counter = 0\n",
    "\n",
    "    # Определяем общее количество необходимых итераций перебора\n",
    "    counters_amount = len(p_splitter_range) * len(p_criterion_range) \\\n",
    "                        * len(p_split_range) * len(p_leaf_range) * len(p_depth_range)\n",
    "\n",
    "    # Определяем время начала обучения модели с перебором гиперпараметров\n",
    "    begin_time = datetime.datetime.now()\n",
    "    print('> Старт обучения модели DecisionTreeClassifier с перебором гиперпараметров...\\n')\n",
    "\n",
    "    # Начинаем перебор гиперпараметров в циклах, обучаем модель и находим значения метрик качества\n",
    "    for p_splitter in p_splitter_range:\n",
    "        for p_criterion in p_criterion_range:\n",
    "            for p_split in p_split_range:\n",
    "                for p_leaf in p_leaf_range:\n",
    "                    for p_depth in p_depth_range:\n",
    "                        counter += 1\n",
    "                        model = DecisionTreeClassifier(random_state=75, \n",
    "                                                       max_depth=p_depth, \n",
    "                                                       min_samples_split=p_split, \n",
    "                                                       min_samples_leaf=p_leaf, \n",
    "                                                       splitter=p_splitter,\n",
    "                                                       criterion=p_criterion,\n",
    "                                                       class_weight=p_class_weight)\n",
    "                        model.fit(p_features_sampled, p_target_sampled)\n",
    "                        predictions_valid = model.predict(features_valid)\n",
    "                        f1_score_result = f1_score(target_valid, predictions_valid)\n",
    "                        probabilities_one_valid = model.predict_proba(features_valid)[:, 1]\n",
    "                        auc_roc = roc_auc_score(target_valid, probabilities_one_valid)\n",
    "                        if counter % 1000 == 0 or counter == counters_amount:\n",
    "                            print(datetime.datetime.now())\n",
    "                            print('> Итерация №', counter, 'из', counters_amount)\n",
    "                            print('> Прогресс:', round((counter / counters_amount * 100), 2), '%', '\\n')\n",
    "                        if f1_score_result > best_f1_score:\n",
    "                            best_f1_score = f1_score_result\n",
    "                            best_auc_roc = auc_roc\n",
    "                            best_model_decision_tree = model\n",
    "                            best_max_depth = p_depth\n",
    "                            best_min_samples_split = p_split\n",
    "                            best_min_samples_leaf = p_leaf\n",
    "                            best_splitter = p_splitter\n",
    "                            best_criterion = p_criterion\n",
    "\n",
    "    # Определяем время завершения\n",
    "    end_time = datetime.datetime.now()\n",
    "\n",
    "    # Выводим результаты\n",
    "    print('> Готово!\\n')\n",
    "    print('> f1_score:', best_f1_score)\n",
    "    print('> auc_roc:', best_auc_roc, '\\n')\n",
    "    print('> Лучшее max_depth:', best_max_depth)\n",
    "    print('> Лучшее min_samples_split:', best_min_samples_split)\n",
    "    print('> Лучшее min_samples_leaf:', best_min_samples_leaf)\n",
    "    print('> Лучшее splitter:', best_splitter)\n",
    "    print('> Лучшее criterion:', best_criterion, '\\n')\n",
    "    print('> Итераций потребовалось:', counter)\n",
    "    print('> Затрачено секунд:', (end_time-begin_time).total_seconds())\n",
    "    \n",
    "    # Отобразим матрицу ошибок\n",
    "    ConfusionMatrixDisplay(confusion_matrix(target_valid, predictions_valid)).plot()\n",
    "    \n",
    "    return best_model_decision_tree"
   ]
  },
  {
   "cell_type": "markdown",
   "metadata": {},
   "source": [
    "#### Функция для RandomForestClassifier"
   ]
  },
  {
   "cell_type": "markdown",
   "metadata": {},
   "source": [
    "Функция `model_rfc_launch` может принимать на вход следующие параметры (где `p_*` - имя параметра, а значение после знака \"=\" — значение по умолчанию):\n",
    "- **p_split_range**=2;\n",
    "- **p_leaf_range**=1; \n",
    "- **p_criterion_range**='gini';\n",
    "- **p_depth_range**=None;\n",
    "- **p_n_estimators**=100;\n",
    "- **p_class_weight**=None;\n",
    "- **p_features_sampled**=features_train;\n",
    "- **p_target_sampled**=target_train.\n",
    "\n",
    "Значения по умолчанию взяты из документации *scikit-learn.org*:\n",
    "\n",
    "https://scikit-learn.org/stable/modules/generated/sklearn.ensemble.RandomForestClassifier.html#sklearn.ensemble.RandomForestClassifier"
   ]
  },
  {
   "cell_type": "code",
   "execution_count": 29,
   "metadata": {},
   "outputs": [],
   "source": [
    "best_model_random_forest = ''\n",
    "\n",
    "def model_rfc_launch(p_split_range=[2], \n",
    "                     p_leaf_range=[1],\n",
    "                     p_criterion_range=['gini'],\n",
    "                     p_depth_range=None, \n",
    "                     p_n_estimators_range=[100], \n",
    "                     p_class_weight=None,\n",
    "                     p_features_sampled=features_train,\n",
    "                     p_target_sampled=target_train):\n",
    "    # Переопределяем переменные для обучения и перебора гиперпараметров для возможности повторного запуска кода\n",
    "    best_f1_score = 0\n",
    "    best_auc_roc = 0\n",
    "    best_n_estimators = 0\n",
    "    best_model_random_forest = 0\n",
    "    best_max_depth = 0\n",
    "    best_criterion = 0\n",
    "    best_min_samples_split = 0\n",
    "    best_min_samples_leaf = 0\n",
    "    counter = 0\n",
    "\n",
    "    # Определяем общее количество необходимых итераций перебора\n",
    "    counters_amount = len(p_split_range) * len(p_leaf_range) * len(p_depth_range)\\\n",
    "                        * len(p_n_estimators_range) * len(p_criterion_range)\n",
    "\n",
    "    # Определяем время начала обучения модели с перебором гиперпараметров\n",
    "    begin_time = datetime.datetime.now()\n",
    "\n",
    "    print('> Старт обучения модели RandomForestClassifier с перебором гиперпараметров...\\n')\n",
    "\n",
    "    # Начинаем перебор гиперпараметров в циклах\n",
    "    for p_criterion in p_criterion_range:\n",
    "        for p_split in p_split_range:\n",
    "            for p_leaf in p_leaf_range:\n",
    "                for p_depth in p_depth_range:\n",
    "                    for p_n_estimators in p_n_estimators_range:\n",
    "                        counter += 1\n",
    "                        model = RandomForestClassifier(random_state=75, \n",
    "                                                       max_depth=p_depth, \n",
    "                                                       min_samples_split=p_split, \n",
    "                                                       min_samples_leaf=p_leaf, \n",
    "                                                       n_estimators=p_n_estimators,\n",
    "                                                       criterion=p_criterion,\n",
    "                                                       class_weight=p_class_weight)\n",
    "                    model.fit(p_features_sampled, p_target_sampled)\n",
    "                    predictions_valid = model.predict(features_valid)\n",
    "                    f1_score_result = f1_score(target_valid, predictions_valid)\n",
    "                    probabilities_one_valid = model.predict_proba(features_valid)[:, 1]\n",
    "                    auc_roc = roc_auc_score(target_valid, probabilities_one_valid)\n",
    "                    if counter % 1000 == 0:\n",
    "                        print(datetime.datetime.now())\n",
    "                        print('> Итерация №', counter, 'из', counters_amount)\n",
    "                        print('> Прогресс:', round((counter / counters_amount * 100), 2), '%', '\\n')\n",
    "                    if f1_score_result > best_f1_score:\n",
    "                        best_f1_score = f1_score_result\n",
    "                        best_auc_roc = auc_roc\n",
    "                        best_model_random_forest = model\n",
    "                        best_criterion = p_criterion\n",
    "                        best_max_depth = p_depth\n",
    "                        best_min_samples_split = p_split\n",
    "                        best_min_samples_leaf = p_leaf\n",
    "                        best_n_estimators = p_n_estimators\n",
    "\n",
    "    # Определяем время завершения\n",
    "    end_time = datetime.datetime.now()\n",
    "\n",
    "    # Выводим результаты\n",
    "    print('> Готово!\\n')\n",
    "    print('> f1_score:', best_f1_score)\n",
    "    print('> auc_roc:', best_auc_roc, '\\n')\n",
    "    print('> Лучшее max_depth:', best_max_depth)\n",
    "    print('> Лучшее n_estimators:', best_n_estimators)\n",
    "    print('> Лучшее criterion:', best_criterion)\n",
    "    print('> Лучшее min_samples_split:', best_min_samples_split)\n",
    "    print('> Лучшее min_samples_leaf:', best_min_samples_leaf, '\\n')\n",
    "    print('> Итераций потребовалось:', counter)\n",
    "    print('> Затрачено секунд:', (end_time-begin_time).total_seconds())\n",
    "    \n",
    "    # Отобразим матрицу ошибок\n",
    "    ConfusionMatrixDisplay(confusion_matrix(target_valid, predictions_valid)).plot()\n",
    "    \n",
    "    return best_model_random_forest"
   ]
  },
  {
   "cell_type": "markdown",
   "metadata": {},
   "source": [
    "#### Функция для LogisticRegression"
   ]
  },
  {
   "cell_type": "markdown",
   "metadata": {},
   "source": [
    "Так как в данной модели многие гиперпараметры несовместимы друг с другом, перебор этих параметров в различных комбинациях \"вслепую\" может быть затруднительным и потребовать более глубокого понимания работы каждого из них. В данном случае мы не будем использовать настройку *гиперпараметров*.\n",
    "\n",
    "Сама функция `model_lr_launch` будет принимать на вход следующие параметры (где `p_*` - имя параметра, а значение после знака \"=\" — значение по умолчанию):\n",
    "- **p_class_weight**=None;\n",
    "- **p_threshold_range**=0.5;\n",
    "- **p_features_sampled**=features_train;\n",
    "- **p_target_sampled**=target_train.\n",
    "\n",
    "Параметр `p_class_weight` будет использоваться нами в разделе 3 для устранения влияния дисбаланса классов, а параметр `p_threshold_range` будет представлять из себя диапазон значений (**np.arange()** с заданным шагом), представляющих из себя пороговое значение вероятности, определяющее то, какое ответ даст модель для конкретного объекта.\n",
    "По умолчанию пороговое значение равняется \"0.5\", то есть, если вероятность класса больше, чем 0.5, то модель присваивает ему значение \"1\". В противном случае \"0\".\n",
    "\n",
    "\n",
    "При изменении порогового значения модель может \"переосмыслить\" свой подход к предсказанию и, *например*, выдавать ответ \"1\" только если вероятность будет больше, чем 0.7."
   ]
  },
  {
   "cell_type": "code",
   "execution_count": 30,
   "metadata": {},
   "outputs": [],
   "source": [
    "best_model_logistic_regression = ''\n",
    "\n",
    "def model_lr_launch(p_class_weight=None,\n",
    "                    p_threshold_range=[0.5],\n",
    "                    p_features_sampled=features_train,\n",
    "                    p_target_sampled=target_train):\n",
    "    # Переопределяем переменные для обучения и перебора гиперпараметров для возможности повторного запуска кода\n",
    "    best_f1_score = 0\n",
    "    best_auc_roc = 0\n",
    "    best_model_logistic_regression = 0\n",
    "    counter = 0\n",
    "    best_threshold = 0\n",
    "    \n",
    "    # Определяем время начала обучения модели\n",
    "    begin_time = datetime.datetime.now()\n",
    "    print('> Старт обучения модели LogisticRegression...\\n')\n",
    "    \n",
    "    # Создаём модель\n",
    "    model = LogisticRegression(random_state=75, \n",
    "                               class_weight=p_class_weight)\n",
    "\n",
    "    # Обучаем модель\n",
    "    model.fit(p_features_sampled, p_target_sampled)\n",
    "    \n",
    "    # Находим значения вероятностей класса \"1\"\n",
    "    probabilities_one_valid = model.predict_proba(features_valid)[:, 1]    \n",
    "\n",
    "    # Определяем значения метрик качесвта при разных пороговых значениях модели\n",
    "    for threshold in p_threshold_range:\n",
    "        predictions_valid = probabilities_one_valid > threshold\n",
    "        precision = precision_score(target_valid, predictions_valid)\n",
    "        recall = recall_score(target_valid, predictions_valid)\n",
    "        f1_score_result = f1_score(target_valid, predictions_valid)\n",
    "        auc_roc = roc_auc_score(target_valid, probabilities_one_valid)\n",
    "\n",
    "        print(\"Порог = {:.2f} | Точность = {:.3f}, Полнота = {:.3f}, f1_score = {:.3f}\".format(\n",
    "           threshold, precision, recall, f1_score_result))\n",
    "\n",
    "        if f1_score_result > best_f1_score:\n",
    "            best_f1_score = f1_score_result\n",
    "            best_auc_roc = auc_roc\n",
    "            best_model_logistic_regression = model\n",
    "            best_recall = recall\n",
    "            best_precision = precision\n",
    "            best_threshold = threshold\n",
    "            \n",
    "    # Определяем время завершения\n",
    "    end_time = datetime.datetime.now()\n",
    "\n",
    "    # Выводим результаты\n",
    "    print('> Готово!\\n')\n",
    "    print('> f1_score:', best_f1_score)\n",
    "    print('> auc_roc:', best_auc_roc)\n",
    "    print('> precision:', best_precision)\n",
    "    print('> recall:', best_recall)\n",
    "    print('> threshold:', best_threshold, '\\n')\n",
    "    print('> Затрачено секунд:', (end_time-begin_time).total_seconds())\n",
    "    \n",
    "    # Отобразим матрицу ошибок\n",
    "    ConfusionMatrixDisplay(confusion_matrix(target_valid, predictions_valid)).plot()\n",
    "    \n",
    "    return best_model_logistic_regression"
   ]
  },
  {
   "cell_type": "markdown",
   "metadata": {},
   "source": [
    "#### Функция upsample"
   ]
  },
  {
   "cell_type": "markdown",
   "metadata": {},
   "source": [
    "Для устранения влияния дисбаланса классов создадим функцию `upsample`, которая увеличит меньший класс (в нашем случае положительные ответы) таким образом, чтобы количество объектов в классах стало сопоставимым.\n",
    "\n",
    "В функции будем использовать уже ранее созданные выборки, созданные в п. 2.1.\n",
    "\n",
    "Чтобы функция была чуть более универсальной, напишем её таким образом, чтобы в ней автоматически определялся класс, которые требует увеличения. А также, в зависимости от разницы между классами будет расчитано значение **repeat**, которое будет определять, во сколько раз требуется увеличение класса таким образом, чтобы количество объектов в них было наиболее близко к равенству."
   ]
  },
  {
   "cell_type": "code",
   "execution_count": 31,
   "metadata": {},
   "outputs": [
    {
     "name": "stdout",
     "output_type": "stream",
     "text": [
      "Увеличена выборка с положительными ответами в 4 раз\n",
      "\n",
      "Новая размерность выборки:\n",
      " features_upsampled: (8763, 11) \n",
      " target_upsampled: (8763,)\n",
      "Отрицательные ответы: (4351,)\n",
      "Положительные ответы: (4412,)\n"
     ]
    }
   ],
   "source": [
    "def upsample(features, target):\n",
    "    if target_zeros.count() > target_ones.count():\n",
    "        repeat = int((target_zeros.count() / target_ones.count()).round())\n",
    "        features_upsampled = pd.concat([features_zeros] + [features_ones] * repeat)\n",
    "        target_upsampled = pd.concat([target_zeros] + [target_ones] * repeat)\n",
    "        print('Увеличена выборка с положительными ответами в', repeat, 'раз\\n')\n",
    "        \n",
    "    elif target_ones.count() > target_zeros.count():\n",
    "        repeat = (target_ones.count() / target_zeros.count()).round()\n",
    "        features_upsampled = pd.concat([features_zeros] * repeat + [features_ones])\n",
    "        target_upsampled = pd.concat([target_zeros] * repeat + [target_ones])\n",
    "        print('Увеличена выборка с отрицательными ответами в', repeat, 'раз\\n')\n",
    "        \n",
    "    else:\n",
    "        return('Классы равны, увеличение выборки не требуется (скорее всего)')\n",
    "        \n",
    "    # Перемешиваем объекты в выборках\n",
    "    features_upsampled, target_upsampled = shuffle(features_upsampled, \n",
    "                                                   target_upsampled, \n",
    "                                                   random_state=75)\n",
    "    print('Новая размерность выборки:\\n features_upsampled:', features_upsampled.shape, \n",
    "          '\\n target_upsampled:', target_upsampled.shape)\n",
    "    print('Отрицательные ответы:', (target_upsampled[target_upsampled == 0]).shape)\n",
    "    print('Положительные ответы:', (target_upsampled[target_upsampled == 1]).shape)\n",
    "\n",
    "    \n",
    "    return features_upsampled, target_upsampled\n",
    "\n",
    "# Создаём выборки с увеличенным классом\n",
    "features_upsampled, target_upsampled = upsample(features_train, target_train)"
   ]
  },
  {
   "cell_type": "markdown",
   "metadata": {},
   "source": [
    "Увеличенные выборки готовы, будем их использовать в разделе 3."
   ]
  },
  {
   "cell_type": "markdown",
   "metadata": {},
   "source": [
    "#### Функция downsample"
   ]
  },
  {
   "cell_type": "markdown",
   "metadata": {},
   "source": [
    "Для устранения влияния дисбаланса классов создадим функцию `downsample`, которая уменьшит больший класс (в нашем случае отрицательные ответы) таким образом, чтобы количество объектов в классах стало сопоставимым.\n",
    "\n",
    "В функции будем использовать уже ранее созданные выборки, созданные в п. 2.1.\n",
    "\n",
    "Чтобы функция была чуть более универсальной, напишем её таким образом, чтобы в ней автоматически определялся класс, которые требует уменьшения. А также, в зависимости от разницы между классами будет расчитано значение **fraction**, которое будет определять, какую долю объектов следует оставить в большем классе, чтобы количество объектов в них было наиболее близко к равенству."
   ]
  },
  {
   "cell_type": "code",
   "execution_count": 32,
   "metadata": {},
   "outputs": [
    {
     "name": "stdout",
     "output_type": "stream",
     "text": [
      "Уменьшена выборка с отрицательными ответами к доле 0.25 от изначальной\n",
      "\n",
      "Новая размерность выборки:\n",
      " features_downsampled: (2191, 11) \n",
      " target_downsampled: (2191,)\n",
      "Отрицательные ответы: (1088,)\n",
      "Положительные ответы: (1103,)\n"
     ]
    }
   ],
   "source": [
    "def downsample(features, target):\n",
    "    if target_zeros.count() > target_ones.count():\n",
    "        fraction = (target_ones.count() / target_zeros.count()).round(2)\n",
    "        features_downsampled = pd.concat(\n",
    "            [features_zeros.sample(frac=fraction, random_state=75)] + [features_ones])\n",
    "        target_downsampled = pd.concat(\n",
    "            [target_zeros.sample(frac=fraction, random_state=75)] + [target_ones])\n",
    "        print('Уменьшена выборка с отрицательными ответами к доле', fraction, 'от изначальной\\n')\n",
    "\n",
    "        \n",
    "    elif target_ones.count() > target_zeros.count():\n",
    "        fraction = (target_zeros.count() / target_ones.count()).round(2)\n",
    "        features_downsampled = pd.concat(\n",
    "            [features_ones.sample(frac=fraction, random_state=75)] + [features_zeros])\n",
    "        target_downsampled = pd.concat(\n",
    "            [target_ones.sample(frac=fraction, random_state=75)] + [target_zeros])\n",
    "        print('Уменьшена выборка с положительными ответами к доле', fraction, 'от изначальной\\n')\n",
    "        \n",
    "    else:\n",
    "        return('Классы равны, увеличение выборки не требуется (скорее всего)')\n",
    "    \n",
    "    features_downsampled, target_downsampled = shuffle(\n",
    "        features_downsampled, target_downsampled, random_state=75)\n",
    "    \n",
    "    print('Новая размерность выборки:\\n features_downsampled:', features_downsampled.shape, \n",
    "          '\\n target_downsampled:', target_downsampled.shape)\n",
    "    print('Отрицательные ответы:', (target_downsampled[target_downsampled == 0]).shape)\n",
    "    print('Положительные ответы:', (target_downsampled[target_downsampled == 1]).shape)\n",
    "    \n",
    "    return features_downsampled, target_downsampled\n",
    "\n",
    "features_downsampled, target_downsampled = downsample(features_train, target_train)"
   ]
  },
  {
   "cell_type": "markdown",
   "metadata": {},
   "source": [
    "Уменьшенные выборки готовы, будем их использовать в разделе 3."
   ]
  },
  {
   "cell_type": "markdown",
   "metadata": {},
   "source": [
    "### Обучение модели"
   ]
  },
  {
   "cell_type": "markdown",
   "metadata": {},
   "source": [
    "Для обучения модели проверим работу трёх моделей:\n",
    "- ***DecisionTreeClassifier***;\n",
    "- ***RandomForestClassifier***;\n",
    "- ***LogisticRegression***.\n",
    "\n",
    "Также будем использовать различные гиперпараметры для того, чтобы определить наилучшую их комбинацию."
   ]
  },
  {
   "cell_type": "markdown",
   "metadata": {},
   "source": [
    "#### Модель DecisionTreeClassifier"
   ]
  },
  {
   "cell_type": "markdown",
   "metadata": {},
   "source": [
    "Исследуем работу модели `DecisionTreeClassifier` на валидационной выборке. Чтобы найти наиболее удачное значение метрики `F1-score`, выполним перебор вариантов модели с разными значениями следующих гиперпараметров:\n",
    "- ***max_depth*** - до 20 включительно (по умолчанию - *None*);\n",
    "- ***min_samples_split*** - от 2 до 20 включительно (по умолчанию - *2*);\n",
    "- ***min_samples_leaf*** - от 1 до 20 включительно (по умолчанию - *1*);\n",
    "- **splitter** - best и random (по умолчанию - '*best*');\n",
    "- **criterion** - gini и entropy (по умолчанию - '*gini*')."
   ]
  },
  {
   "cell_type": "code",
   "execution_count": 33,
   "metadata": {
    "scrolled": true
   },
   "outputs": [
    {
     "name": "stdout",
     "output_type": "stream",
     "text": [
      "> Старт обучения модели DecisionTreeClassifier с перебором гиперпараметров...\n",
      "\n",
      "2023-07-19 15:39:14.760201\n",
      "> Итерация № 1000 из 30400\n",
      "> Прогресс: 3.29 % \n",
      "\n",
      "2023-07-19 15:39:35.828092\n",
      "> Итерация № 2000 из 30400\n",
      "> Прогресс: 6.58 % \n",
      "\n",
      "2023-07-19 15:39:57.101517\n",
      "> Итерация № 3000 из 30400\n",
      "> Прогресс: 9.87 % \n",
      "\n",
      "2023-07-19 15:40:18.300734\n",
      "> Итерация № 4000 из 30400\n",
      "> Прогресс: 13.16 % \n",
      "\n",
      "2023-07-19 15:40:40.199081\n",
      "> Итерация № 5000 из 30400\n",
      "> Прогресс: 16.45 % \n",
      "\n",
      "2023-07-19 15:41:01.288495\n",
      "> Итерация № 6000 из 30400\n",
      "> Прогресс: 19.74 % \n",
      "\n",
      "2023-07-19 15:41:22.481333\n",
      "> Итерация № 7000 из 30400\n",
      "> Прогресс: 23.03 % \n",
      "\n",
      "2023-07-19 15:41:44.551780\n",
      "> Итерация № 8000 из 30400\n",
      "> Прогресс: 26.32 % \n",
      "\n",
      "2023-07-19 15:42:08.648942\n",
      "> Итерация № 9000 из 30400\n",
      "> Прогресс: 29.61 % \n",
      "\n",
      "2023-07-19 15:42:32.251637\n",
      "> Итерация № 10000 из 30400\n",
      "> Прогресс: 32.89 % \n",
      "\n",
      "2023-07-19 15:42:56.641025\n",
      "> Итерация № 11000 из 30400\n",
      "> Прогресс: 36.18 % \n",
      "\n",
      "2023-07-19 15:43:20.243216\n",
      "> Итерация № 12000 из 30400\n",
      "> Прогресс: 39.47 % \n",
      "\n",
      "2023-07-19 15:43:46.092193\n",
      "> Итерация № 13000 из 30400\n",
      "> Прогресс: 42.76 % \n",
      "\n",
      "2023-07-19 15:44:09.628809\n",
      "> Итерация № 14000 из 30400\n",
      "> Прогресс: 46.05 % \n",
      "\n",
      "2023-07-19 15:44:33.472857\n",
      "> Итерация № 15000 из 30400\n",
      "> Прогресс: 49.34 % \n",
      "\n",
      "2023-07-19 15:44:47.069167\n",
      "> Итерация № 16000 из 30400\n",
      "> Прогресс: 52.63 % \n",
      "\n",
      "2023-07-19 15:44:57.639995\n",
      "> Итерация № 17000 из 30400\n",
      "> Прогресс: 55.92 % \n",
      "\n",
      "2023-07-19 15:45:08.389241\n",
      "> Итерация № 18000 из 30400\n",
      "> Прогресс: 59.21 % \n",
      "\n",
      "2023-07-19 15:45:19.065680\n",
      "> Итерация № 19000 из 30400\n",
      "> Прогресс: 62.5 % \n",
      "\n",
      "2023-07-19 15:45:29.637035\n",
      "> Итерация № 20000 из 30400\n",
      "> Прогресс: 65.79 % \n",
      "\n",
      "2023-07-19 15:45:40.413416\n",
      "> Итерация № 21000 из 30400\n",
      "> Прогресс: 69.08 % \n",
      "\n",
      "2023-07-19 15:45:50.904420\n",
      "> Итерация № 22000 из 30400\n",
      "> Прогресс: 72.37 % \n",
      "\n",
      "2023-07-19 15:46:01.591605\n",
      "> Итерация № 23000 из 30400\n",
      "> Прогресс: 75.66 % \n",
      "\n",
      "2023-07-19 15:46:12.145340\n",
      "> Итерация № 24000 из 30400\n",
      "> Прогресс: 78.95 % \n",
      "\n",
      "2023-07-19 15:46:22.803941\n",
      "> Итерация № 25000 из 30400\n",
      "> Прогресс: 82.24 % \n",
      "\n",
      "2023-07-19 15:46:33.468226\n",
      "> Итерация № 26000 из 30400\n",
      "> Прогресс: 85.53 % \n",
      "\n",
      "2023-07-19 15:46:44.440217\n",
      "> Итерация № 27000 из 30400\n",
      "> Прогресс: 88.82 % \n",
      "\n",
      "2023-07-19 15:46:54.889354\n",
      "> Итерация № 28000 из 30400\n",
      "> Прогресс: 92.11 % \n",
      "\n",
      "2023-07-19 15:47:05.833600\n",
      "> Итерация № 29000 из 30400\n",
      "> Прогресс: 95.39 % \n",
      "\n",
      "2023-07-19 15:47:17.393095\n",
      "> Итерация № 30000 из 30400\n",
      "> Прогресс: 98.68 % \n",
      "\n",
      "2023-07-19 15:47:21.944052\n",
      "> Итерация № 30400 из 30400\n",
      "> Прогресс: 100.0 % \n",
      "\n",
      "> Готово!\n",
      "\n",
      "> f1_score: 0.5920245398773005\n",
      "> auc_roc: 0.8014536582650723 \n",
      "\n",
      "> Лучшее max_depth: 10\n",
      "> Лучшее min_samples_split: 2\n",
      "> Лучшее min_samples_leaf: 5\n",
      "> Лучшее splitter: random\n",
      "> Лучшее criterion: entropy \n",
      "\n",
      "> Итераций потребовалось: 30400\n",
      "> Затрачено секунд: 509.540283\n"
     ]
    },
    {
     "data": {
      "text/plain": [
       "DecisionTreeClassifier(criterion='entropy', max_depth=10, min_samples_leaf=5,\n",
       "                       random_state=75, splitter='random')"
      ]
     },
     "execution_count": 33,
     "metadata": {},
     "output_type": "execute_result"
    },
    {
     "data": {
      "image/png": "[encoded data removed]",
      "text/plain": [
       "<Figure size 432x288 with 2 Axes>"
      ]
     },
     "metadata": {
      "needs_background": "light"
     },
     "output_type": "display_data"
    }
   ],
   "source": [
    "# Задаём диапозоны значений гиперпараметров\n",
    "splitter_range = ['best', 'random']\n",
    "criterion_range = ['gini', 'entropy']\n",
    "split_range = range(2, 21)\n",
    "leaf_range = range(1, 21)\n",
    "depth_range = range(1, 21)\n",
    "\n",
    "# Вызываем функцию \"model_dtc_launch\"\n",
    "model_dtc_launch(p_splitter_range=splitter_range, \n",
    "                   p_criterion_range=criterion_range, \n",
    "                   p_split_range=split_range, \n",
    "                   p_leaf_range=leaf_range, \n",
    "                   p_depth_range=depth_range)"
   ]
  },
  {
   "cell_type": "markdown",
   "metadata": {},
   "source": [
    "Также мы отобразили *матрицу ошибок*, чтобы визуально оценить количество различных исходов предсказаний."
   ]
  },
  {
   "cell_type": "markdown",
   "metadata": {},
   "source": [
    "В результате наиболее удачной комбинацией изменяемых гиперпараметров оказалась следующая:\n",
    "- ***max_depth*** = 10;\n",
    "- ***min_samples_split*** = 2;\n",
    "- ***min_samples_leaf*** = 5;\n",
    "- **splitter** = 'random';\n",
    "- **criterion** = 'entropy'.\n",
    "\n",
    "При таких значениях гиперпараметров у модели `DecisionTreeClassifier` для нашей валидационной выборки получили следующие значения метрик качества:\n",
    "- ***F1-score***: 0.592;\n",
    "- ***AUC-ROC***: 0.801."
   ]
  },
  {
   "cell_type": "markdown",
   "metadata": {},
   "source": [
    "Значение ***F1_score*** достигает *0.59*, что удовлетворяет условию проекта по степени качества модели.\n",
    "В то же время значение метрики ***AUC-ROC*** выглядит ещё более внушительным (вероятно, потому что он менее подвержен дисбалансу классов из-за того, что эта метрика опирается на вероятности класса, а не на его предсказания). То есть, пока всё выглядит так, что модель как минимум работает удовлетворительно, хорошо отличает классы, делает не так много ложно-положительных предсказаний (что видно по матрице ошибок), но имеет потенциал для улучшения её работы.\n",
    "\n",
    "Явный недостаток видится сейчас в том, что модель даёт достаточно **много ложно-негативных предсказаний** (245), таким образом, упуская из виду достаточно ощутимую часть клиентов, которые могут покинуть банк.\n",
    "\n",
    "В третьем разделе мы проверим работу этой модели после балансировки классов. Если значение не ухудшится, то данная модель может быть выбрана для тестирования на тестовой выборке, если другие модели не превзойдут результат текущей модели."
   ]
  },
  {
   "cell_type": "markdown",
   "metadata": {},
   "source": [
    "#### Модель RandomForestClassifier"
   ]
  },
  {
   "cell_type": "markdown",
   "metadata": {},
   "source": [
    "Исследуем работу модели RandomForestClassifier на валидационной выборке. Чтобы найти наиболее удачное значение метрики `F1-score`, выполним перебор вариантов модели с разными значениями следующих гиперпараметров:\n",
    "- ***n_estimators*** - от 2 до 20 включительно (по умолчанию - *100*);\n",
    "- ***max_depth*** - от 3 до 20 включительно (по умолчанию - *None*);\n",
    "- ***min_samples_split*** - от 2 до 21 включительно (по умолчанию - *2*);\n",
    "- ***min_samples_leaf*** - от 1 до 21 включительно (по умолчанию - *1*);\n",
    "- ***criterion*** - gini и entropy (по умолчанию - '*gini*')."
   ]
  },
  {
   "cell_type": "code",
   "execution_count": 34,
   "metadata": {
    "scrolled": true
   },
   "outputs": [
    {
     "name": "stdout",
     "output_type": "stream",
     "text": [
      "> Старт обучения модели RandomForestClassifier с перебором гиперпараметров...\n",
      "\n",
      "2023-07-19 15:49:14.480424\n",
      "> Итерация № 19000 из 287280\n",
      "> Прогресс: 6.61 % \n",
      "\n",
      "2023-07-19 15:51:05.894053\n",
      "> Итерация № 38000 из 287280\n",
      "> Прогресс: 13.23 % \n",
      "\n",
      "2023-07-19 15:52:57.031773\n",
      "> Итерация № 57000 из 287280\n",
      "> Прогресс: 19.84 % \n",
      "\n",
      "2023-07-19 15:54:51.358027\n",
      "> Итерация № 76000 из 287280\n",
      "> Прогресс: 26.46 % \n",
      "\n",
      "2023-07-19 15:56:45.148596\n",
      "> Итерация № 95000 из 287280\n",
      "> Прогресс: 33.07 % \n",
      "\n",
      "2023-07-19 15:58:40.079932\n",
      "> Итерация № 114000 из 287280\n",
      "> Прогресс: 39.68 % \n",
      "\n",
      "2023-07-19 16:00:35.213775\n",
      "> Итерация № 133000 из 287280\n",
      "> Прогресс: 46.3 % \n",
      "\n",
      "2023-07-19 16:02:35.475690\n",
      "> Итерация № 152000 из 287280\n",
      "> Прогресс: 52.91 % \n",
      "\n",
      "2023-07-19 16:04:45.103117\n",
      "> Итерация № 171000 из 287280\n",
      "> Прогресс: 59.52 % \n",
      "\n",
      "2023-07-19 16:06:50.724169\n",
      "> Итерация № 190000 из 287280\n",
      "> Прогресс: 66.14 % \n",
      "\n",
      "2023-07-19 16:08:53.347593\n",
      "> Итерация № 209000 из 287280\n",
      "> Прогресс: 72.75 % \n",
      "\n",
      "2023-07-19 16:10:58.173368\n",
      "> Итерация № 228000 из 287280\n",
      "> Прогресс: 79.37 % \n",
      "\n",
      "2023-07-19 16:13:01.387079\n",
      "> Итерация № 247000 из 287280\n",
      "> Прогресс: 85.98 % \n",
      "\n",
      "2023-07-19 16:15:04.124037\n",
      "> Итерация № 266000 из 287280\n",
      "> Прогресс: 92.59 % \n",
      "\n",
      "2023-07-19 16:17:07.531486\n",
      "> Итерация № 285000 из 287280\n",
      "> Прогресс: 99.21 % \n",
      "\n",
      "> Готово!\n",
      "\n",
      "> f1_score: 0.5834683954619125\n",
      "> auc_roc: 0.8296594524894013 \n",
      "\n",
      "> Лучшее max_depth: 17\n",
      "> Лучшее n_estimators: 20\n",
      "> Лучшее criterion: gini\n",
      "> Лучшее min_samples_split: 6\n",
      "> Лучшее min_samples_leaf: 1 \n",
      "\n",
      "> Итераций потребовалось: 287280\n",
      "> Затрачено секунд: 1799.484742\n"
     ]
    },
    {
     "data": {
      "text/plain": [
       "RandomForestClassifier(max_depth=17, min_samples_split=6, n_estimators=20,\n",
       "                       random_state=75)"
      ]
     },
     "execution_count": 34,
     "metadata": {},
     "output_type": "execute_result"
    },
    {
     "data": {
      "image/png": "[encoded data removed]",
      "text/plain": [
       "<Figure size 432x288 with 2 Axes>"
      ]
     },
     "metadata": {
      "needs_background": "light"
     },
     "output_type": "display_data"
    }
   ],
   "source": [
    "# Задаём диапозоны значений гиперпараметров\n",
    "split_range = range(2, 22)\n",
    "leaf_range = range(1, 22)\n",
    "depth_range = range(3, 21)\n",
    "n_extimators_range = range(2, 21)\n",
    "criterion_range = ['gini', 'entropy']\n",
    "\n",
    "model_rfc_launch(p_split_range=split_range, \n",
    "                 p_leaf_range=leaf_range, \n",
    "                 p_depth_range=depth_range, \n",
    "                 p_n_estimators_range=n_extimators_range,\n",
    "                 p_criterion_range=criterion_range)"
   ]
  },
  {
   "cell_type": "markdown",
   "metadata": {},
   "source": [
    "Также мы отобразили *матрицу ошибок*, чтобы визуально оценить количество различных исходов предсказаний."
   ]
  },
  {
   "cell_type": "markdown",
   "metadata": {},
   "source": [
    "В результате наиболее удачной комбинацией изменяемых гиперпараметров оказалась следующая:\n",
    "- ***max_depth*** = 17;\n",
    "- ***n_estimators*** = 20;\n",
    "- ***criterion*** = gini;\n",
    "- ***min_samples_split*** = 6;\n",
    "- ***min_samples_leaf*** = 1.\n",
    "\n",
    "При таких значениях гиперпараметров у модели `DecisionTreeClassifier` для нашей валидационной выборки получили следующие значения метрик качества:\n",
    "- ***F1-score***: 0.583;\n",
    "- ***AUC-ROC***: 0.829."
   ]
  },
  {
   "cell_type": "markdown",
   "metadata": {},
   "source": [
    "Значение *F1-score* получилось немного меньше, чем для модели DecisionTreeClassifier, и в этот раз модель не соответствует требованию к минимальному порогу качества. Но так как это проверка без балансировки классов, и разница в качестве не столь значительна, то вероятно, результат ещё может измениться.\n",
    "\n",
    "Также, примечательно, что метрика *AUC-ROC* немного выше по сравнению всё с той же DecisionTreeClassifier, что видно и по матрице ошибок: часть ложно-положительных объектов из модели DecisionTreeClassifier в этот раз оказались определены как истинно-отрицательные. Также, текущая модель незначительно лучше предсказывает положительный класс."
   ]
  },
  {
   "cell_type": "markdown",
   "metadata": {},
   "source": [
    "#### Модель LogisticRegression"
   ]
  },
  {
   "cell_type": "markdown",
   "metadata": {},
   "source": [
    "Исследуем работу модели `LogisticRegression` на валидационной выборке. \n",
    "Так как в данной модели многие гиперпараметры несовместимы друг с другом, перебор этих параметров в различных комбинациях \"вслепую\" может быть затруднительным и потребовать более глубокого понимания работы каждого из них. В данном случае мы не будем использовать настройку гиперпараметров и ограничимся только random_state = 75."
   ]
  },
  {
   "cell_type": "code",
   "execution_count": 35,
   "metadata": {
    "scrolled": true
   },
   "outputs": [
    {
     "name": "stdout",
     "output_type": "stream",
     "text": [
      "> Старт обучения модели LogisticRegression...\n",
      "\n",
      "Порог = 0.00 | Точность = 0.205, Полнота = 1.000, f1_score = 0.340\n",
      "Порог = 0.02 | Точность = 0.205, Полнота = 1.000, f1_score = 0.340\n",
      "Порог = 0.04 | Точность = 0.205, Полнота = 1.000, f1_score = 0.341\n",
      "Порог = 0.06 | Точность = 0.208, Полнота = 0.995, f1_score = 0.344\n",
      "Порог = 0.08 | Точность = 0.215, Полнота = 0.979, f1_score = 0.352\n",
      "Порог = 0.10 | Точность = 0.224, Полнота = 0.949, f1_score = 0.362\n",
      "Порог = 0.12 | Точность = 0.236, Полнота = 0.917, f1_score = 0.376\n",
      "Порог = 0.14 | Точность = 0.250, Полнота = 0.853, f1_score = 0.386\n",
      "Порог = 0.16 | Точность = 0.269, Полнота = 0.794, f1_score = 0.402\n",
      "Порог = 0.18 | Точность = 0.285, Полнота = 0.724, f1_score = 0.409\n",
      "Порог = 0.20 | Точность = 0.305, Полнота = 0.662, f1_score = 0.417\n",
      "Порог = 0.22 | Точность = 0.315, Полнота = 0.571, f1_score = 0.406\n",
      "Порог = 0.24 | Точность = 0.343, Полнота = 0.523, f1_score = 0.414\n",
      "Порог = 0.26 | Точность = 0.354, Полнота = 0.456, f1_score = 0.399\n",
      "Порог = 0.28 | Точность = 0.356, Полнота = 0.386, f1_score = 0.371\n",
      "Порог = 0.30 | Точность = 0.376, Полнота = 0.343, f1_score = 0.359\n",
      "Порог = 0.32 | Точность = 0.398, Полнота = 0.308, f1_score = 0.347\n",
      "Порог = 0.34 | Точность = 0.439, Полнота = 0.282, f1_score = 0.343\n",
      "Порог = 0.36 | Точность = 0.481, Полнота = 0.265, f1_score = 0.342\n",
      "Порог = 0.38 | Точность = 0.478, Полнота = 0.236, f1_score = 0.316\n",
      "Порог = 0.40 | Точность = 0.467, Полнота = 0.190, f1_score = 0.270\n",
      "Порог = 0.42 | Точность = 0.439, Полнота = 0.134, f1_score = 0.205\n",
      "Порог = 0.44 | Точность = 0.435, Полнота = 0.107, f1_score = 0.172\n",
      "Порог = 0.46 | Точность = 0.430, Полнота = 0.091, f1_score = 0.150\n",
      "Порог = 0.48 | Точность = 0.456, Полнота = 0.083, f1_score = 0.141\n",
      "Порог = 0.50 | Точность = 0.476, Полнота = 0.080, f1_score = 0.138\n",
      "Порог = 0.52 | Точность = 0.472, Полнота = 0.067, f1_score = 0.117\n",
      "Порог = 0.54 | Точность = 0.537, Полнота = 0.059, f1_score = 0.106\n",
      "Порог = 0.56 | Точность = 0.481, Полнота = 0.035, f1_score = 0.065\n",
      "Порог = 0.58 | Точность = 0.478, Полнота = 0.029, f1_score = 0.056\n",
      "Порог = 0.60 | Точность = 0.450, Полнота = 0.024, f1_score = 0.046\n",
      "Порог = 0.62 | Точность = 0.467, Полнота = 0.019, f1_score = 0.036\n",
      "Порог = 0.64 | Точность = 0.429, Полнота = 0.016, f1_score = 0.031\n",
      "Порог = 0.66 | Точность = 0.364, Полнота = 0.011, f1_score = 0.021\n",
      "Порог = 0.68 | Точность = 0.125, Полнота = 0.003, f1_score = 0.005\n",
      "Порог = 0.70 | Точность = 0.250, Полнота = 0.003, f1_score = 0.005\n",
      "Порог = 0.72 | Точность = 0.333, Полнота = 0.003, f1_score = 0.005\n",
      "Порог = 0.74 | Точность = 0.000, Полнота = 0.000, f1_score = 0.000\n",
      "Порог = 0.76 | Точность = 0.000, Полнота = 0.000, f1_score = 0.000\n",
      "Порог = 0.78 | Точность = 0.000, Полнота = 0.000, f1_score = 0.000\n",
      "Порог = 0.80 | Точность = 0.000, Полнота = 0.000, f1_score = 0.000\n",
      "Порог = 0.82 | Точность = 0.000, Полнота = 0.000, f1_score = 0.000\n",
      "Порог = 0.84 | Точность = 0.000, Полнота = 0.000, f1_score = 0.000\n",
      "Порог = 0.86 | Точность = 0.000, Полнота = 0.000, f1_score = 0.000\n",
      "Порог = 0.88 | Точность = 0.000, Полнота = 0.000, f1_score = 0.000\n",
      "Порог = 0.90 | Точность = 0.000, Полнота = 0.000, f1_score = 0.000\n",
      "Порог = 0.92 | Точность = 0.000, Полнота = 0.000, f1_score = 0.000\n",
      "Порог = 0.94 | Точность = 0.000, Полнота = 0.000, f1_score = 0.000\n",
      "Порог = 0.96 | Точность = 0.000, Полнота = 0.000, f1_score = 0.000\n",
      "Порог = 0.98 | Точность = 0.000, Полнота = 0.000, f1_score = 0.000\n",
      "> Готово!\n",
      "\n",
      "> f1_score: 0.4172297297297297\n",
      "> auc_roc: 0.6796441459409817\n",
      "> precision: 0.30456226880394577\n",
      "> recall: 0.6621983914209115\n",
      "> threshold: 0.2 \n",
      "\n",
      "> Затрачено секунд: 0.979822\n"
     ]
    },
    {
     "name": "stderr",
     "output_type": "stream",
     "text": [
      "/opt/conda/lib/python3.9/site-packages/sklearn/metrics/_classification.py:1245: UndefinedMetricWarning: Precision is ill-defined and being set to 0.0 due to no predicted samples. Use `zero_division` parameter to control this behavior.\n",
      "  _warn_prf(average, modifier, msg_start, len(result))\n",
      "/opt/conda/lib/python3.9/site-packages/sklearn/metrics/_classification.py:1245: UndefinedMetricWarning: Precision is ill-defined and being set to 0.0 due to no predicted samples. Use `zero_division` parameter to control this behavior.\n",
      "  _warn_prf(average, modifier, msg_start, len(result))\n",
      "/opt/conda/lib/python3.9/site-packages/sklearn/metrics/_classification.py:1245: UndefinedMetricWarning: Precision is ill-defined and being set to 0.0 due to no predicted samples. Use `zero_division` parameter to control this behavior.\n",
      "  _warn_prf(average, modifier, msg_start, len(result))\n",
      "/opt/conda/lib/python3.9/site-packages/sklearn/metrics/_classification.py:1245: UndefinedMetricWarning: Precision is ill-defined and being set to 0.0 due to no predicted samples. Use `zero_division` parameter to control this behavior.\n",
      "  _warn_prf(average, modifier, msg_start, len(result))\n",
      "/opt/conda/lib/python3.9/site-packages/sklearn/metrics/_classification.py:1245: UndefinedMetricWarning: Precision is ill-defined and being set to 0.0 due to no predicted samples. Use `zero_division` parameter to control this behavior.\n",
      "  _warn_prf(average, modifier, msg_start, len(result))\n",
      "/opt/conda/lib/python3.9/site-packages/sklearn/metrics/_classification.py:1245: UndefinedMetricWarning: Precision is ill-defined and being set to 0.0 due to no predicted samples. Use `zero_division` parameter to control this behavior.\n",
      "  _warn_prf(average, modifier, msg_start, len(result))\n",
      "/opt/conda/lib/python3.9/site-packages/sklearn/metrics/_classification.py:1245: UndefinedMetricWarning: Precision is ill-defined and being set to 0.0 due to no predicted samples. Use `zero_division` parameter to control this behavior.\n",
      "  _warn_prf(average, modifier, msg_start, len(result))\n",
      "/opt/conda/lib/python3.9/site-packages/sklearn/metrics/_classification.py:1245: UndefinedMetricWarning: Precision is ill-defined and being set to 0.0 due to no predicted samples. Use `zero_division` parameter to control this behavior.\n",
      "  _warn_prf(average, modifier, msg_start, len(result))\n",
      "/opt/conda/lib/python3.9/site-packages/sklearn/metrics/_classification.py:1245: UndefinedMetricWarning: Precision is ill-defined and being set to 0.0 due to no predicted samples. Use `zero_division` parameter to control this behavior.\n",
      "  _warn_prf(average, modifier, msg_start, len(result))\n",
      "/opt/conda/lib/python3.9/site-packages/sklearn/metrics/_classification.py:1245: UndefinedMetricWarning: Precision is ill-defined and being set to 0.0 due to no predicted samples. Use `zero_division` parameter to control this behavior.\n",
      "  _warn_prf(average, modifier, msg_start, len(result))\n",
      "/opt/conda/lib/python3.9/site-packages/sklearn/metrics/_classification.py:1245: UndefinedMetricWarning: Precision is ill-defined and being set to 0.0 due to no predicted samples. Use `zero_division` parameter to control this behavior.\n",
      "  _warn_prf(average, modifier, msg_start, len(result))\n"
     ]
    },
    {
     "data": {
      "text/plain": [
       "LogisticRegression(random_state=75)"
      ]
     },
     "execution_count": 35,
     "metadata": {},
     "output_type": "execute_result"
    },
    {
     "data": {
      "image/png": "[encoded data removed]",
      "text/plain": [
       "<Figure size 432x288 with 2 Axes>"
      ]
     },
     "metadata": {
      "needs_background": "light"
     },
     "output_type": "display_data"
    }
   ],
   "source": [
    "threshold = np.arange(0, 1, 0.02)\n",
    "\n",
    "model_lr_launch(p_threshold_range=threshold)"
   ]
  },
  {
   "cell_type": "markdown",
   "metadata": {},
   "source": [
    "В данном случае значение `f1_score` не достигло 0.59.\n",
    "\n",
    "Неудовлетворительное полученное значение: **0.42**\n",
    "\n",
    "По матрице ошибок видим, что для наибольшего `f1_score` модель уже просто не предсказывает положительный класс. Поэтому модель логистической регрессии выглядит неподходящей по крайней мере по двум причинам:\n",
    "- При наибольшем `f1_score` модель не предсказывает положительные классы, что не имеет смысла, если мы хотим *адекватную* модель;\n",
    "- Даже наибольшее полученное значение данной метрики не достигает минимума, равного 0.59, установленного в качестве требования к проекту.\n",
    "\n",
    "Тем не менее, мы проверим работу этой модели с техниками борьбы с дисбалансом, чтобы посмотреть, повлияет ли это на модель положительным образом."
   ]
  },
  {
   "cell_type": "markdown",
   "metadata": {},
   "source": [
    "### Выводы"
   ]
  },
  {
   "cell_type": "markdown",
   "metadata": {},
   "source": [
    "Как видно из результатов, лучше всего на текущий момент себя показывает модель `DecisionTreeClassifier`, с учётом того, что мы никак не боролись с дисбалансом классов. Тем не менее, значение `f1_score` находится буквально на нижней границе допустимости по условию проекта.\n",
    "В следующем разделе мы попробуем провести аналогичную работу со всеми тремя моделями, предварительно устранив дисбаланс, определённый в п.2.1.\n",
    "В ходе работы мы будем использовать функции, созданные в п.2.2.1 - 2.2.3, а также выборки, созданные в рамках 2.2.4 и 2.2.5."
   ]
  },
  {
   "cell_type": "markdown",
   "metadata": {},
   "source": [
    "## Борьба с дисбалансом"
   ]
  },
  {
   "cell_type": "markdown",
   "metadata": {},
   "source": [
    "Для каждой из моделей рассмотрим три техники устранения дисбаланса:\n",
    "- Взвешивание классов;\n",
    "- Увеличение выборки;\n",
    "- Уменьшение выборки.\n",
    "\n",
    "В зависимости от результатов работы модели для каждой из техник мы будем оценивать, какая из техник лучше всего подходит конкретно для нашей модели."
   ]
  },
  {
   "cell_type": "markdown",
   "metadata": {},
   "source": [
    "### Модель DecisionTreeClassifier (с устранением дисбаланса)"
   ]
  },
  {
   "cell_type": "markdown",
   "metadata": {},
   "source": [
    "#### Взвешивание классов"
   ]
  },
  {
   "cell_type": "markdown",
   "metadata": {},
   "source": [
    "Как и в пункте 2.2.1, будем использовать следующие диапозоны гиперпараметров:\n",
    "- ***max_depth*** - до 20 включительно (по умолчанию - *None*);\n",
    "- ***min_samples_split*** - от 2 до 20 включительно (по умолчанию - *2*);\n",
    "- ***min_samples_leaf*** - от 1 до 20 включительно (по умолчанию - *1*);\n",
    "- **splitter** - best и random (по умолчанию - '*best*');\n",
    "- **criterion** - gini и entropy (по умолчанию - '*gini*').\n",
    "\n",
    "А также, будем использовать аргумент *class_weight='balanced'* для DecisionTreeClassifier, чтобы переопределить веса классов, устранив их равенство относительно друг друга."
   ]
  },
  {
   "cell_type": "code",
   "execution_count": 36,
   "metadata": {
    "scrolled": true
   },
   "outputs": [
    {
     "name": "stdout",
     "output_type": "stream",
     "text": [
      "> Старт обучения модели DecisionTreeClassifier с перебором гиперпараметров...\n",
      "\n",
      "2023-07-19 16:17:46.171005\n",
      "> Итерация № 1000 из 30400\n",
      "> Прогресс: 3.29 % \n",
      "\n",
      "2023-07-19 16:18:09.097205\n",
      "> Итерация № 2000 из 30400\n",
      "> Прогресс: 6.58 % \n",
      "\n",
      "2023-07-19 16:18:32.351210\n",
      "> Итерация № 3000 из 30400\n",
      "> Прогресс: 9.87 % \n",
      "\n",
      "2023-07-19 16:18:55.843662\n",
      "> Итерация № 4000 из 30400\n",
      "> Прогресс: 13.16 % \n",
      "\n",
      "2023-07-19 16:19:19.126543\n",
      "> Итерация № 5000 из 30400\n",
      "> Прогресс: 16.45 % \n",
      "\n",
      "2023-07-19 16:19:41.841768\n",
      "> Итерация № 6000 из 30400\n",
      "> Прогресс: 19.74 % \n",
      "\n",
      "2023-07-19 16:20:04.863284\n",
      "> Итерация № 7000 из 30400\n",
      "> Прогресс: 23.03 % \n",
      "\n",
      "2023-07-19 16:20:28.861024\n",
      "> Итерация № 8000 из 30400\n",
      "> Прогресс: 26.32 % \n",
      "\n",
      "2023-07-19 16:20:55.166983\n",
      "> Итерация № 9000 из 30400\n",
      "> Прогресс: 29.61 % \n",
      "\n",
      "2023-07-19 16:21:20.850105\n",
      "> Итерация № 10000 из 30400\n",
      "> Прогресс: 32.89 % \n",
      "\n",
      "2023-07-19 16:21:46.915568\n",
      "> Итерация № 11000 из 30400\n",
      "> Прогресс: 36.18 % \n",
      "\n",
      "2023-07-19 16:22:12.514450\n",
      "> Итерация № 12000 из 30400\n",
      "> Прогресс: 39.47 % \n",
      "\n",
      "2023-07-19 16:22:38.377478\n",
      "> Итерация № 13000 из 30400\n",
      "> Прогресс: 42.76 % \n",
      "\n",
      "2023-07-19 16:23:04.172370\n",
      "> Итерация № 14000 из 30400\n",
      "> Прогресс: 46.05 % \n",
      "\n",
      "2023-07-19 16:23:30.870538\n",
      "> Итерация № 15000 из 30400\n",
      "> Прогресс: 49.34 % \n",
      "\n",
      "2023-07-19 16:23:45.904987\n",
      "> Итерация № 16000 из 30400\n",
      "> Прогресс: 52.63 % \n",
      "\n",
      "2023-07-19 16:23:58.109912\n",
      "> Итерация № 17000 из 30400\n",
      "> Прогресс: 55.92 % \n",
      "\n",
      "2023-07-19 16:24:10.461593\n",
      "> Итерация № 18000 из 30400\n",
      "> Прогресс: 59.21 % \n",
      "\n",
      "2023-07-19 16:24:22.598336\n",
      "> Итерация № 19000 из 30400\n",
      "> Прогресс: 62.5 % \n",
      "\n",
      "2023-07-19 16:24:34.851391\n",
      "> Итерация № 20000 из 30400\n",
      "> Прогресс: 65.79 % \n",
      "\n",
      "2023-07-19 16:24:47.210829\n",
      "> Итерация № 21000 из 30400\n",
      "> Прогресс: 69.08 % \n",
      "\n",
      "2023-07-19 16:24:59.092044\n",
      "> Итерация № 22000 из 30400\n",
      "> Прогресс: 72.37 % \n",
      "\n",
      "2023-07-19 16:25:11.424387\n",
      "> Итерация № 23000 из 30400\n",
      "> Прогресс: 75.66 % \n",
      "\n",
      "2023-07-19 16:25:23.654073\n",
      "> Итерация № 24000 из 30400\n",
      "> Прогресс: 78.95 % \n",
      "\n",
      "2023-07-19 16:25:35.977400\n",
      "> Итерация № 25000 из 30400\n",
      "> Прогресс: 82.24 % \n",
      "\n",
      "2023-07-19 16:25:48.046498\n",
      "> Итерация № 26000 из 30400\n",
      "> Прогресс: 85.53 % \n",
      "\n",
      "2023-07-19 16:26:00.301156\n",
      "> Итерация № 27000 из 30400\n",
      "> Прогресс: 88.82 % \n",
      "\n",
      "2023-07-19 16:26:12.634682\n",
      "> Итерация № 28000 из 30400\n",
      "> Прогресс: 92.11 % \n",
      "\n",
      "2023-07-19 16:26:24.842729\n",
      "> Итерация № 29000 из 30400\n",
      "> Прогресс: 95.39 % \n",
      "\n",
      "2023-07-19 16:26:36.986648\n",
      "> Итерация № 30000 из 30400\n",
      "> Прогресс: 98.68 % \n",
      "\n",
      "2023-07-19 16:26:41.995156\n",
      "> Итерация № 30400 из 30400\n",
      "> Прогресс: 100.0 % \n",
      "\n",
      "> Готово!\n",
      "\n",
      "> f1_score: 0.5893060295790671\n",
      "> auc_roc: 0.8265304229245712 \n",
      "\n",
      "> Лучшее max_depth: 7\n",
      "> Лучшее min_samples_split: 2\n",
      "> Лучшее min_samples_leaf: 9\n",
      "> Лучшее splitter: random\n",
      "> Лучшее criterion: entropy \n",
      "\n",
      "> Итераций потребовалось: 30400\n",
      "> Затрачено секунд: 559.097559\n"
     ]
    },
    {
     "data": {
      "image/png": "[encoded data removed]",
      "text/plain": [
       "<Figure size 432x288 with 2 Axes>"
      ]
     },
     "metadata": {
      "needs_background": "light"
     },
     "output_type": "display_data"
    }
   ],
   "source": [
    "# Задаём диапозоны значений гиперпараметров\n",
    "splitter_range = ['best', 'random']\n",
    "criterion_range = ['gini', 'entropy']\n",
    "split_range = range(2, 21)\n",
    "leaf_range = range(1, 21)\n",
    "depth_range = range(1, 21)\n",
    "class_weight='balanced'\n",
    "\n",
    "# Вызываем функцию \"model_dtc_launch\"\n",
    "best_model_dtc_class_weight = model_dtc_launch(p_splitter_range=splitter_range, \n",
    "                   p_criterion_range=criterion_range, \n",
    "                   p_split_range=split_range, \n",
    "                   p_leaf_range=leaf_range, \n",
    "                   p_depth_range=depth_range,\n",
    "                   p_class_weight=class_weight)"
   ]
  },
  {
   "cell_type": "markdown",
   "metadata": {},
   "source": [
    "Видимо, что значение метрики `f1_score` немного упало по сравнению с тем, что мы увидели при обучении на модели без корректировки веса классов. В то же время `auc_roc` увеличился, но также незначительно. То есть, текущая модель чуть лучше различает классы, но по сравнению с тем, что мы видели в 2.2.1, более склонна давать истинные предсказания, в том числе ложные."
   ]
  },
  {
   "cell_type": "markdown",
   "metadata": {},
   "source": [
    "#### Увеличение выборки"
   ]
  },
  {
   "cell_type": "markdown",
   "metadata": {},
   "source": [
    "Как и в пункте 2.2.1, будем использовать следующие диапозоны гиперпараметров:\n",
    "- ***max_depth*** - до 20 включительно (по умолчанию - *None*);\n",
    "- ***min_samples_split*** - от 2 до 20 включительно (по умолчанию - *2*);\n",
    "- ***min_samples_leaf*** - от 1 до 20 включительно (по умолчанию - *1*);\n",
    "- **splitter** - best и random (по умолчанию - '*best*');\n",
    "- **criterion** - gini и entropy (по умолчанию - '*gini*').\n",
    "\n",
    "Также, в вызове функции `model_dtc_launch` укажем, что в этот раз мы будем использовать увеличенные выборки - `features_upsampled` и `target_upsampled`."
   ]
  },
  {
   "cell_type": "code",
   "execution_count": 37,
   "metadata": {},
   "outputs": [
    {
     "name": "stdout",
     "output_type": "stream",
     "text": [
      "> Старт обучения модели DecisionTreeClassifier с перебором гиперпараметров...\n",
      "\n",
      "2023-07-19 16:27:10.156899\n",
      "> Итерация № 1000 из 30400\n",
      "> Прогресс: 3.29 % \n",
      "\n",
      "2023-07-19 16:27:37.854583\n",
      "> Итерация № 2000 из 30400\n",
      "> Прогресс: 6.58 % \n",
      "\n",
      "2023-07-19 16:28:06.330762\n",
      "> Итерация № 3000 из 30400\n",
      "> Прогресс: 9.87 % \n",
      "\n",
      "2023-07-19 16:28:34.074014\n",
      "> Итерация № 4000 из 30400\n",
      "> Прогресс: 13.16 % \n",
      "\n",
      "2023-07-19 16:29:02.267476\n",
      "> Итерация № 5000 из 30400\n",
      "> Прогресс: 16.45 % \n",
      "\n",
      "2023-07-19 16:29:29.239941\n",
      "> Итерация № 6000 из 30400\n",
      "> Прогресс: 19.74 % \n",
      "\n",
      "2023-07-19 16:29:56.591118\n",
      "> Итерация № 7000 из 30400\n",
      "> Прогресс: 23.03 % \n",
      "\n",
      "2023-07-19 16:30:24.927347\n",
      "> Итерация № 8000 из 30400\n",
      "> Прогресс: 26.32 % \n",
      "\n",
      "2023-07-19 16:30:55.335806\n",
      "> Итерация № 9000 из 30400\n",
      "> Прогресс: 29.61 % \n",
      "\n",
      "2023-07-19 16:31:24.896270\n",
      "> Итерация № 10000 из 30400\n",
      "> Прогресс: 32.89 % \n",
      "\n",
      "2023-07-19 16:31:55.122152\n",
      "> Итерация № 11000 из 30400\n",
      "> Прогресс: 36.18 % \n",
      "\n",
      "2023-07-19 16:32:24.952070\n",
      "> Итерация № 12000 из 30400\n",
      "> Прогресс: 39.47 % \n",
      "\n",
      "2023-07-19 16:32:55.225889\n",
      "> Итерация № 13000 из 30400\n",
      "> Прогресс: 42.76 % \n",
      "\n",
      "2023-07-19 16:33:24.799032\n",
      "> Итерация № 14000 из 30400\n",
      "> Прогресс: 46.05 % \n",
      "\n",
      "2023-07-19 16:33:54.931340\n",
      "> Итерация № 15000 из 30400\n",
      "> Прогресс: 49.34 % \n",
      "\n",
      "2023-07-19 16:34:11.251135\n",
      "> Итерация № 16000 из 30400\n",
      "> Прогресс: 52.63 % \n",
      "\n",
      "2023-07-19 16:34:24.521077\n",
      "> Итерация № 17000 из 30400\n",
      "> Прогресс: 55.92 % \n",
      "\n",
      "2023-07-19 16:34:37.993829\n",
      "> Итерация № 18000 из 30400\n",
      "> Прогресс: 59.21 % \n",
      "\n",
      "2023-07-19 16:34:51.100199\n",
      "> Итерация № 19000 из 30400\n",
      "> Прогресс: 62.5 % \n",
      "\n",
      "2023-07-19 16:35:04.265056\n",
      "> Итерация № 20000 из 30400\n",
      "> Прогресс: 65.79 % \n",
      "\n",
      "2023-07-19 16:35:17.297506\n",
      "> Итерация № 21000 из 30400\n",
      "> Прогресс: 69.08 % \n",
      "\n",
      "2023-07-19 16:35:30.219263\n",
      "> Итерация № 22000 из 30400\n",
      "> Прогресс: 72.37 % \n",
      "\n",
      "2023-07-19 16:35:43.526834\n",
      "> Итерация № 23000 из 30400\n",
      "> Прогресс: 75.66 % \n",
      "\n",
      "2023-07-19 16:35:56.696730\n",
      "> Итерация № 24000 из 30400\n",
      "> Прогресс: 78.95 % \n",
      "\n",
      "2023-07-19 16:36:10.175742\n",
      "> Итерация № 25000 из 30400\n",
      "> Прогресс: 82.24 % \n",
      "\n",
      "2023-07-19 16:36:23.756407\n",
      "> Итерация № 26000 из 30400\n",
      "> Прогресс: 85.53 % \n",
      "\n",
      "2023-07-19 16:36:37.725614\n",
      "> Итерация № 27000 из 30400\n",
      "> Прогресс: 88.82 % \n",
      "\n",
      "2023-07-19 16:36:51.575091\n",
      "> Итерация № 28000 из 30400\n",
      "> Прогресс: 92.11 % \n",
      "\n",
      "2023-07-19 16:37:05.933707\n",
      "> Итерация № 29000 из 30400\n",
      "> Прогресс: 95.39 % \n",
      "\n",
      "2023-07-19 16:37:19.697980\n",
      "> Итерация № 30000 из 30400\n",
      "> Прогресс: 98.68 % \n",
      "\n",
      "2023-07-19 16:37:25.229878\n",
      "> Итерация № 30400 из 30400\n",
      "> Прогресс: 100.0 % \n",
      "\n",
      "> Готово!\n",
      "\n",
      "> f1_score: 0.5979381443298969\n",
      "> auc_roc: 0.8394602818260248 \n",
      "\n",
      "> Лучшее max_depth: 7\n",
      "> Лучшее min_samples_split: 2\n",
      "> Лучшее min_samples_leaf: 9\n",
      "> Лучшее splitter: random\n",
      "> Лучшее criterion: entropy \n",
      "\n",
      "> Итераций потребовалось: 30400\n",
      "> Затрачено секунд: 643.014516\n"
     ]
    },
    {
     "data": {
      "image/png": "[encoded data removed]",
      "text/plain": [
       "<Figure size 432x288 with 2 Axes>"
      ]
     },
     "metadata": {
      "needs_background": "light"
     },
     "output_type": "display_data"
    }
   ],
   "source": [
    "# Задаём диапозоны значений гиперпараметров\n",
    "splitter_range = ['best', 'random']\n",
    "criterion_range = ['gini', 'entropy']\n",
    "split_range = range(2, 21)\n",
    "leaf_range = range(1, 21)\n",
    "depth_range = range(1, 21)\n",
    "\n",
    "# Вызываем функцию \"model_dtc_launch\"\n",
    "best_model_dtc_class_more = model_dtc_launch(p_splitter_range=splitter_range, \n",
    "                   p_criterion_range=criterion_range, \n",
    "                   p_split_range=split_range, \n",
    "                   p_leaf_range=leaf_range, \n",
    "                   p_depth_range=depth_range,\n",
    "                   p_features_sampled=features_upsampled,\n",
    "                   p_target_sampled=target_upsampled)"
   ]
  },
  {
   "cell_type": "markdown",
   "metadata": {},
   "source": [
    "Как и в случае со взвешиванием классов, модель более склонна давать положительные ответы, но значения метрик `f1_score` и `AUC-ROC` немного выросли по сравнению с обучением модели без попытки устранить дисбаланс классов.\n",
    "\n",
    "На текущий момент это самые высокие значение для модели DecisionTreeClassifieer."
   ]
  },
  {
   "cell_type": "markdown",
   "metadata": {},
   "source": [
    "#### Уменьшение выборки"
   ]
  },
  {
   "cell_type": "markdown",
   "metadata": {},
   "source": [
    "Как и в пункте 2.2.1, будем использовать следующие диапозоны гиперпараметров:\n",
    "- ***max_depth*** - до 20 включительно (по умолчанию - *None*);\n",
    "- ***min_samples_split*** - от 2 до 20 включительно (по умолчанию - *2*);\n",
    "- ***min_samples_leaf*** - от 1 до 20 включительно (по умолчанию - *1*);\n",
    "- **splitter** - best и random (по умолчанию - '*best*');\n",
    "- **criterion** - gini и entropy (по умолчанию - '*gini*').\n",
    "\n",
    "Также, в вызове функции `model_dtc_launch` укажем, что в этот раз мы будем использовать увеличенные выборки - `features_downsampled` и `target_downsampled`."
   ]
  },
  {
   "cell_type": "code",
   "execution_count": 38,
   "metadata": {
    "scrolled": true
   },
   "outputs": [
    {
     "name": "stdout",
     "output_type": "stream",
     "text": [
      "> Старт обучения модели DecisionTreeClassifier с перебором гиперпараметров...\n",
      "\n",
      "2023-07-19 16:37:38.587163\n",
      "> Итерация № 1000 из 30400\n",
      "> Прогресс: 3.29 % \n",
      "\n",
      "2023-07-19 16:37:50.712465\n",
      "> Итерация № 2000 из 30400\n",
      "> Прогресс: 6.58 % \n",
      "\n",
      "2023-07-19 16:38:03.141980\n",
      "> Итерация № 3000 из 30400\n",
      "> Прогресс: 9.87 % \n",
      "\n",
      "2023-07-19 16:38:15.471135\n",
      "> Итерация № 4000 из 30400\n",
      "> Прогресс: 13.16 % \n",
      "\n",
      "2023-07-19 16:38:27.784434\n",
      "> Итерация № 5000 из 30400\n",
      "> Прогресс: 16.45 % \n",
      "\n",
      "2023-07-19 16:38:40.379308\n",
      "> Итерация № 6000 из 30400\n",
      "> Прогресс: 19.74 % \n",
      "\n",
      "2023-07-19 16:38:53.275137\n",
      "> Итерация № 7000 из 30400\n",
      "> Прогресс: 23.03 % \n",
      "\n",
      "2023-07-19 16:39:06.014341\n",
      "> Итерация № 8000 из 30400\n",
      "> Прогресс: 26.32 % \n",
      "\n",
      "2023-07-19 16:39:19.500160\n",
      "> Итерация № 9000 из 30400\n",
      "> Прогресс: 29.61 % \n",
      "\n",
      "2023-07-19 16:39:32.833294\n",
      "> Итерация № 10000 из 30400\n",
      "> Прогресс: 32.89 % \n",
      "\n",
      "2023-07-19 16:39:46.317209\n",
      "> Итерация № 11000 из 30400\n",
      "> Прогресс: 36.18 % \n",
      "\n",
      "2023-07-19 16:39:59.688162\n",
      "> Итерация № 12000 из 30400\n",
      "> Прогресс: 39.47 % \n",
      "\n",
      "2023-07-19 16:40:13.232848\n",
      "> Итерация № 13000 из 30400\n",
      "> Прогресс: 42.76 % \n",
      "\n",
      "2023-07-19 16:40:26.538162\n",
      "> Итерация № 14000 из 30400\n",
      "> Прогресс: 46.05 % \n",
      "\n",
      "2023-07-19 16:40:40.017119\n",
      "> Итерация № 15000 из 30400\n",
      "> Прогресс: 49.34 % \n",
      "\n",
      "2023-07-19 16:40:49.482618\n",
      "> Итерация № 16000 из 30400\n",
      "> Прогресс: 52.63 % \n",
      "\n",
      "2023-07-19 16:40:57.858828\n",
      "> Итерация № 17000 из 30400\n",
      "> Прогресс: 55.92 % \n",
      "\n",
      "2023-07-19 16:41:06.383585\n",
      "> Итерация № 18000 из 30400\n",
      "> Прогресс: 59.21 % \n",
      "\n",
      "2023-07-19 16:41:14.728596\n",
      "> Итерация № 19000 из 30400\n",
      "> Прогресс: 62.5 % \n",
      "\n",
      "2023-07-19 16:41:23.013810\n",
      "> Итерация № 20000 из 30400\n",
      "> Прогресс: 65.79 % \n",
      "\n",
      "2023-07-19 16:41:31.490255\n",
      "> Итерация № 21000 из 30400\n",
      "> Прогресс: 69.08 % \n",
      "\n",
      "2023-07-19 16:41:40.039274\n",
      "> Итерация № 22000 из 30400\n",
      "> Прогресс: 72.37 % \n",
      "\n",
      "2023-07-19 16:41:48.621882\n",
      "> Итерация № 23000 из 30400\n",
      "> Прогресс: 75.66 % \n",
      "\n",
      "2023-07-19 16:41:57.173934\n",
      "> Итерация № 24000 из 30400\n",
      "> Прогресс: 78.95 % \n",
      "\n",
      "2023-07-19 16:42:05.728816\n",
      "> Итерация № 25000 из 30400\n",
      "> Прогресс: 82.24 % \n",
      "\n",
      "2023-07-19 16:42:14.044094\n",
      "> Итерация № 26000 из 30400\n",
      "> Прогресс: 85.53 % \n",
      "\n",
      "2023-07-19 16:42:22.693611\n",
      "> Итерация № 27000 из 30400\n",
      "> Прогресс: 88.82 % \n",
      "\n",
      "2023-07-19 16:42:31.098305\n",
      "> Итерация № 28000 из 30400\n",
      "> Прогресс: 92.11 % \n",
      "\n",
      "2023-07-19 16:42:39.721173\n",
      "> Итерация № 29000 из 30400\n",
      "> Прогресс: 95.39 % \n",
      "\n",
      "2023-07-19 16:42:48.179862\n",
      "> Итерация № 30000 из 30400\n",
      "> Прогресс: 98.68 % \n",
      "\n",
      "2023-07-19 16:42:51.437914\n",
      "> Итерация № 30400 из 30400\n",
      "> Прогресс: 100.0 % \n",
      "\n",
      "> Готово!\n",
      "\n",
      "> f1_score: 0.5818561001042752\n",
      "> auc_roc: 0.8225562863530526 \n",
      "\n",
      "> Лучшее max_depth: 9\n",
      "> Лучшее min_samples_split: 14\n",
      "> Лучшее min_samples_leaf: 4\n",
      "> Лучшее splitter: random\n",
      "> Лучшее criterion: gini \n",
      "\n",
      "> Итераций потребовалось: 30400\n",
      "> Затрачено секунд: 326.055563\n"
     ]
    },
    {
     "data": {
      "image/png": "[encoded data removed]",
      "text/plain": [
       "<Figure size 432x288 with 2 Axes>"
      ]
     },
     "metadata": {
      "needs_background": "light"
     },
     "output_type": "display_data"
    }
   ],
   "source": [
    "# Задаём диапозоны значений гиперпараметров\n",
    "splitter_range = ['best', 'random']\n",
    "criterion_range = ['gini', 'entropy']\n",
    "split_range = range(2, 21)\n",
    "leaf_range = range(1, 21)\n",
    "depth_range = range(1, 21)\n",
    "\n",
    "# Вызываем функцию \"model_dtc_launch\"\n",
    "best_model_dtc_class_less = model_dtc_launch(p_splitter_range=splitter_range, \n",
    "                   p_criterion_range=criterion_range, \n",
    "                   p_split_range=split_range, \n",
    "                   p_leaf_range=leaf_range, \n",
    "                   p_depth_range=depth_range,\n",
    "                   p_features_sampled=features_downsampled,\n",
    "                   p_target_sampled=target_downsampled)"
   ]
  },
  {
   "cell_type": "markdown",
   "metadata": {},
   "source": [
    "В случае с уменьшением выборки результаты оказались неудовлетворительными. Модель стала давать меньше ложно-отрицательных ответов, но ценой существенного увеличения количества ложно-положительных ответов. Судя по всему, выборка в текущем её размере оказалась недостаточной для обучения.\n",
    "\n",
    "Пока что кажется, что увеличение путь увеличения выборки кажется более надёжным вариантом, который не отбирает у нас большую часть данных для обучения."
   ]
  },
  {
   "cell_type": "markdown",
   "metadata": {},
   "source": [
    "### Модель RandomForestClassifier (с устранением дисбаланса)"
   ]
  },
  {
   "cell_type": "markdown",
   "metadata": {},
   "source": [
    "#### Взвешивание классов"
   ]
  },
  {
   "cell_type": "markdown",
   "metadata": {},
   "source": [
    "Как и в пункте 2.2.2, будем использовать следующие диапозоны гиперпараметров:\n",
    "- ***n_estimators*** - от 2 до 20 включительно (по умолчанию - *100*);\n",
    "- ***max_depth*** - от 3 до 20 включительно (по умолчанию - *None*);\n",
    "- ***min_samples_split*** - от 2 до 21 включительно (по умолчанию - *2*);\n",
    "- ***min_samples_leaf*** - от 1 до 21 включительно (по умолчанию - *1*);\n",
    "- ***criterion*** - gini и entropy (по умолчанию - 'gini').\n",
    "\n",
    "А также, будем использовать аргумент *class_weight='balanced'* для DecisionTreeClassifier, чтобы переопределить веса классов, устранив их равенство относительно друг друга."
   ]
  },
  {
   "cell_type": "code",
   "execution_count": null,
   "metadata": {},
   "outputs": [
    {
     "name": "stdout",
     "output_type": "stream",
     "text": [
      "> Старт обучения модели RandomForestClassifier с перебором гиперпараметров...\n",
      "\n",
      "> Готово!\n",
      "\n",
      "> f1_score: 0.6245161290322581\n",
      "> auc_roc: 0.8440290546119094 \n",
      "\n",
      "> Лучшее max_depth: 16\n",
      "> Лучшее n_estimators: 45\n",
      "> Лучшее criterion: entropy\n",
      "> Лучшее min_samples_split: 25\n",
      "> Лучшее min_samples_leaf: 2 \n",
      "\n",
      "> Итераций потребовалось: 1200\n",
      "> Затрачено секунд: 50.17116\n"
     ]
    },
    {
     "data": {
      "image/png": "[encoded data removed]",
      "text/plain": [
       "<Figure size 432x288 with 2 Axes>"
      ]
     },
     "metadata": {},
     "output_type": "display_data"
    }
   ],
   "source": [
    "# Задаём диапозоны значений гиперпараметров\n",
    "split_range = range(5, 30, 5)\n",
    "leaf_range = range(2, 10, 2)\n",
    "depth_range = range(11, 35, 5)\n",
    "n_extimators_range = range(20, 50, 5)\n",
    "criterion_range = ['gini', 'entropy']\n",
    "class_weight='balanced'\n",
    "\n",
    "best_model_rfc_class_weight = model_rfc_launch(p_split_range=split_range, \n",
    "                 p_leaf_range=leaf_range, \n",
    "                 p_depth_range=depth_range, \n",
    "                 p_n_estimators_range=n_extimators_range,\n",
    "                 p_class_weight=class_weight,\n",
    "                 p_criterion_range=criterion_range)"
   ]
  },
  {
   "cell_type": "markdown",
   "metadata": {},
   "source": [
    "На текущий момент мы получили самое высокое значение `f1_score` из полученных - 0,625. То же самое касается и `AUC-ROC` - 0.844. Как видно к текущему моменту, похоже, что любая техника борьбы с дисбалансом классов приводит к тому, что модель куда более \"смело\" начинает предсказывать положительные классы, как правильно, так и неправильно."
   ]
  },
  {
   "cell_type": "markdown",
   "metadata": {},
   "source": [
    "#### Увеличение выборки"
   ]
  },
  {
   "cell_type": "markdown",
   "metadata": {},
   "source": [
    "Как и в пункте 2.2.2, будем использовать следующие диапозоны гиперпараметров:\n",
    "- ***n_estimators*** - от 2 до 20 включительно (по умолчанию - *100*);\n",
    "- ***max_depth*** - от 3 до 20 включительно (по умолчанию - *None*);\n",
    "- ***min_samples_split*** - от 2 до 21 включительно (по умолчанию - *2*);\n",
    "- ***min_samples_leaf*** - от 1 до 21 включительно (по умолчанию - *1*);\n",
    "- ***criterion*** - gini и entropy (по умолчанию - 'gini').\n",
    "\n",
    "Также, в вызове функции `model_rfc_launch` укажем, что в этот раз мы будем использовать увеличенные выборки - `features_upsampled` и `target_upsampled`."
   ]
  },
  {
   "cell_type": "code",
   "execution_count": null,
   "metadata": {},
   "outputs": [
    {
     "name": "stdout",
     "output_type": "stream",
     "text": [
      "> Старт обучения модели RandomForestClassifier с перебором гиперпараметров...\n",
      "\n",
      "2023-07-19 17:13:16.032541\n",
      "> Итерация № 7000 из 117600\n",
      "> Прогресс: 5.95 % \n",
      "\n",
      "2023-07-19 17:14:01.022018\n",
      "> Итерация № 14000 из 117600\n",
      "> Прогресс: 11.9 % \n",
      "\n",
      "2023-07-19 17:14:46.477067\n",
      "> Итерация № 21000 из 117600\n",
      "> Прогресс: 17.86 % \n",
      "\n",
      "2023-07-19 17:15:31.563780\n",
      "> Итерация № 28000 из 117600\n",
      "> Прогресс: 23.81 % \n",
      "\n",
      "2023-07-19 17:16:16.834501\n",
      "> Итерация № 35000 из 117600\n",
      "> Прогресс: 29.76 % \n",
      "\n",
      "2023-07-19 17:17:02.776051\n",
      "> Итерация № 42000 из 117600\n",
      "> Прогресс: 35.71 % \n",
      "\n",
      "2023-07-19 17:17:48.866501\n",
      "> Итерация № 49000 из 117600\n",
      "> Прогресс: 41.67 % \n",
      "\n",
      "2023-07-19 17:18:34.672275\n",
      "> Итерация № 56000 из 117600\n",
      "> Прогресс: 47.62 % \n",
      "\n",
      "2023-07-19 17:19:22.008430\n",
      "> Итерация № 63000 из 117600\n",
      "> Прогресс: 53.57 % \n",
      "\n",
      "2023-07-19 17:20:10.442396\n",
      "> Итерация № 70000 из 117600\n",
      "> Прогресс: 59.52 % \n",
      "\n",
      "2023-07-19 17:20:59.483663\n",
      "> Итерация № 77000 из 117600\n",
      "> Прогресс: 65.48 % \n",
      "\n",
      "2023-07-19 17:21:47.862299\n",
      "> Итерация № 84000 из 117600\n",
      "> Прогресс: 71.43 % \n",
      "\n",
      "2023-07-19 17:22:36.069406\n",
      "> Итерация № 91000 из 117600\n",
      "> Прогресс: 77.38 % \n",
      "\n",
      "2023-07-19 17:23:24.024825\n",
      "> Итерация № 98000 из 117600\n",
      "> Прогресс: 83.33 % \n",
      "\n",
      "2023-07-19 17:24:12.935070\n",
      "> Итерация № 105000 из 117600\n",
      "> Прогресс: 89.29 % \n",
      "\n",
      "2023-07-19 17:25:01.869075\n",
      "> Итерация № 112000 из 117600\n",
      "> Прогресс: 95.24 % \n",
      "\n",
      "> Готово!\n",
      "\n",
      "> f1_score: 0.6133333333333334\n",
      "> auc_roc: 0.8393276250730539 \n",
      "\n",
      "> Лучшее max_depth: 10\n",
      "> Лучшее n_estimators: 15\n",
      "> Лучшее criterion: gini\n",
      "> Лучшее min_samples_split: 14\n",
      "> Лучшее min_samples_leaf: 4 \n",
      "\n",
      "> Итераций потребовалось: 117600\n",
      "> Затрачено секунд: 791.725458\n"
     ]
    },
    {
     "data": {
      "image/png": "[encoded data removed]",
      "text/plain": [
       "<Figure size 432x288 with 2 Axes>"
      ]
     },
     "metadata": {},
     "output_type": "display_data"
    }
   ],
   "source": [
    "# Задаём диапозоны значений гиперпараметров\n",
    "split_range = range(2, 22)\n",
    "leaf_range = range(1, 22)\n",
    "depth_range = range(1, 11)\n",
    "n_extimators_range = range(2, 16)\n",
    "criterion_range = ['gini', 'entropy']\n",
    "\n",
    "best_model_rfc_class_more = model_rfc_launch(p_split_range=split_range, \n",
    "                 p_leaf_range=leaf_range, \n",
    "                 p_depth_range=depth_range, \n",
    "                 p_n_estimators_range=n_extimators_range,\n",
    "                 p_class_weight=class_weight,\n",
    "                 p_features_sampled=features_upsampled,\n",
    "                 p_target_sampled=target_upsampled,\n",
    "                 p_criterion_range=criterion_range)"
   ]
  },
  {
   "cell_type": "markdown",
   "metadata": {},
   "source": [
    "Результаты работы модели при увеличении выборки напоминают результаты при взвешивании классов, но чуть хуже. В частности, на это указывает как метрика `f1_score`, так и матрица ошибок, по которой видно, что модель допускает несколько больше ложно-отрицательных предсказаний, а также делает меньше истинно-положительных."
   ]
  },
  {
   "cell_type": "markdown",
   "metadata": {},
   "source": [
    "#### Уменьшение выборки"
   ]
  },
  {
   "cell_type": "markdown",
   "metadata": {},
   "source": [
    "Как и в пункте 2.2.2, будем использовать следующие диапозоны гиперпараметров:\n",
    "- ***n_estimators*** - от 2 до 20 включительно (по умолчанию - *100*);\n",
    "- ***max_depth*** - от 3 до 20 включительно (по умолчанию - *None*);\n",
    "- ***min_samples_split*** - от 2 до 21 включительно (по умолчанию - *2*);\n",
    "- ***min_samples_leaf*** - от 1 до 21 включительно (по умолчанию - *1*);\n",
    "- ***criterion*** - gini и entropy (по умолчанию - 'gini').\n",
    "\n",
    "Также, в вызове функции `model_rfc_launch` укажем, что в этот раз мы будем использовать увеличенные выборки - `features_downsampled` и `target_downsampled`."
   ]
  },
  {
   "cell_type": "code",
   "execution_count": 41,
   "metadata": {
    "scrolled": true
   },
   "outputs": [
    {
     "name": "stdout",
     "output_type": "stream",
     "text": [
      "> Старт обучения модели RandomForestClassifier с перебором гиперпараметров...\n",
      "\n",
      "2023-07-19 17:26:04.942262\n",
      "> Итерация № 7000 из 117600\n",
      "> Прогресс: 5.95 % \n",
      "\n",
      "2023-07-19 17:26:28.641085\n",
      "> Итерация № 14000 из 117600\n",
      "> Прогресс: 11.9 % \n",
      "\n",
      "2023-07-19 17:26:53.068348\n",
      "> Итерация № 21000 из 117600\n",
      "> Прогресс: 17.86 % \n",
      "\n",
      "2023-07-19 17:27:17.120498\n",
      "> Итерация № 28000 из 117600\n",
      "> Прогресс: 23.81 % \n",
      "\n",
      "2023-07-19 17:27:41.393330\n",
      "> Итерация № 35000 из 117600\n",
      "> Прогресс: 29.76 % \n",
      "\n",
      "2023-07-19 17:28:05.578185\n",
      "> Итерация № 42000 из 117600\n",
      "> Прогресс: 35.71 % \n",
      "\n",
      "2023-07-19 17:28:29.551069\n",
      "> Итерация № 49000 из 117600\n",
      "> Прогресс: 41.67 % \n",
      "\n",
      "2023-07-19 17:28:53.622078\n",
      "> Итерация № 56000 из 117600\n",
      "> Прогресс: 47.62 % \n",
      "\n",
      "2023-07-19 17:29:18.770651\n",
      "> Итерация № 63000 из 117600\n",
      "> Прогресс: 53.57 % \n",
      "\n",
      "2023-07-19 17:29:44.397148\n",
      "> Итерация № 70000 из 117600\n",
      "> Прогресс: 59.52 % \n",
      "\n",
      "2023-07-19 17:30:09.852963\n",
      "> Итерация № 77000 из 117600\n",
      "> Прогресс: 65.48 % \n",
      "\n",
      "2023-07-19 17:30:35.513851\n",
      "> Итерация № 84000 из 117600\n",
      "> Прогресс: 71.43 % \n",
      "\n",
      "2023-07-19 17:31:00.841467\n",
      "> Итерация № 91000 из 117600\n",
      "> Прогресс: 77.38 % \n",
      "\n",
      "2023-07-19 17:31:26.310471\n",
      "> Итерация № 98000 из 117600\n",
      "> Прогресс: 83.33 % \n",
      "\n",
      "2023-07-19 17:31:51.553354\n",
      "> Итерация № 105000 из 117600\n",
      "> Прогресс: 89.29 % \n",
      "\n",
      "2023-07-19 17:32:16.738405\n",
      "> Итерация № 112000 из 117600\n",
      "> Прогресс: 95.24 % \n",
      "\n",
      "> Готово!\n",
      "\n",
      "> f1_score: 0.5948827292110874\n",
      "> auc_roc: 0.8394649201740307 \n",
      "\n",
      "> Лучшее max_depth: 6\n",
      "> Лучшее n_estimators: 15\n",
      "> Лучшее criterion: gini\n",
      "> Лучшее min_samples_split: 13\n",
      "> Лучшее min_samples_leaf: 1 \n",
      "\n",
      "> Итераций потребовалось: 117600\n",
      "> Затрачено секунд: 416.939576\n"
     ]
    },
    {
     "data": {
      "image/png": "[encoded data removed]",
      "text/plain": [
       "<Figure size 432x288 with 2 Axes>"
      ]
     },
     "metadata": {
      "needs_background": "light"
     },
     "output_type": "display_data"
    }
   ],
   "source": [
    "# Задаём диапозоны значений гиперпараметров\n",
    "split_range = range(2, 22)\n",
    "leaf_range = range(1, 22)\n",
    "depth_range = range(1, 11)\n",
    "n_extimators_range = range(2, 16)\n",
    "criterion_range = ['gini', 'entropy']\n",
    "\n",
    "best_model_rfc_class_less = model_rfc_launch(p_split_range=split_range, \n",
    "                 p_leaf_range=leaf_range, \n",
    "                 p_depth_range=depth_range, \n",
    "                 p_n_estimators_range=n_extimators_range,\n",
    "                 p_class_weight=class_weight,\n",
    "                 p_features_sampled=features_downsampled,\n",
    "                 p_target_sampled=target_downsampled,\n",
    "                 p_criterion_range=criterion_range)"
   ]
  },
  {
   "cell_type": "markdown",
   "metadata": {},
   "source": [
    "В данном случае результаты получились более неоднозначными: с одной стороны мы имеем самый высокий показатель `AUC-ROC` - 0.83946 (почти наравне с п.3.2.2.), но в то же время значение `f1_score` близко к нижней границе допустимого значения - 0.594.\n",
    "\n",
    "Если взглянуть на матрицу ошибок, то видим, что ***для модели RandomForestClassifier*** имеем наиболее малое количество ложно-отрицательных предсказаний, а также наибольшее количество истинно-положительных предсказаний. К текущему моменту конкретно по этим показателям данную модель превосходит только DecisionTreeClassifier в п.3.1.3., которую мы расценили как наименее успешную."
   ]
  },
  {
   "cell_type": "markdown",
   "metadata": {},
   "source": [
    "### Модель LogisticRegression (с устранением дисбаланса)"
   ]
  },
  {
   "cell_type": "markdown",
   "metadata": {},
   "source": [
    "#### Взвешивание классов"
   ]
  },
  {
   "cell_type": "markdown",
   "metadata": {},
   "source": [
    "Проверим работу модели LogisticRegression с попыткой устранить влияние дисбаланса.\n",
    "\n",
    "Используем параметр ***class_weight='balanced'***, чтобы скорректировать значения весов классов."
   ]
  },
  {
   "cell_type": "code",
   "execution_count": 42,
   "metadata": {
    "scrolled": true
   },
   "outputs": [
    {
     "name": "stdout",
     "output_type": "stream",
     "text": [
      "> Старт обучения модели LogisticRegression...\n",
      "\n",
      "Порог = 0.00 | Точность = 0.205, Полнота = 1.000, f1_score = 0.340\n",
      "Порог = 0.02 | Точность = 0.205, Полнота = 1.000, f1_score = 0.340\n",
      "Порог = 0.04 | Точность = 0.205, Полнота = 1.000, f1_score = 0.340\n",
      "Порог = 0.06 | Точность = 0.205, Полнота = 1.000, f1_score = 0.340\n",
      "Порог = 0.08 | Точность = 0.205, Полнота = 1.000, f1_score = 0.340\n",
      "Порог = 0.10 | Точность = 0.205, Полнота = 1.000, f1_score = 0.340\n",
      "Порог = 0.12 | Точность = 0.205, Полнота = 1.000, f1_score = 0.340\n",
      "Порог = 0.14 | Точность = 0.205, Полнота = 1.000, f1_score = 0.340\n",
      "Порог = 0.16 | Точность = 0.205, Полнота = 1.000, f1_score = 0.340\n",
      "Порог = 0.18 | Точность = 0.205, Полнота = 1.000, f1_score = 0.340\n",
      "Порог = 0.20 | Точность = 0.205, Полнота = 1.000, f1_score = 0.340\n",
      "Порог = 0.22 | Точность = 0.205, Полнота = 1.000, f1_score = 0.340\n",
      "Порог = 0.24 | Точность = 0.205, Полнота = 1.000, f1_score = 0.340\n",
      "Порог = 0.26 | Точность = 0.205, Полнота = 1.000, f1_score = 0.340\n",
      "Порог = 0.28 | Точность = 0.205, Полнота = 1.000, f1_score = 0.340\n",
      "Порог = 0.30 | Точность = 0.205, Полнота = 1.000, f1_score = 0.340\n",
      "Порог = 0.32 | Точность = 0.205, Полнота = 1.000, f1_score = 0.340\n",
      "Порог = 0.34 | Точность = 0.205, Полнота = 1.000, f1_score = 0.340\n",
      "Порог = 0.36 | Точность = 0.205, Полнота = 1.000, f1_score = 0.340\n",
      "Порог = 0.38 | Точность = 0.205, Полнота = 0.987, f1_score = 0.340\n",
      "Порог = 0.40 | Точность = 0.210, Полнота = 0.936, f1_score = 0.343\n",
      "Порог = 0.42 | Точность = 0.222, Полнота = 0.847, f1_score = 0.351\n",
      "Порог = 0.44 | Точность = 0.234, Полнота = 0.769, f1_score = 0.359\n",
      "Порог = 0.46 | Точность = 0.241, Полнота = 0.743, f1_score = 0.364\n",
      "Порог = 0.48 | Точность = 0.247, Полнота = 0.727, f1_score = 0.368\n",
      "Порог = 0.50 | Точность = 0.255, Полнота = 0.686, f1_score = 0.372\n",
      "Порог = 0.52 | Точность = 0.264, Полнота = 0.601, f1_score = 0.366\n",
      "Порог = 0.54 | Точность = 0.282, Полнота = 0.469, f1_score = 0.352\n",
      "Порог = 0.56 | Точность = 0.276, Полнота = 0.276, f1_score = 0.276\n",
      "Порог = 0.58 | Точность = 0.313, Полнота = 0.164, f1_score = 0.215\n",
      "Порог = 0.60 | Точность = 0.342, Полнота = 0.072, f1_score = 0.119\n",
      "Порог = 0.62 | Точность = 0.308, Полнота = 0.021, f1_score = 0.040\n",
      "Порог = 0.64 | Точность = 0.429, Полнота = 0.008, f1_score = 0.016\n",
      "Порог = 0.66 | Точность = 0.000, Полнота = 0.000, f1_score = 0.000\n",
      "Порог = 0.68 | Точность = 0.000, Полнота = 0.000, f1_score = 0.000\n",
      "Порог = 0.70 | Точность = 0.000, Полнота = 0.000, f1_score = 0.000\n",
      "Порог = 0.72 | Точность = 0.000, Полнота = 0.000, f1_score = 0.000\n",
      "Порог = 0.74 | Точность = 0.000, Полнота = 0.000, f1_score = 0.000\n",
      "Порог = 0.76 | Точность = 0.000, Полнота = 0.000, f1_score = 0.000\n",
      "Порог = 0.78 | Точность = 0.000, Полнота = 0.000, f1_score = 0.000\n",
      "Порог = 0.80 | Точность = 0.000, Полнота = 0.000, f1_score = 0.000\n",
      "Порог = 0.82 | Точность = 0.000, Полнота = 0.000, f1_score = 0.000\n",
      "Порог = 0.84 | Точность = 0.000, Полнота = 0.000, f1_score = 0.000\n",
      "Порог = 0.86 | Точность = 0.000, Полнота = 0.000, f1_score = 0.000\n",
      "Порог = 0.88 | Точность = 0.000, Полнота = 0.000, f1_score = 0.000\n",
      "Порог = 0.90 | Точность = 0.000, Полнота = 0.000, f1_score = 0.000\n",
      "Порог = 0.92 | Точность = 0.000, Полнота = 0.000, f1_score = 0.000\n",
      "Порог = 0.94 | Точность = 0.000, Полнота = 0.000, f1_score = 0.000\n",
      "Порог = 0.96 | Точность = 0.000, Полнота = 0.000, f1_score = 0.000\n",
      "Порог = 0.98 | Точность = 0.000, Полнота = 0.000, f1_score = 0.000\n",
      "> Готово!\n",
      "\n",
      "> f1_score: 0.37236363636363634\n",
      "> auc_roc: 0.5996920136924034\n",
      "> precision: 0.2554890219560878\n",
      "> recall: 0.6863270777479893\n",
      "> threshold: 0.5 \n",
      "\n",
      "> Затрачено секунд: 0.569039\n"
     ]
    },
    {
     "name": "stderr",
     "output_type": "stream",
     "text": [
      "/opt/conda/lib/python3.9/site-packages/sklearn/metrics/_classification.py:1245: UndefinedMetricWarning: Precision is ill-defined and being set to 0.0 due to no predicted samples. Use `zero_division` parameter to control this behavior.\n",
      "  _warn_prf(average, modifier, msg_start, len(result))\n",
      "/opt/conda/lib/python3.9/site-packages/sklearn/metrics/_classification.py:1245: UndefinedMetricWarning: Precision is ill-defined and being set to 0.0 due to no predicted samples. Use `zero_division` parameter to control this behavior.\n",
      "  _warn_prf(average, modifier, msg_start, len(result))\n",
      "/opt/conda/lib/python3.9/site-packages/sklearn/metrics/_classification.py:1245: UndefinedMetricWarning: Precision is ill-defined and being set to 0.0 due to no predicted samples. Use `zero_division` parameter to control this behavior.\n",
      "  _warn_prf(average, modifier, msg_start, len(result))\n",
      "/opt/conda/lib/python3.9/site-packages/sklearn/metrics/_classification.py:1245: UndefinedMetricWarning: Precision is ill-defined and being set to 0.0 due to no predicted samples. Use `zero_division` parameter to control this behavior.\n",
      "  _warn_prf(average, modifier, msg_start, len(result))\n",
      "/opt/conda/lib/python3.9/site-packages/sklearn/metrics/_classification.py:1245: UndefinedMetricWarning: Precision is ill-defined and being set to 0.0 due to no predicted samples. Use `zero_division` parameter to control this behavior.\n",
      "  _warn_prf(average, modifier, msg_start, len(result))\n",
      "/opt/conda/lib/python3.9/site-packages/sklearn/metrics/_classification.py:1245: UndefinedMetricWarning: Precision is ill-defined and being set to 0.0 due to no predicted samples. Use `zero_division` parameter to control this behavior.\n",
      "  _warn_prf(average, modifier, msg_start, len(result))\n",
      "/opt/conda/lib/python3.9/site-packages/sklearn/metrics/_classification.py:1245: UndefinedMetricWarning: Precision is ill-defined and being set to 0.0 due to no predicted samples. Use `zero_division` parameter to control this behavior.\n",
      "  _warn_prf(average, modifier, msg_start, len(result))\n",
      "/opt/conda/lib/python3.9/site-packages/sklearn/metrics/_classification.py:1245: UndefinedMetricWarning: Precision is ill-defined and being set to 0.0 due to no predicted samples. Use `zero_division` parameter to control this behavior.\n",
      "  _warn_prf(average, modifier, msg_start, len(result))\n",
      "/opt/conda/lib/python3.9/site-packages/sklearn/metrics/_classification.py:1245: UndefinedMetricWarning: Precision is ill-defined and being set to 0.0 due to no predicted samples. Use `zero_division` parameter to control this behavior.\n",
      "  _warn_prf(average, modifier, msg_start, len(result))\n",
      "/opt/conda/lib/python3.9/site-packages/sklearn/metrics/_classification.py:1245: UndefinedMetricWarning: Precision is ill-defined and being set to 0.0 due to no predicted samples. Use `zero_division` parameter to control this behavior.\n",
      "  _warn_prf(average, modifier, msg_start, len(result))\n",
      "/opt/conda/lib/python3.9/site-packages/sklearn/metrics/_classification.py:1245: UndefinedMetricWarning: Precision is ill-defined and being set to 0.0 due to no predicted samples. Use `zero_division` parameter to control this behavior.\n",
      "  _warn_prf(average, modifier, msg_start, len(result))\n",
      "/opt/conda/lib/python3.9/site-packages/sklearn/metrics/_classification.py:1245: UndefinedMetricWarning: Precision is ill-defined and being set to 0.0 due to no predicted samples. Use `zero_division` parameter to control this behavior.\n",
      "  _warn_prf(average, modifier, msg_start, len(result))\n",
      "/opt/conda/lib/python3.9/site-packages/sklearn/metrics/_classification.py:1245: UndefinedMetricWarning: Precision is ill-defined and being set to 0.0 due to no predicted samples. Use `zero_division` parameter to control this behavior.\n",
      "  _warn_prf(average, modifier, msg_start, len(result))\n",
      "/opt/conda/lib/python3.9/site-packages/sklearn/metrics/_classification.py:1245: UndefinedMetricWarning: Precision is ill-defined and being set to 0.0 due to no predicted samples. Use `zero_division` parameter to control this behavior.\n",
      "  _warn_prf(average, modifier, msg_start, len(result))\n",
      "/opt/conda/lib/python3.9/site-packages/sklearn/metrics/_classification.py:1245: UndefinedMetricWarning: Precision is ill-defined and being set to 0.0 due to no predicted samples. Use `zero_division` parameter to control this behavior.\n",
      "  _warn_prf(average, modifier, msg_start, len(result))\n",
      "/opt/conda/lib/python3.9/site-packages/sklearn/metrics/_classification.py:1245: UndefinedMetricWarning: Precision is ill-defined and being set to 0.0 due to no predicted samples. Use `zero_division` parameter to control this behavior.\n",
      "  _warn_prf(average, modifier, msg_start, len(result))\n"
     ]
    },
    {
     "data": {
      "image/png": "[encoded data removed]",
      "text/plain": [
       "<Figure size 432x288 with 2 Axes>"
      ]
     },
     "metadata": {
      "needs_background": "light"
     },
     "output_type": "display_data"
    }
   ],
   "source": [
    "threshold = np.arange(0, 1, 0.02)\n",
    "class_weight='balanced'\n",
    "\n",
    "best_model_lr_class_weight = model_lr_launch(p_threshold_range=threshold,\n",
    "                p_class_weight=class_weight)"
   ]
  },
  {
   "cell_type": "markdown",
   "metadata": {},
   "source": [
    "Как видно из результата, значение `f1_score` ещё ниже, чем без попытки устранить дисбаланс, а сама модель всё также не склонна давать положительные предсказания при наивысшем значении рассматриваемой метрики качества."
   ]
  },
  {
   "cell_type": "markdown",
   "metadata": {},
   "source": [
    "#### Увеличение выборки"
   ]
  },
  {
   "cell_type": "markdown",
   "metadata": {},
   "source": [
    "Проверим работу модели LogisticRegression с попыткой устранить влияние дисбаланса.\n",
    "\n",
    "Используем увеличенные выборки `features_upsampled` и `target_upsampled` для обучения модели."
   ]
  },
  {
   "cell_type": "code",
   "execution_count": 43,
   "metadata": {},
   "outputs": [
    {
     "name": "stdout",
     "output_type": "stream",
     "text": [
      "> Старт обучения модели LogisticRegression...\n",
      "\n",
      "Порог = 0.00 | Точность = 0.205, Полнота = 1.000, f1_score = 0.340\n",
      "Порог = 0.02 | Точность = 0.205, Полнота = 1.000, f1_score = 0.340\n",
      "Порог = 0.04 | Точность = 0.205, Полнота = 1.000, f1_score = 0.340\n",
      "Порог = 0.06 | Точность = 0.205, Полнота = 1.000, f1_score = 0.340\n",
      "Порог = 0.08 | Точность = 0.205, Полнота = 1.000, f1_score = 0.340\n",
      "Порог = 0.10 | Точность = 0.205, Полнота = 1.000, f1_score = 0.340\n",
      "Порог = 0.12 | Точность = 0.205, Полнота = 1.000, f1_score = 0.340\n",
      "Порог = 0.14 | Точность = 0.205, Полнота = 1.000, f1_score = 0.341\n",
      "Порог = 0.16 | Точность = 0.206, Полнота = 0.997, f1_score = 0.341\n",
      "Порог = 0.18 | Точность = 0.207, Полнота = 0.997, f1_score = 0.343\n",
      "Порог = 0.20 | Точность = 0.209, Полнота = 0.997, f1_score = 0.345\n",
      "Порог = 0.22 | Точность = 0.210, Полнота = 0.992, f1_score = 0.347\n",
      "Порог = 0.24 | Точность = 0.213, Полнота = 0.989, f1_score = 0.351\n",
      "Порог = 0.26 | Точность = 0.216, Полнота = 0.979, f1_score = 0.354\n",
      "Порог = 0.28 | Точность = 0.221, Полнота = 0.971, f1_score = 0.360\n",
      "Порог = 0.30 | Точность = 0.226, Полнота = 0.960, f1_score = 0.365\n",
      "Порог = 0.32 | Точность = 0.232, Полнота = 0.946, f1_score = 0.373\n",
      "Порог = 0.34 | Точность = 0.238, Полнота = 0.922, f1_score = 0.379\n",
      "Порог = 0.36 | Точность = 0.247, Полнота = 0.903, f1_score = 0.388\n",
      "Порог = 0.38 | Точность = 0.257, Полнота = 0.877, f1_score = 0.398\n",
      "Порог = 0.40 | Точность = 0.269, Полнота = 0.847, f1_score = 0.408\n",
      "Порог = 0.42 | Точность = 0.279, Полнота = 0.815, f1_score = 0.416\n",
      "Порог = 0.44 | Точность = 0.292, Полнота = 0.794, f1_score = 0.427\n",
      "Порог = 0.46 | Точность = 0.305, Полнота = 0.751, f1_score = 0.433\n",
      "Порог = 0.48 | Точность = 0.320, Полнота = 0.716, f1_score = 0.442\n",
      "Порог = 0.50 | Точность = 0.341, Полнота = 0.694, f1_score = 0.457\n",
      "Порог = 0.52 | Точность = 0.347, Полнота = 0.635, f1_score = 0.449\n",
      "Порог = 0.54 | Точность = 0.368, Полнота = 0.590, f1_score = 0.453\n",
      "Порог = 0.56 | Точность = 0.374, Полнота = 0.525, f1_score = 0.437\n",
      "Порог = 0.58 | Точность = 0.391, Полнота = 0.488, f1_score = 0.434\n",
      "Порог = 0.60 | Точность = 0.403, Полнота = 0.440, f1_score = 0.421\n",
      "Порог = 0.62 | Точность = 0.417, Полнота = 0.399, f1_score = 0.408\n",
      "Порог = 0.64 | Точность = 0.443, Полнота = 0.375, f1_score = 0.406\n",
      "Порог = 0.66 | Точность = 0.441, Полнота = 0.322, f1_score = 0.372\n",
      "Порог = 0.68 | Точность = 0.450, Полнота = 0.287, f1_score = 0.350\n",
      "Порог = 0.70 | Точность = 0.464, Полнота = 0.263, f1_score = 0.336\n",
      "Порог = 0.72 | Точность = 0.483, Полнота = 0.228, f1_score = 0.310\n",
      "Порог = 0.74 | Точность = 0.472, Полнота = 0.180, f1_score = 0.260\n",
      "Порог = 0.76 | Точность = 0.461, Полнота = 0.142, f1_score = 0.217\n",
      "Порог = 0.78 | Точность = 0.413, Полнота = 0.102, f1_score = 0.163\n",
      "Порог = 0.80 | Точность = 0.387, Полнота = 0.078, f1_score = 0.129\n",
      "Порог = 0.82 | Точность = 0.344, Полнота = 0.056, f1_score = 0.097\n",
      "Порог = 0.84 | Точность = 0.312, Полнота = 0.040, f1_score = 0.071\n",
      "Порог = 0.86 | Точность = 0.379, Полнота = 0.029, f1_score = 0.055\n",
      "Порог = 0.88 | Точность = 0.214, Полнота = 0.008, f1_score = 0.016\n",
      "Порог = 0.90 | Точность = 0.333, Полнота = 0.008, f1_score = 0.016\n",
      "Порог = 0.92 | Точность = 0.000, Полнота = 0.000, f1_score = 0.000\n",
      "Порог = 0.94 | Точность = 0.000, Полнота = 0.000, f1_score = 0.000\n",
      "Порог = 0.96 | Точность = 0.000, Полнота = 0.000, f1_score = 0.000\n",
      "Порог = 0.98 | Точность = 0.000, Полнота = 0.000, f1_score = 0.000\n",
      "> Готово!\n",
      "\n",
      "> f1_score: 0.45719329214474846\n",
      "> auc_roc: 0.7132907223763184\n",
      "> precision: 0.34078947368421053\n",
      "> recall: 0.6943699731903485\n",
      "> threshold: 0.5 \n",
      "\n",
      "> Затрачено секунд: 1.546312\n"
     ]
    },
    {
     "name": "stderr",
     "output_type": "stream",
     "text": [
      "/opt/conda/lib/python3.9/site-packages/sklearn/metrics/_classification.py:1245: UndefinedMetricWarning: Precision is ill-defined and being set to 0.0 due to no predicted samples. Use `zero_division` parameter to control this behavior.\n",
      "  _warn_prf(average, modifier, msg_start, len(result))\n",
      "/opt/conda/lib/python3.9/site-packages/sklearn/metrics/_classification.py:1245: UndefinedMetricWarning: Precision is ill-defined and being set to 0.0 due to no predicted samples. Use `zero_division` parameter to control this behavior.\n",
      "  _warn_prf(average, modifier, msg_start, len(result))\n"
     ]
    },
    {
     "data": {
      "image/png": "[encoded data removed]",
      "text/plain": [
       "<Figure size 432x288 with 2 Axes>"
      ]
     },
     "metadata": {
      "needs_background": "light"
     },
     "output_type": "display_data"
    }
   ],
   "source": [
    "threshold = np.arange(0, 1, 0.02)\n",
    "\n",
    "best_model_lr_class_more = model_lr_launch(p_threshold_range=threshold,\n",
    "                p_features_sampled=features_upsampled,\n",
    "                p_target_sampled=target_upsampled)"
   ]
  },
  {
   "cell_type": "markdown",
   "metadata": {},
   "source": [
    "Значение `f1_score` хоть и является наибольшим среди полученных для LogisticRegression, но всё так же не достигает минимума, а модель по-прежнему не даёт положительных предсказаний."
   ]
  },
  {
   "cell_type": "markdown",
   "metadata": {},
   "source": [
    "#### Уменьшение выборки"
   ]
  },
  {
   "cell_type": "markdown",
   "metadata": {},
   "source": [
    "Проверим работу модели LogisticRegression с попыткой устранить влияние дисбаланса.\n",
    "\n",
    "Используем увеличенные выборки `features_downsampled` и `target_downsampled` для обучения модели."
   ]
  },
  {
   "cell_type": "code",
   "execution_count": 44,
   "metadata": {},
   "outputs": [
    {
     "name": "stdout",
     "output_type": "stream",
     "text": [
      "> Старт обучения модели LogisticRegression...\n",
      "\n",
      "Порог = 0.00 | Точность = 0.205, Полнота = 1.000, f1_score = 0.340\n",
      "Порог = 0.02 | Точность = 0.205, Полнота = 1.000, f1_score = 0.340\n",
      "Порог = 0.04 | Точность = 0.205, Полнота = 1.000, f1_score = 0.340\n",
      "Порог = 0.06 | Точность = 0.205, Полнота = 1.000, f1_score = 0.340\n",
      "Порог = 0.08 | Точность = 0.205, Полнота = 1.000, f1_score = 0.340\n",
      "Порог = 0.10 | Точность = 0.205, Полнота = 1.000, f1_score = 0.340\n",
      "Порог = 0.12 | Точность = 0.205, Полнота = 1.000, f1_score = 0.340\n",
      "Порог = 0.14 | Точность = 0.205, Полнота = 1.000, f1_score = 0.340\n",
      "Порог = 0.16 | Точность = 0.205, Полнота = 1.000, f1_score = 0.340\n",
      "Порог = 0.18 | Точность = 0.205, Полнота = 1.000, f1_score = 0.340\n",
      "Порог = 0.20 | Точность = 0.205, Полнота = 1.000, f1_score = 0.340\n",
      "Порог = 0.22 | Точность = 0.205, Полнота = 1.000, f1_score = 0.340\n",
      "Порог = 0.24 | Точность = 0.205, Полнота = 1.000, f1_score = 0.340\n",
      "Порог = 0.26 | Точность = 0.205, Полнота = 1.000, f1_score = 0.340\n",
      "Порог = 0.28 | Точность = 0.205, Полнота = 1.000, f1_score = 0.340\n",
      "Порог = 0.30 | Точность = 0.205, Полнота = 1.000, f1_score = 0.340\n",
      "Порог = 0.32 | Точность = 0.205, Полнота = 1.000, f1_score = 0.340\n",
      "Порог = 0.34 | Точность = 0.205, Полнота = 1.000, f1_score = 0.340\n",
      "Порог = 0.36 | Точность = 0.205, Полнота = 1.000, f1_score = 0.340\n",
      "Порог = 0.38 | Точность = 0.205, Полнота = 1.000, f1_score = 0.340\n",
      "Порог = 0.40 | Точность = 0.205, Полнота = 0.984, f1_score = 0.340\n",
      "Порог = 0.42 | Точность = 0.214, Полнота = 0.890, f1_score = 0.345\n",
      "Порог = 0.44 | Точность = 0.233, Полнота = 0.772, f1_score = 0.358\n",
      "Порог = 0.46 | Точность = 0.242, Полнота = 0.748, f1_score = 0.366\n",
      "Порог = 0.48 | Точность = 0.243, Полнота = 0.732, f1_score = 0.365\n",
      "Порог = 0.50 | Точность = 0.253, Полнота = 0.710, f1_score = 0.373\n",
      "Порог = 0.52 | Точность = 0.263, Полнота = 0.622, f1_score = 0.370\n",
      "Порог = 0.54 | Точность = 0.283, Полнота = 0.475, f1_score = 0.354\n",
      "Порог = 0.56 | Точность = 0.274, Полнота = 0.268, f1_score = 0.271\n",
      "Порог = 0.58 | Точность = 0.304, Полнота = 0.137, f1_score = 0.189\n",
      "Порог = 0.60 | Точность = 0.333, Полнота = 0.051, f1_score = 0.088\n",
      "Порог = 0.62 | Точность = 0.385, Полнота = 0.013, f1_score = 0.026\n",
      "Порог = 0.64 | Точность = 0.667, Полнота = 0.005, f1_score = 0.011\n",
      "Порог = 0.66 | Точность = 0.000, Полнота = 0.000, f1_score = 0.000\n",
      "Порог = 0.68 | Точность = 0.000, Полнота = 0.000, f1_score = 0.000\n",
      "Порог = 0.70 | Точность = 0.000, Полнота = 0.000, f1_score = 0.000\n",
      "Порог = 0.72 | Точность = 0.000, Полнота = 0.000, f1_score = 0.000\n",
      "Порог = 0.74 | Точность = 0.000, Полнота = 0.000, f1_score = 0.000\n",
      "Порог = 0.76 | Точность = 0.000, Полнота = 0.000, f1_score = 0.000\n",
      "Порог = 0.78 | Точность = 0.000, Полнота = 0.000, f1_score = 0.000\n",
      "Порог = 0.80 | Точность = 0.000, Полнота = 0.000, f1_score = 0.000\n",
      "Порог = 0.82 | Точность = 0.000, Полнота = 0.000, f1_score = 0.000\n",
      "Порог = 0.84 | Точность = 0.000, Полнота = 0.000, f1_score = 0.000\n",
      "Порог = 0.86 | Точность = 0.000, Полнота = 0.000, f1_score = 0.000\n",
      "Порог = 0.88 | Точность = 0.000, Полнота = 0.000, f1_score = 0.000\n",
      "Порог = 0.90 | Точность = 0.000, Полнота = 0.000, f1_score = 0.000\n",
      "Порог = 0.92 | Точность = 0.000, Полнота = 0.000, f1_score = 0.000\n",
      "Порог = 0.94 | Точность = 0.000, Полнота = 0.000, f1_score = 0.000\n",
      "Порог = 0.96 | Точность = 0.000, Полнота = 0.000, f1_score = 0.000\n",
      "Порог = 0.98 | Точность = 0.000, Полнота = 0.000, f1_score = 0.000\n",
      "> Готово!\n",
      "\n",
      "> f1_score: 0.3732394366197183\n",
      "> auc_roc: 0.599127990574877\n",
      "> precision: 0.2531041069723018\n",
      "> recall: 0.710455764075067\n",
      "> threshold: 0.5 \n",
      "\n",
      "> Затрачено секунд: 0.616991\n"
     ]
    },
    {
     "name": "stderr",
     "output_type": "stream",
     "text": [
      "/opt/conda/lib/python3.9/site-packages/sklearn/metrics/_classification.py:1245: UndefinedMetricWarning: Precision is ill-defined and being set to 0.0 due to no predicted samples. Use `zero_division` parameter to control this behavior.\n",
      "  _warn_prf(average, modifier, msg_start, len(result))\n",
      "/opt/conda/lib/python3.9/site-packages/sklearn/metrics/_classification.py:1245: UndefinedMetricWarning: Precision is ill-defined and being set to 0.0 due to no predicted samples. Use `zero_division` parameter to control this behavior.\n",
      "  _warn_prf(average, modifier, msg_start, len(result))\n",
      "/opt/conda/lib/python3.9/site-packages/sklearn/metrics/_classification.py:1245: UndefinedMetricWarning: Precision is ill-defined and being set to 0.0 due to no predicted samples. Use `zero_division` parameter to control this behavior.\n",
      "  _warn_prf(average, modifier, msg_start, len(result))\n",
      "/opt/conda/lib/python3.9/site-packages/sklearn/metrics/_classification.py:1245: UndefinedMetricWarning: Precision is ill-defined and being set to 0.0 due to no predicted samples. Use `zero_division` parameter to control this behavior.\n",
      "  _warn_prf(average, modifier, msg_start, len(result))\n",
      "/opt/conda/lib/python3.9/site-packages/sklearn/metrics/_classification.py:1245: UndefinedMetricWarning: Precision is ill-defined and being set to 0.0 due to no predicted samples. Use `zero_division` parameter to control this behavior.\n",
      "  _warn_prf(average, modifier, msg_start, len(result))\n",
      "/opt/conda/lib/python3.9/site-packages/sklearn/metrics/_classification.py:1245: UndefinedMetricWarning: Precision is ill-defined and being set to 0.0 due to no predicted samples. Use `zero_division` parameter to control this behavior.\n",
      "  _warn_prf(average, modifier, msg_start, len(result))\n",
      "/opt/conda/lib/python3.9/site-packages/sklearn/metrics/_classification.py:1245: UndefinedMetricWarning: Precision is ill-defined and being set to 0.0 due to no predicted samples. Use `zero_division` parameter to control this behavior.\n",
      "  _warn_prf(average, modifier, msg_start, len(result))\n",
      "/opt/conda/lib/python3.9/site-packages/sklearn/metrics/_classification.py:1245: UndefinedMetricWarning: Precision is ill-defined and being set to 0.0 due to no predicted samples. Use `zero_division` parameter to control this behavior.\n",
      "  _warn_prf(average, modifier, msg_start, len(result))\n",
      "/opt/conda/lib/python3.9/site-packages/sklearn/metrics/_classification.py:1245: UndefinedMetricWarning: Precision is ill-defined and being set to 0.0 due to no predicted samples. Use `zero_division` parameter to control this behavior.\n",
      "  _warn_prf(average, modifier, msg_start, len(result))\n",
      "/opt/conda/lib/python3.9/site-packages/sklearn/metrics/_classification.py:1245: UndefinedMetricWarning: Precision is ill-defined and being set to 0.0 due to no predicted samples. Use `zero_division` parameter to control this behavior.\n",
      "  _warn_prf(average, modifier, msg_start, len(result))\n",
      "/opt/conda/lib/python3.9/site-packages/sklearn/metrics/_classification.py:1245: UndefinedMetricWarning: Precision is ill-defined and being set to 0.0 due to no predicted samples. Use `zero_division` parameter to control this behavior.\n",
      "  _warn_prf(average, modifier, msg_start, len(result))\n",
      "/opt/conda/lib/python3.9/site-packages/sklearn/metrics/_classification.py:1245: UndefinedMetricWarning: Precision is ill-defined and being set to 0.0 due to no predicted samples. Use `zero_division` parameter to control this behavior.\n",
      "  _warn_prf(average, modifier, msg_start, len(result))\n",
      "/opt/conda/lib/python3.9/site-packages/sklearn/metrics/_classification.py:1245: UndefinedMetricWarning: Precision is ill-defined and being set to 0.0 due to no predicted samples. Use `zero_division` parameter to control this behavior.\n",
      "  _warn_prf(average, modifier, msg_start, len(result))\n",
      "/opt/conda/lib/python3.9/site-packages/sklearn/metrics/_classification.py:1245: UndefinedMetricWarning: Precision is ill-defined and being set to 0.0 due to no predicted samples. Use `zero_division` parameter to control this behavior.\n",
      "  _warn_prf(average, modifier, msg_start, len(result))\n",
      "/opt/conda/lib/python3.9/site-packages/sklearn/metrics/_classification.py:1245: UndefinedMetricWarning: Precision is ill-defined and being set to 0.0 due to no predicted samples. Use `zero_division` parameter to control this behavior.\n",
      "  _warn_prf(average, modifier, msg_start, len(result))\n",
      "/opt/conda/lib/python3.9/site-packages/sklearn/metrics/_classification.py:1245: UndefinedMetricWarning: Precision is ill-defined and being set to 0.0 due to no predicted samples. Use `zero_division` parameter to control this behavior.\n",
      "  _warn_prf(average, modifier, msg_start, len(result))\n",
      "/opt/conda/lib/python3.9/site-packages/sklearn/metrics/_classification.py:1245: UndefinedMetricWarning: Precision is ill-defined and being set to 0.0 due to no predicted samples. Use `zero_division` parameter to control this behavior.\n",
      "  _warn_prf(average, modifier, msg_start, len(result))\n"
     ]
    },
    {
     "data": {
      "image/png": "[encoded data removed]",
      "text/plain": [
       "<Figure size 432x288 with 2 Axes>"
      ]
     },
     "metadata": {
      "needs_background": "light"
     },
     "output_type": "display_data"
    }
   ],
   "source": [
    "threshold = np.arange(0, 1, 0.02)\n",
    "\n",
    "best_model_lr_class_less = model_lr_launch(p_threshold_range=threshold,\n",
    "                p_features_sampled=features_downsampled,\n",
    "                p_target_sampled=target_downsampled)"
   ]
  },
  {
   "cell_type": "markdown",
   "metadata": {},
   "source": [
    "Результаты для данной модели по-прежнему неудовлетворительны и говорят об отсутствии адекватности в работе модели. Метрика `f1_score` по-прежнему неудовлетворительна (и даже является наименьшей для этой модели), а положительных предсказаний нет.\n",
    "\n",
    "Матрица ошибок, при этом, абсолютно одинакова для всех трёх техник."
   ]
  },
  {
   "cell_type": "markdown",
   "metadata": {},
   "source": [
    "### Выводы"
   ]
  },
  {
   "cell_type": "markdown",
   "metadata": {},
   "source": [
    "Как мы увидели из обучения и проверки моделей с использованием техник устранения влияния дисбаланса, результаты могут отличаться от результатов без учёта дисбаланса как в лучшую, так и в худшую сторону (с некоторым перевесом в лучшую). Каждая из техник приводит к тому, что модель начинает куда более часто предсказывать положительные классы (ложные и истинные).\n",
    "\n",
    "Рассмотрим общую картину по каждой из техник борьбы с дисбалансом:\n",
    "- *Взвешивание классов*:\n",
    "    - Взвешивание классов работает по-разному для разных моделей. Для DecisionTreeClassifier значение `f1_score` упало по сравнению с обучением модели без учёта дисбаланса, а для RandomForestClassifier мы напротив, получили самое высокое значение этой метрики.\n",
    "    \n",
    "- *Увеличение выборки*:\n",
    "    - В большинстве рассматриваемых случаях техника *увеличения* выборки приводила к наиболее высоким показателям метрик качества `f1_score` и `AUC-ROC`. Но в случае с RandomForestClassifier наиболее удачной в отношении значения метрик получилась техника взвешивания классов.\n",
    "    \n",
    "- *Уменьшение выборки*:\n",
    "    - Во всех рассматриваемых случаях техника *уменьшения* выборки выдавала наиболее низкие показатели метрик качества `f1_score` и `AUC-ROC`, но при этом, примечательно, что по матрице ошибок именно с техникой уменьшения выборки получается меньше всего **ложно-отрицательных предсказаний** и больше всего **истинно-положительных предсказаний**.\n",
    "    \n",
    "Для финального тестирования модели кажется наиболее правильным выбрать модель RandomForestClassifier с использованием техники взвешивания классов.\n",
    "\n",
    "Но также мы протестируем модель DecisionTreeClassifier с техникой уменьшения выборки, несмотря на то, что её значение `f1_score` не удовлетворяет минимуму, установленному для проекта.\n",
    "\n",
    "Такой выбор сделан на основе того, что именно эта модель с этой техникой показывает наиболее низкий показатель ложно-отрицательных предсказаний и наиболее высокий показатель истинно-положительных предсказаний. Цена этому - высокий уровень ложно-положительных предсказаний, но если попробовать представить ситуацию с точки зрения бизнеса, то есть вероятность, что для куда более критично не упустить и выявить клиентов, которые собираются уйти из банка, в то время как лишние положительные предсказания будут не так критичны.\n",
    "\n",
    "Это лишь **предположение**, и всё будет зависеть от стратегии банка, которую он будет принимать по отношению к потенциально уходящим из банка клиентам."
   ]
  },
  {
   "cell_type": "markdown",
   "metadata": {},
   "source": [
    "## Тестирование модели"
   ]
  },
  {
   "cell_type": "markdown",
   "metadata": {},
   "source": [
    "### Тестирование модели RandomForestClassifier со взвешиванием классов"
   ]
  },
  {
   "cell_type": "markdown",
   "metadata": {},
   "source": [
    "Выполним предсказание ответов на тестовой выборке с помощью модели `best_model_rfc_class_weight` из п.3.2.1. и отобразим значения метрик:"
   ]
  },
  {
   "cell_type": "code",
   "execution_count": 45,
   "metadata": {},
   "outputs": [
    {
     "name": "stdout",
     "output_type": "stream",
     "text": [
      "f1_score: 0.6236842105263157\n",
      "AUC-ROC: 0.8611414031261359\n"
     ]
    },
    {
     "data": {
      "text/plain": [
       "<sklearn.metrics._plot.confusion_matrix.ConfusionMatrixDisplay at 0x7f85249f5550>"
      ]
     },
     "execution_count": 45,
     "metadata": {},
     "output_type": "execute_result"
    },
    {
     "data": {
      "image/png": "[encoded data removed]",
      "text/plain": [
       "<Figure size 432x288 with 2 Axes>"
      ]
     },
     "metadata": {
      "needs_background": "light"
     },
     "output_type": "display_data"
    }
   ],
   "source": [
    "# Находим предсказания обученной модели\n",
    "predictions_test = best_model_rfc_class_weight.predict(features_test)\n",
    "\n",
    "# Определяем значение метрики `f1-score` на основе полученных предсказаний\n",
    "f1_score_result = f1_score(target_test, predictions_test)\n",
    "\n",
    "# Находим вероятности положительных классов и вычисляем значение метрики `AUC-ROC`\n",
    "probabilities_one_test = best_model_rfc_class_weight.predict_proba(features_test)[:, 1]\n",
    "auc_roc = roc_auc_score(target_test, probabilities_one_test)\n",
    "\n",
    "print('f1_score:', f1_score_result)\n",
    "print('AUC-ROC:', auc_roc)\n",
    "\n",
    "ConfusionMatrixDisplay(confusion_matrix(target_test, predictions_test)).plot()"
   ]
  },
  {
   "cell_type": "markdown",
   "metadata": {},
   "source": [
    "Видим, что значения метрик следующие (test | valid):\n",
    "- f1_score = **0.62** | 0.63;\n",
    "- AUC-ROC = **0.86** | 0.84.\n",
    "\n",
    "Значения расходятся лишь незначительно, поэтому можно считать, что мы подтвердили качество работы модели на тестовой выборке. Согласно условиям проекта данная модель допускается к использованию для оценки потенциальной возможности ухода клиента из банка и имеет наилучшие показатели метрик качества."
   ]
  },
  {
   "cell_type": "markdown",
   "metadata": {},
   "source": [
    "Результат в части предсказаний ложно-отрицательных ответов и истинно-положительных ответов чуть хуже, чем в валидационной выборке, но в целом сопоставимо.\n",
    "\n",
    "Хоть по условиям проекта мы и не можем рекомендовать эту модель к использованию из-за недостаточно высокого значения `f1_score`, всё же следует обратить внимание на то, что эта модель чаще, чем остальные, определяет в действительности уходящих клиентов, а также реже упускает из виду тех, кто собирается уйти (относительно малое число ложно-отрицательных ответов)."
   ]
  },
  {
   "cell_type": "markdown",
   "metadata": {},
   "source": [
    "## Общий вывод"
   ]
  },
  {
   "cell_type": "markdown",
   "metadata": {},
   "source": [
    "Первоначально был выполнен **обзор** полученного датасета `/datasets/Churn.csv` и сделаны выводы о его содержимом и структуре.\n",
    "\n",
    "Далее была выполнена **предобработка данных** (в том числе на основе выводов, сделанных на этапе обзора датасета), в результате которой:\n",
    "- Выполнено удаление трёх столбцов, не являющиеся \"адекватными\" признаками для нашей текущей задачи: технический идентификатор клиента (*custumer_id*), номер строки в таблице (*row_number*) и фамилия (*surname*);\n",
    "- Было выполнено переименование ряда стобцов с целью привести их к семантически правильному виду для Python;\n",
    "- Была удалена почти 1/10 часть объектов по причине наличия пропусков, которые нет возможности заполнить такими значениями, и при этом обеспечить \"чистоту\" данных для обучения;\n",
    "- Признаки \"geopraphy\" и \"gender\" были приведены к числовым значениям.\n",
    "\n",
    "Исходный датасет был разделён на три выборки в соотношении 3:1:1:\n",
    "- Тренировочная: выборка, на которой мы обучали модели;\n",
    "- Валидационная: выборка, на которой настраивали наиболее оптимальные параметры модели;\n",
    "- Тестовая: выборка, на которой проверяли финальные модели.\n",
    "\n",
    "Оценили степень дисбаланса классов и сделали вывод о том, что объекты с целевым признаком \"0\" (клиент не уйдёт из банка) в 4 раза больше, чем объектов с целевым признаком \"1\" (клиент уйдёт из банка). Было решено, что дисбаланс достаточно ощутим, чтобы повлиять на качество обучения модели, поэтому было решено проверить обучение модели и метрики их качества как с дисбалансом, так и без них.\n",
    "\n",
    "Для устранения влияния дисбаланса были использованы три техники борьбы с дисбалансом:\n",
    "- Взвешивание классов (коррекция веса классов в зависимости от их соотношения);\n",
    "- Увеличение выборки (увеличение количества объектов с меньшим классом путём их N-кратного умножения);\n",
    "- Уменьшение выборки (уменьшение количества объектов с большим классом путём случайного отсеивания).\n",
    "\n",
    "В результате пришли к выводу, что обучение с дисбалансом и без него может иметь плюс-минус похожие результаты в части метрик качества, но всё же некоторый перевес в плане качества имеется в случае обучения моделей при борьбе с дисбалансом.\n",
    "\n",
    "Для финального тестирования были выбрана модель:\n",
    "RandomForestClassifier со *взвешиванием классов* (как модель, показавшая наилучший результат).\n",
    "\n",
    "Модель `RandomForestClassifier` показала стабильно положительный результат, как и в случае с валидационной выборкой и может рекомендоваться к использованию.\n",
    "\n",
    "Но в целом результаты метрик качества (в частности, `f1_score`) сложно считать по-настоящему высокими, и как видно из матриц ошибок по ходу проекта, даже наилучшие модели в нашем случае ошибаются не так уж редко.\n",
    "Для наиболее успешных результатов обучения моделей можно было бы попробовать доработать датасет таким образом, чтобы в него попали дополнительные признаки, которые могут служить хорошими маркерами для стабильных/уходящих клиентов. Например, семейное положение, наличие детей и прочее."
   ]
  },
  {
   "cell_type": "code",
   "execution_count": null,
   "metadata": {},
   "outputs": [],
   "source": []
  }
 ],
 "metadata": {
  "ExecuteTimeLog": [
   {
    "duration": 48,
    "start_time": "2023-04-26T01:55:52.723Z"
   },
   {
    "duration": 416,
    "start_time": "2023-04-26T01:55:56.540Z"
   },
   {
    "duration": 181,
    "start_time": "2023-04-26T01:55:56.959Z"
   },
   {
    "duration": 49,
    "start_time": "2023-04-26T01:56:06.884Z"
   },
   {
    "duration": 21,
    "start_time": "2023-04-26T01:59:50.212Z"
   },
   {
    "duration": 411,
    "start_time": "2023-04-27T01:19:33.118Z"
   },
   {
    "duration": 96,
    "start_time": "2023-04-27T01:19:33.531Z"
   },
   {
    "duration": 19,
    "start_time": "2023-04-27T01:19:33.628Z"
   },
   {
    "duration": 59,
    "start_time": "2023-04-27T01:19:33.648Z"
   },
   {
    "duration": 19,
    "start_time": "2023-04-27T01:19:40.995Z"
   },
   {
    "duration": 12,
    "start_time": "2023-04-27T01:19:50.328Z"
   },
   {
    "duration": 13,
    "start_time": "2023-04-27T01:26:45.858Z"
   },
   {
    "duration": 7,
    "start_time": "2023-04-27T01:26:59.625Z"
   },
   {
    "duration": 6,
    "start_time": "2023-04-27T01:27:01.635Z"
   },
   {
    "duration": 12,
    "start_time": "2023-04-27T01:29:43.957Z"
   },
   {
    "duration": 8,
    "start_time": "2023-04-27T01:29:48.203Z"
   },
   {
    "duration": 5,
    "start_time": "2023-04-27T01:32:07.591Z"
   },
   {
    "duration": 4,
    "start_time": "2023-04-27T01:33:31.124Z"
   },
   {
    "duration": 10,
    "start_time": "2023-04-27T01:40:56.436Z"
   },
   {
    "duration": 8,
    "start_time": "2023-04-27T01:42:20.016Z"
   },
   {
    "duration": 7,
    "start_time": "2023-04-27T01:47:37.661Z"
   },
   {
    "duration": 6,
    "start_time": "2023-04-27T02:09:44.212Z"
   },
   {
    "duration": 7,
    "start_time": "2023-04-27T02:11:13.337Z"
   },
   {
    "duration": 9,
    "start_time": "2023-04-27T02:13:05.746Z"
   },
   {
    "duration": 9,
    "start_time": "2023-04-27T02:14:10.055Z"
   },
   {
    "duration": 4,
    "start_time": "2023-04-27T02:14:34.498Z"
   },
   {
    "duration": 5,
    "start_time": "2023-04-27T02:15:16.348Z"
   },
   {
    "duration": 9,
    "start_time": "2023-04-27T02:15:59.194Z"
   },
   {
    "duration": 5,
    "start_time": "2023-04-27T02:26:18.908Z"
   },
   {
    "duration": 7,
    "start_time": "2023-04-27T02:26:24.569Z"
   },
   {
    "duration": 8,
    "start_time": "2023-04-27T02:26:29.443Z"
   },
   {
    "duration": 9,
    "start_time": "2023-04-27T02:26:36.220Z"
   },
   {
    "duration": 8,
    "start_time": "2023-04-27T02:26:52.206Z"
   },
   {
    "duration": 8,
    "start_time": "2023-04-27T02:26:56.987Z"
   },
   {
    "duration": 8,
    "start_time": "2023-04-27T02:27:02.344Z"
   },
   {
    "duration": 10,
    "start_time": "2023-04-27T02:27:06.287Z"
   },
   {
    "duration": 20,
    "start_time": "2023-04-27T02:27:23.726Z"
   },
   {
    "duration": 10,
    "start_time": "2023-04-27T02:27:29.797Z"
   },
   {
    "duration": 6,
    "start_time": "2023-04-27T02:27:37.253Z"
   },
   {
    "duration": 7,
    "start_time": "2023-04-27T02:27:47.539Z"
   },
   {
    "duration": 19,
    "start_time": "2023-04-27T02:29:00.827Z"
   },
   {
    "duration": 18,
    "start_time": "2023-04-27T02:29:05.589Z"
   },
   {
    "duration": 66,
    "start_time": "2023-04-28T01:31:22.836Z"
   },
   {
    "duration": 437,
    "start_time": "2023-04-28T01:31:26.588Z"
   },
   {
    "duration": 100,
    "start_time": "2023-04-28T01:31:27.027Z"
   },
   {
    "duration": 36,
    "start_time": "2023-04-28T01:31:27.129Z"
   },
   {
    "duration": 15,
    "start_time": "2023-04-28T01:31:27.168Z"
   },
   {
    "duration": 10,
    "start_time": "2023-04-28T01:31:27.185Z"
   },
   {
    "duration": 35,
    "start_time": "2023-04-28T01:31:27.197Z"
   },
   {
    "duration": 7,
    "start_time": "2023-04-28T01:31:27.242Z"
   },
   {
    "duration": 21,
    "start_time": "2023-04-28T01:31:27.251Z"
   },
   {
    "duration": 14,
    "start_time": "2023-04-28T01:31:27.274Z"
   },
   {
    "duration": 15,
    "start_time": "2023-04-28T01:31:27.290Z"
   },
   {
    "duration": 10,
    "start_time": "2023-04-28T01:31:27.307Z"
   },
   {
    "duration": 13,
    "start_time": "2023-04-28T01:31:27.341Z"
   },
   {
    "duration": 15,
    "start_time": "2023-04-28T01:31:27.356Z"
   },
   {
    "duration": 12,
    "start_time": "2023-04-28T01:31:27.373Z"
   },
   {
    "duration": 12,
    "start_time": "2023-04-28T01:31:27.386Z"
   },
   {
    "duration": 20,
    "start_time": "2023-04-28T01:31:27.400Z"
   },
   {
    "duration": 28,
    "start_time": "2023-04-28T01:31:27.422Z"
   },
   {
    "duration": 25,
    "start_time": "2023-04-28T01:31:27.453Z"
   },
   {
    "duration": 16,
    "start_time": "2023-04-28T01:31:27.480Z"
   },
   {
    "duration": 42,
    "start_time": "2023-04-28T01:39:43.487Z"
   },
   {
    "duration": 21,
    "start_time": "2023-04-28T01:40:04.469Z"
   },
   {
    "duration": 13,
    "start_time": "2023-04-28T01:40:20.482Z"
   },
   {
    "duration": 17,
    "start_time": "2023-04-28T01:40:37.359Z"
   },
   {
    "duration": 9,
    "start_time": "2023-04-28T01:48:54.228Z"
   },
   {
    "duration": 3,
    "start_time": "2023-04-28T01:49:36.863Z"
   },
   {
    "duration": 56,
    "start_time": "2023-04-28T01:49:36.868Z"
   },
   {
    "duration": 18,
    "start_time": "2023-04-28T01:49:36.926Z"
   },
   {
    "duration": 20,
    "start_time": "2023-04-28T01:49:36.946Z"
   },
   {
    "duration": 8,
    "start_time": "2023-04-28T01:49:36.968Z"
   },
   {
    "duration": 16,
    "start_time": "2023-04-28T01:49:36.978Z"
   },
   {
    "duration": 5,
    "start_time": "2023-04-28T01:49:36.996Z"
   },
   {
    "duration": 11,
    "start_time": "2023-04-28T01:49:37.003Z"
   },
   {
    "duration": 9,
    "start_time": "2023-04-28T01:49:37.042Z"
   },
   {
    "duration": 19,
    "start_time": "2023-04-28T01:49:37.053Z"
   },
   {
    "duration": 16,
    "start_time": "2023-04-28T01:49:37.075Z"
   },
   {
    "duration": 16,
    "start_time": "2023-04-28T01:49:37.093Z"
   },
   {
    "duration": 30,
    "start_time": "2023-04-28T01:49:37.111Z"
   },
   {
    "duration": 10,
    "start_time": "2023-04-28T01:49:37.143Z"
   },
   {
    "duration": 6,
    "start_time": "2023-04-28T01:49:37.155Z"
   },
   {
    "duration": 17,
    "start_time": "2023-04-28T01:49:37.163Z"
   },
   {
    "duration": 21,
    "start_time": "2023-04-28T01:49:37.182Z"
   },
   {
    "duration": 39,
    "start_time": "2023-04-28T01:49:37.205Z"
   },
   {
    "duration": 18,
    "start_time": "2023-04-28T01:49:37.247Z"
   },
   {
    "duration": 31,
    "start_time": "2023-04-28T01:49:37.267Z"
   },
   {
    "duration": 17,
    "start_time": "2023-04-28T01:49:37.300Z"
   },
   {
    "duration": 3,
    "start_time": "2023-04-28T01:51:30.906Z"
   },
   {
    "duration": 85,
    "start_time": "2023-04-28T01:51:30.911Z"
   },
   {
    "duration": 16,
    "start_time": "2023-04-28T01:51:30.999Z"
   },
   {
    "duration": 42,
    "start_time": "2023-04-28T01:51:31.016Z"
   },
   {
    "duration": 43,
    "start_time": "2023-04-28T01:51:31.060Z"
   },
   {
    "duration": 41,
    "start_time": "2023-04-28T01:51:31.105Z"
   },
   {
    "duration": 55,
    "start_time": "2023-04-28T01:51:31.148Z"
   },
   {
    "duration": 19,
    "start_time": "2023-04-28T01:51:31.205Z"
   },
   {
    "duration": 24,
    "start_time": "2023-04-28T01:51:31.225Z"
   },
   {
    "duration": 19,
    "start_time": "2023-04-28T01:51:31.251Z"
   },
   {
    "duration": 16,
    "start_time": "2023-04-28T01:51:31.273Z"
   },
   {
    "duration": 21,
    "start_time": "2023-04-28T01:51:31.291Z"
   },
   {
    "duration": 16,
    "start_time": "2023-04-28T01:51:31.314Z"
   },
   {
    "duration": 28,
    "start_time": "2023-04-28T01:51:31.332Z"
   },
   {
    "duration": 13,
    "start_time": "2023-04-28T01:51:31.361Z"
   },
   {
    "duration": 12,
    "start_time": "2023-04-28T01:51:31.376Z"
   },
   {
    "duration": 14,
    "start_time": "2023-04-28T01:51:31.390Z"
   },
   {
    "duration": 28,
    "start_time": "2023-04-28T01:51:31.406Z"
   },
   {
    "duration": 15,
    "start_time": "2023-04-28T01:51:31.436Z"
   },
   {
    "duration": 32,
    "start_time": "2023-04-28T01:51:31.453Z"
   },
   {
    "duration": 21,
    "start_time": "2023-04-28T01:51:31.487Z"
   },
   {
    "duration": 14,
    "start_time": "2023-04-28T01:52:20.739Z"
   },
   {
    "duration": 3,
    "start_time": "2023-04-28T01:53:25.510Z"
   },
   {
    "duration": 58,
    "start_time": "2023-04-28T01:53:25.516Z"
   },
   {
    "duration": 17,
    "start_time": "2023-04-28T01:53:25.577Z"
   },
   {
    "duration": 22,
    "start_time": "2023-04-28T01:53:25.597Z"
   },
   {
    "duration": 10,
    "start_time": "2023-04-28T01:53:25.641Z"
   },
   {
    "duration": 27,
    "start_time": "2023-04-28T01:53:25.653Z"
   },
   {
    "duration": 14,
    "start_time": "2023-04-28T01:53:25.683Z"
   },
   {
    "duration": 21,
    "start_time": "2023-04-28T01:53:25.699Z"
   },
   {
    "duration": 31,
    "start_time": "2023-04-28T01:53:25.723Z"
   },
   {
    "duration": 21,
    "start_time": "2023-04-28T01:53:25.756Z"
   },
   {
    "duration": 28,
    "start_time": "2023-04-28T01:53:25.781Z"
   },
   {
    "duration": 14,
    "start_time": "2023-04-28T01:53:25.812Z"
   },
   {
    "duration": 26,
    "start_time": "2023-04-28T01:53:25.828Z"
   },
   {
    "duration": 19,
    "start_time": "2023-04-28T01:53:25.856Z"
   },
   {
    "duration": 8,
    "start_time": "2023-04-28T01:53:25.877Z"
   },
   {
    "duration": 13,
    "start_time": "2023-04-28T01:53:25.887Z"
   },
   {
    "duration": 44,
    "start_time": "2023-04-28T01:53:25.903Z"
   },
   {
    "duration": 24,
    "start_time": "2023-04-28T01:53:25.949Z"
   },
   {
    "duration": 17,
    "start_time": "2023-04-28T01:53:25.975Z"
   },
   {
    "duration": 21,
    "start_time": "2023-04-28T01:53:25.994Z"
   },
   {
    "duration": 37,
    "start_time": "2023-04-28T01:53:26.017Z"
   },
   {
    "duration": 13,
    "start_time": "2023-04-28T01:53:26.057Z"
   },
   {
    "duration": 3,
    "start_time": "2023-04-28T01:56:17.134Z"
   },
   {
    "duration": 59,
    "start_time": "2023-04-28T01:56:17.142Z"
   },
   {
    "duration": 17,
    "start_time": "2023-04-28T01:56:17.204Z"
   },
   {
    "duration": 22,
    "start_time": "2023-04-28T01:56:17.223Z"
   },
   {
    "duration": 9,
    "start_time": "2023-04-28T01:56:17.247Z"
   },
   {
    "duration": 12,
    "start_time": "2023-04-28T01:56:17.258Z"
   },
   {
    "duration": 6,
    "start_time": "2023-04-28T01:56:17.272Z"
   },
   {
    "duration": 10,
    "start_time": "2023-04-28T01:56:17.279Z"
   },
   {
    "duration": 51,
    "start_time": "2023-04-28T01:56:17.291Z"
   },
   {
    "duration": 9,
    "start_time": "2023-04-28T01:56:17.344Z"
   },
   {
    "duration": 10,
    "start_time": "2023-04-28T01:56:17.355Z"
   },
   {
    "duration": 7,
    "start_time": "2023-04-28T01:56:17.366Z"
   },
   {
    "duration": 14,
    "start_time": "2023-04-28T01:56:17.375Z"
   },
   {
    "duration": 11,
    "start_time": "2023-04-28T01:56:17.391Z"
   },
   {
    "duration": 5,
    "start_time": "2023-04-28T01:56:17.442Z"
   },
   {
    "duration": 7,
    "start_time": "2023-04-28T01:56:17.448Z"
   },
   {
    "duration": 11,
    "start_time": "2023-04-28T01:56:17.457Z"
   },
   {
    "duration": 21,
    "start_time": "2023-04-28T01:56:17.470Z"
   },
   {
    "duration": 49,
    "start_time": "2023-04-28T01:56:17.493Z"
   },
   {
    "duration": 18,
    "start_time": "2023-04-28T01:56:17.545Z"
   },
   {
    "duration": 19,
    "start_time": "2023-04-28T01:56:17.565Z"
   },
   {
    "duration": 9,
    "start_time": "2023-04-28T01:57:50.668Z"
   },
   {
    "duration": 24,
    "start_time": "2023-04-28T01:57:56.341Z"
   },
   {
    "duration": 38,
    "start_time": "2023-04-28T01:58:35.027Z"
   },
   {
    "duration": 3,
    "start_time": "2023-04-28T01:58:38.637Z"
   },
   {
    "duration": 63,
    "start_time": "2023-04-28T01:58:38.642Z"
   },
   {
    "duration": 17,
    "start_time": "2023-04-28T01:58:38.707Z"
   },
   {
    "duration": 20,
    "start_time": "2023-04-28T01:58:38.726Z"
   },
   {
    "duration": 7,
    "start_time": "2023-04-28T01:58:38.749Z"
   },
   {
    "duration": 20,
    "start_time": "2023-04-28T01:58:38.758Z"
   },
   {
    "duration": 6,
    "start_time": "2023-04-28T01:58:38.780Z"
   },
   {
    "duration": 8,
    "start_time": "2023-04-28T01:58:38.787Z"
   },
   {
    "duration": 12,
    "start_time": "2023-04-28T01:58:38.798Z"
   },
   {
    "duration": 11,
    "start_time": "2023-04-28T01:58:38.842Z"
   },
   {
    "duration": 10,
    "start_time": "2023-04-28T01:58:38.857Z"
   },
   {
    "duration": 7,
    "start_time": "2023-04-28T01:58:38.870Z"
   },
   {
    "duration": 12,
    "start_time": "2023-04-28T01:58:38.879Z"
   },
   {
    "duration": 49,
    "start_time": "2023-04-28T01:58:38.893Z"
   },
   {
    "duration": 5,
    "start_time": "2023-04-28T01:58:38.945Z"
   },
   {
    "duration": 6,
    "start_time": "2023-04-28T01:58:38.952Z"
   },
   {
    "duration": 9,
    "start_time": "2023-04-28T01:58:38.960Z"
   },
   {
    "duration": 21,
    "start_time": "2023-04-28T01:58:38.971Z"
   },
   {
    "duration": 52,
    "start_time": "2023-04-28T01:58:38.993Z"
   },
   {
    "duration": 19,
    "start_time": "2023-04-28T01:58:39.046Z"
   },
   {
    "duration": 25,
    "start_time": "2023-04-28T01:58:39.067Z"
   },
   {
    "duration": 4,
    "start_time": "2023-04-28T02:00:43.327Z"
   },
   {
    "duration": 60,
    "start_time": "2023-04-28T02:00:43.334Z"
   },
   {
    "duration": 16,
    "start_time": "2023-04-28T02:00:43.397Z"
   },
   {
    "duration": 17,
    "start_time": "2023-04-28T02:00:43.415Z"
   },
   {
    "duration": 8,
    "start_time": "2023-04-28T02:00:43.440Z"
   },
   {
    "duration": 23,
    "start_time": "2023-04-28T02:00:43.450Z"
   },
   {
    "duration": 6,
    "start_time": "2023-04-28T02:00:43.476Z"
   },
   {
    "duration": 8,
    "start_time": "2023-04-28T02:00:43.484Z"
   },
   {
    "duration": 10,
    "start_time": "2023-04-28T02:00:43.494Z"
   },
   {
    "duration": 42,
    "start_time": "2023-04-28T02:00:43.507Z"
   },
   {
    "duration": 9,
    "start_time": "2023-04-28T02:00:43.554Z"
   },
   {
    "duration": 18,
    "start_time": "2023-04-28T02:00:43.565Z"
   },
   {
    "duration": 11,
    "start_time": "2023-04-28T02:00:43.585Z"
   },
   {
    "duration": 15,
    "start_time": "2023-04-28T02:00:43.597Z"
   },
   {
    "duration": 32,
    "start_time": "2023-04-28T02:00:43.614Z"
   },
   {
    "duration": 10,
    "start_time": "2023-04-28T02:00:43.648Z"
   },
   {
    "duration": 14,
    "start_time": "2023-04-28T02:00:43.660Z"
   },
   {
    "duration": 26,
    "start_time": "2023-04-28T02:00:43.676Z"
   },
   {
    "duration": 17,
    "start_time": "2023-04-28T02:00:43.704Z"
   },
   {
    "duration": 18,
    "start_time": "2023-04-28T02:00:43.742Z"
   },
   {
    "duration": 18,
    "start_time": "2023-04-28T02:00:43.762Z"
   },
   {
    "duration": 19,
    "start_time": "2023-04-28T02:01:21.813Z"
   },
   {
    "duration": 3,
    "start_time": "2023-04-28T02:02:54.177Z"
   },
   {
    "duration": 71,
    "start_time": "2023-04-28T02:02:54.185Z"
   },
   {
    "duration": 19,
    "start_time": "2023-04-28T02:02:54.260Z"
   },
   {
    "duration": 23,
    "start_time": "2023-04-28T02:02:54.281Z"
   },
   {
    "duration": 7,
    "start_time": "2023-04-28T02:02:54.307Z"
   },
   {
    "duration": 26,
    "start_time": "2023-04-28T02:02:54.344Z"
   },
   {
    "duration": 14,
    "start_time": "2023-04-28T02:02:54.372Z"
   },
   {
    "duration": 17,
    "start_time": "2023-04-28T02:02:54.388Z"
   },
   {
    "duration": 10,
    "start_time": "2023-04-28T02:02:54.407Z"
   },
   {
    "duration": 24,
    "start_time": "2023-04-28T02:02:54.419Z"
   },
   {
    "duration": 19,
    "start_time": "2023-04-28T02:02:54.448Z"
   },
   {
    "duration": 8,
    "start_time": "2023-04-28T02:02:54.469Z"
   },
   {
    "duration": 12,
    "start_time": "2023-04-28T02:02:54.479Z"
   },
   {
    "duration": 48,
    "start_time": "2023-04-28T02:02:54.493Z"
   },
   {
    "duration": 9,
    "start_time": "2023-04-28T02:02:54.546Z"
   },
   {
    "duration": 19,
    "start_time": "2023-04-28T02:02:54.558Z"
   },
   {
    "duration": 12,
    "start_time": "2023-04-28T02:02:54.579Z"
   },
   {
    "duration": 57,
    "start_time": "2023-04-28T02:02:54.593Z"
   },
   {
    "duration": 22,
    "start_time": "2023-04-28T02:02:54.654Z"
   },
   {
    "duration": 19,
    "start_time": "2023-04-28T02:02:54.679Z"
   },
   {
    "duration": 44,
    "start_time": "2023-04-28T02:02:54.700Z"
   },
   {
    "duration": 4,
    "start_time": "2023-04-28T02:03:03.657Z"
   },
   {
    "duration": 70,
    "start_time": "2023-04-28T02:03:03.666Z"
   },
   {
    "duration": 33,
    "start_time": "2023-04-28T02:03:03.738Z"
   },
   {
    "duration": 22,
    "start_time": "2023-04-28T02:03:03.773Z"
   },
   {
    "duration": 12,
    "start_time": "2023-04-28T02:03:03.797Z"
   },
   {
    "duration": 16,
    "start_time": "2023-04-28T02:03:03.811Z"
   },
   {
    "duration": 14,
    "start_time": "2023-04-28T02:03:03.829Z"
   },
   {
    "duration": 12,
    "start_time": "2023-04-28T02:03:03.846Z"
   },
   {
    "duration": 23,
    "start_time": "2023-04-28T02:03:03.861Z"
   },
   {
    "duration": 11,
    "start_time": "2023-04-28T02:03:03.886Z"
   },
   {
    "duration": 9,
    "start_time": "2023-04-28T02:03:03.900Z"
   },
   {
    "duration": 13,
    "start_time": "2023-04-28T02:03:03.943Z"
   },
   {
    "duration": 24,
    "start_time": "2023-04-28T02:03:03.960Z"
   },
   {
    "duration": 23,
    "start_time": "2023-04-28T02:03:03.987Z"
   },
   {
    "duration": 13,
    "start_time": "2023-04-28T02:03:04.011Z"
   },
   {
    "duration": 13,
    "start_time": "2023-04-28T02:03:04.026Z"
   },
   {
    "duration": 21,
    "start_time": "2023-04-28T02:03:04.041Z"
   },
   {
    "duration": 36,
    "start_time": "2023-04-28T02:03:04.067Z"
   },
   {
    "duration": 19,
    "start_time": "2023-04-28T02:03:04.106Z"
   },
   {
    "duration": 29,
    "start_time": "2023-04-28T02:03:04.127Z"
   },
   {
    "duration": 23,
    "start_time": "2023-04-28T02:03:04.159Z"
   },
   {
    "duration": 829,
    "start_time": "2023-04-28T02:03:10.904Z"
   },
   {
    "duration": 3,
    "start_time": "2023-04-28T02:04:11.921Z"
   },
   {
    "duration": 57,
    "start_time": "2023-04-28T02:04:11.927Z"
   },
   {
    "duration": 16,
    "start_time": "2023-04-28T02:04:11.987Z"
   },
   {
    "duration": 15,
    "start_time": "2023-04-28T02:04:12.005Z"
   },
   {
    "duration": 23,
    "start_time": "2023-04-28T02:04:12.022Z"
   },
   {
    "duration": 17,
    "start_time": "2023-04-28T02:04:12.047Z"
   },
   {
    "duration": 5,
    "start_time": "2023-04-28T02:04:12.065Z"
   },
   {
    "duration": 16,
    "start_time": "2023-04-28T02:04:12.072Z"
   },
   {
    "duration": 16,
    "start_time": "2023-04-28T02:04:12.090Z"
   },
   {
    "duration": 11,
    "start_time": "2023-04-28T02:04:12.108Z"
   },
   {
    "duration": 10,
    "start_time": "2023-04-28T02:04:12.140Z"
   },
   {
    "duration": 8,
    "start_time": "2023-04-28T02:04:12.152Z"
   },
   {
    "duration": 9,
    "start_time": "2023-04-28T02:04:12.162Z"
   },
   {
    "duration": 9,
    "start_time": "2023-04-28T02:04:12.174Z"
   },
   {
    "duration": 5,
    "start_time": "2023-04-28T02:04:12.185Z"
   },
   {
    "duration": 50,
    "start_time": "2023-04-28T02:04:12.192Z"
   },
   {
    "duration": 13,
    "start_time": "2023-04-28T02:04:12.244Z"
   },
   {
    "duration": 21,
    "start_time": "2023-04-28T02:04:12.259Z"
   },
   {
    "duration": 17,
    "start_time": "2023-04-28T02:04:12.282Z"
   },
   {
    "duration": 48,
    "start_time": "2023-04-28T02:04:12.300Z"
   },
   {
    "duration": 53,
    "start_time": "2023-04-28T02:04:12.350Z"
   },
   {
    "duration": 21,
    "start_time": "2023-04-28T02:04:50.180Z"
   },
   {
    "duration": 15,
    "start_time": "2023-04-28T02:04:54.246Z"
   },
   {
    "duration": 3,
    "start_time": "2023-04-28T02:05:17.321Z"
   },
   {
    "duration": 73,
    "start_time": "2023-04-28T02:05:17.326Z"
   },
   {
    "duration": 16,
    "start_time": "2023-04-28T02:05:17.401Z"
   },
   {
    "duration": 30,
    "start_time": "2023-04-28T02:05:17.419Z"
   },
   {
    "duration": 9,
    "start_time": "2023-04-28T02:05:17.451Z"
   },
   {
    "duration": 21,
    "start_time": "2023-04-28T02:05:17.463Z"
   },
   {
    "duration": 11,
    "start_time": "2023-04-28T02:05:17.486Z"
   },
   {
    "duration": 24,
    "start_time": "2023-04-28T02:05:17.499Z"
   },
   {
    "duration": 17,
    "start_time": "2023-04-28T02:05:17.524Z"
   },
   {
    "duration": 12,
    "start_time": "2023-04-28T02:05:17.543Z"
   },
   {
    "duration": 11,
    "start_time": "2023-04-28T02:05:17.560Z"
   },
   {
    "duration": 20,
    "start_time": "2023-04-28T02:05:17.573Z"
   },
   {
    "duration": 30,
    "start_time": "2023-04-28T02:05:17.595Z"
   },
   {
    "duration": 18,
    "start_time": "2023-04-28T02:05:17.627Z"
   },
   {
    "duration": 7,
    "start_time": "2023-04-28T02:05:17.647Z"
   },
   {
    "duration": 7,
    "start_time": "2023-04-28T02:05:17.656Z"
   },
   {
    "duration": 15,
    "start_time": "2023-04-28T02:05:17.665Z"
   },
   {
    "duration": 31,
    "start_time": "2023-04-28T02:05:17.682Z"
   },
   {
    "duration": 42,
    "start_time": "2023-04-28T02:05:17.716Z"
   },
   {
    "duration": 39,
    "start_time": "2023-04-28T02:05:17.760Z"
   },
   {
    "duration": 43,
    "start_time": "2023-04-28T02:05:17.801Z"
   },
   {
    "duration": 17,
    "start_time": "2023-04-28T02:05:30.322Z"
   },
   {
    "duration": 21,
    "start_time": "2023-04-28T02:07:51.180Z"
   },
   {
    "duration": 16,
    "start_time": "2023-04-28T02:07:59.425Z"
   },
   {
    "duration": 738,
    "start_time": "2023-04-28T02:10:08.925Z"
   },
   {
    "duration": 52,
    "start_time": "2023-04-28T02:21:32.637Z"
   },
   {
    "duration": 8,
    "start_time": "2023-04-28T02:21:52.535Z"
   },
   {
    "duration": 11,
    "start_time": "2023-04-28T02:23:58.517Z"
   },
   {
    "duration": 9,
    "start_time": "2023-04-28T02:24:31.696Z"
   },
   {
    "duration": 8,
    "start_time": "2023-04-28T02:25:09.826Z"
   },
   {
    "duration": 56,
    "start_time": "2023-04-28T02:26:05.306Z"
   },
   {
    "duration": 1091,
    "start_time": "2023-04-29T18:43:46.149Z"
   },
   {
    "duration": 87,
    "start_time": "2023-04-29T18:43:47.242Z"
   },
   {
    "duration": 19,
    "start_time": "2023-04-29T18:43:47.330Z"
   },
   {
    "duration": 18,
    "start_time": "2023-04-29T18:43:47.351Z"
   },
   {
    "duration": 12,
    "start_time": "2023-04-29T18:43:47.370Z"
   },
   {
    "duration": 13,
    "start_time": "2023-04-29T18:43:47.384Z"
   },
   {
    "duration": 7,
    "start_time": "2023-04-29T18:43:47.398Z"
   },
   {
    "duration": 13,
    "start_time": "2023-04-29T18:43:47.406Z"
   },
   {
    "duration": 13,
    "start_time": "2023-04-29T18:43:47.421Z"
   },
   {
    "duration": 16,
    "start_time": "2023-04-29T18:43:47.436Z"
   },
   {
    "duration": 23,
    "start_time": "2023-04-29T18:43:47.454Z"
   },
   {
    "duration": 28,
    "start_time": "2023-04-29T18:43:47.478Z"
   },
   {
    "duration": 18,
    "start_time": "2023-04-29T18:43:47.507Z"
   },
   {
    "duration": 14,
    "start_time": "2023-04-29T18:43:47.526Z"
   },
   {
    "duration": 11,
    "start_time": "2023-04-29T18:43:47.541Z"
   },
   {
    "duration": 15,
    "start_time": "2023-04-29T18:43:47.553Z"
   },
   {
    "duration": 14,
    "start_time": "2023-04-29T18:43:47.569Z"
   },
   {
    "duration": 19,
    "start_time": "2023-04-29T18:43:47.584Z"
   },
   {
    "duration": 14,
    "start_time": "2023-04-29T18:43:47.605Z"
   },
   {
    "duration": 23,
    "start_time": "2023-04-29T18:43:47.620Z"
   },
   {
    "duration": 17,
    "start_time": "2023-04-29T18:43:47.645Z"
   },
   {
    "duration": 31,
    "start_time": "2023-04-29T18:43:47.664Z"
   },
   {
    "duration": 12,
    "start_time": "2023-04-29T18:43:47.697Z"
   },
   {
    "duration": 9,
    "start_time": "2023-04-29T18:43:47.710Z"
   },
   {
    "duration": 8,
    "start_time": "2023-04-29T18:43:47.721Z"
   },
   {
    "duration": 9,
    "start_time": "2023-04-29T18:52:54.753Z"
   },
   {
    "duration": 6,
    "start_time": "2023-04-29T18:53:06.195Z"
   },
   {
    "duration": 5,
    "start_time": "2023-04-29T18:53:11.625Z"
   },
   {
    "duration": 6,
    "start_time": "2023-04-29T18:53:19.241Z"
   },
   {
    "duration": 7,
    "start_time": "2023-04-29T18:53:23.947Z"
   },
   {
    "duration": 7,
    "start_time": "2023-04-29T18:53:50.033Z"
   },
   {
    "duration": 6,
    "start_time": "2023-04-29T18:54:22.407Z"
   },
   {
    "duration": 693,
    "start_time": "2023-04-29T18:54:51.844Z"
   },
   {
    "duration": 10,
    "start_time": "2023-04-29T18:55:04.762Z"
   },
   {
    "duration": 11,
    "start_time": "2023-04-29T18:55:31.491Z"
   },
   {
    "duration": 12,
    "start_time": "2023-04-29T18:55:51.145Z"
   },
   {
    "duration": 46,
    "start_time": "2023-04-29T19:02:23.258Z"
   },
   {
    "duration": 14,
    "start_time": "2023-04-29T19:06:36.953Z"
   },
   {
    "duration": 15,
    "start_time": "2023-04-29T19:07:42.038Z"
   },
   {
    "duration": 4,
    "start_time": "2023-04-29T19:07:58.938Z"
   },
   {
    "duration": 52077,
    "start_time": "2023-04-29T19:08:01.266Z"
   },
   {
    "duration": 20,
    "start_time": "2023-04-29T19:14:19.624Z"
   },
   {
    "duration": 3,
    "start_time": "2023-04-29T19:14:27.673Z"
   },
   {
    "duration": 3627,
    "start_time": "2023-04-29T19:14:30.797Z"
   },
   {
    "duration": 233023,
    "start_time": "2023-04-29T19:20:03.312Z"
   },
   {
    "duration": 1052,
    "start_time": "2023-04-30T05:04:22.507Z"
   },
   {
    "duration": 158,
    "start_time": "2023-04-30T05:04:23.560Z"
   },
   {
    "duration": 18,
    "start_time": "2023-04-30T05:04:23.719Z"
   },
   {
    "duration": 11,
    "start_time": "2023-04-30T05:04:23.739Z"
   },
   {
    "duration": 6,
    "start_time": "2023-04-30T05:04:23.751Z"
   },
   {
    "duration": 9,
    "start_time": "2023-04-30T05:04:23.758Z"
   },
   {
    "duration": 25,
    "start_time": "2023-04-30T05:04:23.769Z"
   },
   {
    "duration": 4,
    "start_time": "2023-04-30T05:04:23.796Z"
   },
   {
    "duration": 7,
    "start_time": "2023-04-30T05:04:23.802Z"
   },
   {
    "duration": 7,
    "start_time": "2023-04-30T05:04:23.811Z"
   },
   {
    "duration": 7,
    "start_time": "2023-04-30T05:04:23.819Z"
   },
   {
    "duration": 5,
    "start_time": "2023-04-30T05:04:23.827Z"
   },
   {
    "duration": 8,
    "start_time": "2023-04-30T05:04:23.833Z"
   },
   {
    "duration": 7,
    "start_time": "2023-04-30T05:04:23.843Z"
   },
   {
    "duration": 44,
    "start_time": "2023-04-30T05:04:23.851Z"
   },
   {
    "duration": 5,
    "start_time": "2023-04-30T05:04:23.897Z"
   },
   {
    "duration": 10,
    "start_time": "2023-04-30T05:04:23.904Z"
   },
   {
    "duration": 17,
    "start_time": "2023-04-30T05:04:23.915Z"
   },
   {
    "duration": 14,
    "start_time": "2023-04-30T05:04:23.933Z"
   },
   {
    "duration": 14,
    "start_time": "2023-04-30T05:04:23.949Z"
   },
   {
    "duration": 16,
    "start_time": "2023-04-30T05:04:23.994Z"
   },
   {
    "duration": 15,
    "start_time": "2023-04-30T05:04:24.012Z"
   },
   {
    "duration": 7,
    "start_time": "2023-04-30T05:04:24.028Z"
   },
   {
    "duration": 13,
    "start_time": "2023-04-30T05:04:24.036Z"
   },
   {
    "duration": 9,
    "start_time": "2023-04-30T05:04:24.050Z"
   },
   {
    "duration": 47,
    "start_time": "2023-04-30T05:04:24.060Z"
   },
   {
    "duration": 209086,
    "start_time": "2023-04-30T05:04:24.109Z"
   },
   {
    "duration": 66663,
    "start_time": "2023-04-30T05:20:40.285Z"
   },
   {
    "duration": 2124,
    "start_time": "2023-04-30T05:22:06.915Z"
   },
   {
    "duration": 220234,
    "start_time": "2023-04-30T05:22:12.571Z"
   },
   {
    "duration": 26503,
    "start_time": "2023-04-30T10:26:32.820Z"
   },
   {
    "duration": 30201,
    "start_time": "2023-04-30T10:27:03.653Z"
   },
   {
    "duration": 588984,
    "start_time": "2023-04-30T10:28:04.713Z"
   },
   {
    "duration": 119611,
    "start_time": "2023-04-30T10:39:32.328Z"
   },
   {
    "duration": 3,
    "start_time": "2023-04-30T10:46:07.926Z"
   },
   {
    "duration": 6,
    "start_time": "2023-04-30T10:46:42.576Z"
   },
   {
    "duration": 11,
    "start_time": "2023-04-30T10:50:03.302Z"
   },
   {
    "duration": 4,
    "start_time": "2023-04-30T10:50:08.728Z"
   },
   {
    "duration": 551,
    "start_time": "2023-04-30T10:50:13.535Z"
   },
   {
    "duration": 7,
    "start_time": "2023-04-30T10:54:06.455Z"
   },
   {
    "duration": 148,
    "start_time": "2023-04-30T10:54:12.158Z"
   },
   {
    "duration": 149,
    "start_time": "2023-04-30T10:54:23.370Z"
   },
   {
    "duration": 137,
    "start_time": "2023-04-30T10:54:28.343Z"
   },
   {
    "duration": 74,
    "start_time": "2023-04-30T11:04:45.910Z"
   },
   {
    "duration": 73,
    "start_time": "2023-04-30T11:04:53.052Z"
   },
   {
    "duration": 77,
    "start_time": "2023-04-30T11:05:51.288Z"
   },
   {
    "duration": 225,
    "start_time": "2023-04-30T11:06:00.663Z"
   },
   {
    "duration": 21,
    "start_time": "2023-04-30T11:06:06.531Z"
   },
   {
    "duration": 11,
    "start_time": "2023-04-30T11:06:12.237Z"
   },
   {
    "duration": 13,
    "start_time": "2023-04-30T11:06:21.408Z"
   },
   {
    "duration": 131,
    "start_time": "2023-04-30T11:06:35.157Z"
   },
   {
    "duration": 26,
    "start_time": "2023-04-30T13:06:03.471Z"
   },
   {
    "duration": 27,
    "start_time": "2023-04-30T13:07:38.821Z"
   },
   {
    "duration": 25,
    "start_time": "2023-04-30T13:08:06.319Z"
   },
   {
    "duration": 25,
    "start_time": "2023-04-30T13:09:17.752Z"
   },
   {
    "duration": 26,
    "start_time": "2023-04-30T13:09:32.325Z"
   },
   {
    "duration": 26,
    "start_time": "2023-04-30T13:09:41.515Z"
   },
   {
    "duration": 32,
    "start_time": "2023-04-30T13:10:19.616Z"
   },
   {
    "duration": 34,
    "start_time": "2023-04-30T13:10:36.819Z"
   },
   {
    "duration": 28,
    "start_time": "2023-04-30T13:11:01.377Z"
   },
   {
    "duration": 39,
    "start_time": "2023-04-30T13:11:19.223Z"
   },
   {
    "duration": 36,
    "start_time": "2023-04-30T13:11:38.440Z"
   },
   {
    "duration": 26,
    "start_time": "2023-04-30T13:11:47.924Z"
   },
   {
    "duration": 27,
    "start_time": "2023-04-30T13:11:59.218Z"
   },
   {
    "duration": 25,
    "start_time": "2023-04-30T13:12:13.168Z"
   },
   {
    "duration": 30,
    "start_time": "2023-04-30T13:12:29.620Z"
   },
   {
    "duration": 30,
    "start_time": "2023-04-30T13:12:42.130Z"
   },
   {
    "duration": 28,
    "start_time": "2023-04-30T13:14:05.528Z"
   },
   {
    "duration": 82,
    "start_time": "2023-04-30T13:14:13.927Z"
   },
   {
    "duration": 39,
    "start_time": "2023-04-30T13:14:25.763Z"
   },
   {
    "duration": 38,
    "start_time": "2023-04-30T13:15:14.063Z"
   },
   {
    "duration": 29,
    "start_time": "2023-04-30T13:15:26.413Z"
   },
   {
    "duration": 28,
    "start_time": "2023-04-30T13:15:43.810Z"
   },
   {
    "duration": 34,
    "start_time": "2023-04-30T13:16:01.578Z"
   },
   {
    "duration": 24,
    "start_time": "2023-04-30T13:17:37.120Z"
   },
   {
    "duration": 3,
    "start_time": "2023-04-30T13:17:52.057Z"
   },
   {
    "duration": 53,
    "start_time": "2023-04-30T13:17:52.064Z"
   },
   {
    "duration": 13,
    "start_time": "2023-04-30T13:17:52.119Z"
   },
   {
    "duration": 14,
    "start_time": "2023-04-30T13:17:52.133Z"
   },
   {
    "duration": 5,
    "start_time": "2023-04-30T13:17:52.149Z"
   },
   {
    "duration": 9,
    "start_time": "2023-04-30T13:17:52.156Z"
   },
   {
    "duration": 34,
    "start_time": "2023-04-30T13:17:52.166Z"
   },
   {
    "duration": 8,
    "start_time": "2023-04-30T13:17:52.205Z"
   },
   {
    "duration": 10,
    "start_time": "2023-04-30T13:17:52.214Z"
   },
   {
    "duration": 14,
    "start_time": "2023-04-30T13:17:52.225Z"
   },
   {
    "duration": 8,
    "start_time": "2023-04-30T13:17:52.242Z"
   },
   {
    "duration": 5,
    "start_time": "2023-04-30T13:17:52.251Z"
   },
   {
    "duration": 11,
    "start_time": "2023-04-30T13:17:52.257Z"
   },
   {
    "duration": 40,
    "start_time": "2023-04-30T13:17:52.270Z"
   },
   {
    "duration": 4,
    "start_time": "2023-04-30T13:17:52.311Z"
   },
   {
    "duration": 7,
    "start_time": "2023-04-30T13:17:52.316Z"
   },
   {
    "duration": 14,
    "start_time": "2023-04-30T13:17:52.331Z"
   },
   {
    "duration": 22,
    "start_time": "2023-04-30T13:17:52.346Z"
   },
   {
    "duration": 13,
    "start_time": "2023-04-30T13:17:52.369Z"
   },
   {
    "duration": 20,
    "start_time": "2023-04-30T13:17:52.384Z"
   },
   {
    "duration": 20,
    "start_time": "2023-04-30T13:17:52.405Z"
   },
   {
    "duration": 19,
    "start_time": "2023-04-30T13:17:52.426Z"
   },
   {
    "duration": 5,
    "start_time": "2023-04-30T13:17:52.446Z"
   },
   {
    "duration": 35,
    "start_time": "2023-04-30T13:17:52.453Z"
   },
   {
    "duration": 8,
    "start_time": "2023-04-30T13:17:52.490Z"
   },
   {
    "duration": 21,
    "start_time": "2023-04-30T13:17:52.500Z"
   },
   {
    "duration": 43013,
    "start_time": "2023-04-30T13:17:52.523Z"
   },
   {
    "duration": 0,
    "start_time": "2023-04-30T13:18:35.537Z"
   },
   {
    "duration": 1065,
    "start_time": "2023-04-30T13:18:43.913Z"
   },
   {
    "duration": 62,
    "start_time": "2023-04-30T13:18:44.980Z"
   },
   {
    "duration": 21,
    "start_time": "2023-04-30T13:18:45.044Z"
   },
   {
    "duration": 11,
    "start_time": "2023-04-30T13:18:45.067Z"
   },
   {
    "duration": 6,
    "start_time": "2023-04-30T13:18:45.079Z"
   },
   {
    "duration": 20,
    "start_time": "2023-04-30T13:18:45.086Z"
   },
   {
    "duration": 5,
    "start_time": "2023-04-30T13:18:45.111Z"
   },
   {
    "duration": 5,
    "start_time": "2023-04-30T13:18:45.117Z"
   },
   {
    "duration": 8,
    "start_time": "2023-04-30T13:18:45.123Z"
   },
   {
    "duration": 7,
    "start_time": "2023-04-30T13:18:45.135Z"
   },
   {
    "duration": 9,
    "start_time": "2023-04-30T13:18:45.144Z"
   },
   {
    "duration": 6,
    "start_time": "2023-04-30T13:18:45.155Z"
   },
   {
    "duration": 49,
    "start_time": "2023-04-30T13:18:45.162Z"
   },
   {
    "duration": 8,
    "start_time": "2023-04-30T13:18:45.212Z"
   },
   {
    "duration": 5,
    "start_time": "2023-04-30T13:18:45.221Z"
   },
   {
    "duration": 4,
    "start_time": "2023-04-30T13:18:45.227Z"
   },
   {
    "duration": 10,
    "start_time": "2023-04-30T13:18:45.233Z"
   },
   {
    "duration": 16,
    "start_time": "2023-04-30T13:18:45.244Z"
   },
   {
    "duration": 33,
    "start_time": "2023-04-30T13:18:45.262Z"
   },
   {
    "duration": 18,
    "start_time": "2023-04-30T13:18:45.296Z"
   },
   {
    "duration": 23,
    "start_time": "2023-04-30T13:18:45.315Z"
   },
   {
    "duration": 14,
    "start_time": "2023-04-30T13:18:45.339Z"
   },
   {
    "duration": 4,
    "start_time": "2023-04-30T13:18:45.355Z"
   },
   {
    "duration": 16,
    "start_time": "2023-04-30T13:18:45.360Z"
   },
   {
    "duration": 32,
    "start_time": "2023-04-30T13:18:45.377Z"
   },
   {
    "duration": 12,
    "start_time": "2023-04-30T13:18:45.413Z"
   },
   {
    "duration": 2694,
    "start_time": "2023-04-30T13:18:45.427Z"
   },
   {
    "duration": 0,
    "start_time": "2023-04-30T13:18:48.123Z"
   },
   {
    "duration": 2128,
    "start_time": "2023-04-30T13:45:54.540Z"
   },
   {
    "duration": 2898,
    "start_time": "2023-04-30T13:46:42.312Z"
   },
   {
    "duration": 102,
    "start_time": "2023-04-30T13:53:06.542Z"
   },
   {
    "duration": 29,
    "start_time": "2023-04-30T13:53:22.198Z"
   },
   {
    "duration": 27,
    "start_time": "2023-04-30T13:53:39.234Z"
   },
   {
    "duration": 4354,
    "start_time": "2023-04-30T13:53:51.572Z"
   },
   {
    "duration": 2296,
    "start_time": "2023-04-30T13:54:10.736Z"
   },
   {
    "duration": 111087,
    "start_time": "2023-04-30T14:03:03.901Z"
   },
   {
    "duration": 362,
    "start_time": "2023-04-30T15:19:41.364Z"
   },
   {
    "duration": 18,
    "start_time": "2023-04-30T15:41:56.531Z"
   },
   {
    "duration": 120,
    "start_time": "2023-04-30T15:42:21.923Z"
   },
   {
    "duration": 125,
    "start_time": "2023-04-30T15:42:25.183Z"
   },
   {
    "duration": 128,
    "start_time": "2023-04-30T15:42:33.870Z"
   },
   {
    "duration": 198,
    "start_time": "2023-04-30T15:42:46.376Z"
   },
   {
    "duration": 122,
    "start_time": "2023-04-30T15:42:50.926Z"
   },
   {
    "duration": 82,
    "start_time": "2023-04-30T16:28:50.950Z"
   },
   {
    "duration": 25,
    "start_time": "2023-04-30T16:29:10.863Z"
   },
   {
    "duration": 2278820,
    "start_time": "2023-04-30T16:30:01.144Z"
   },
   {
    "duration": 129,
    "start_time": "2023-04-30T17:53:48.595Z"
   },
   {
    "duration": 6043,
    "start_time": "2023-04-30T17:56:21.480Z"
   },
   {
    "duration": 16,
    "start_time": "2023-04-30T17:57:26.611Z"
   },
   {
    "duration": 15,
    "start_time": "2023-04-30T17:57:32.110Z"
   },
   {
    "duration": 2431177,
    "start_time": "2023-04-30T17:57:47.155Z"
   },
   {
    "duration": 138,
    "start_time": "2023-04-30T19:15:15.041Z"
   },
   {
    "duration": 500,
    "start_time": "2023-04-30T19:25:21.595Z"
   },
   {
    "duration": 412,
    "start_time": "2023-04-30T19:25:29.183Z"
   },
   {
    "duration": 24,
    "start_time": "2023-04-30T19:26:00.384Z"
   },
   {
    "duration": 37,
    "start_time": "2023-04-30T19:26:27.455Z"
   },
   {
    "duration": 1254,
    "start_time": "2023-05-13T19:58:32.624Z"
   },
   {
    "duration": 195,
    "start_time": "2023-05-13T19:58:33.880Z"
   },
   {
    "duration": 29,
    "start_time": "2023-05-13T19:58:34.077Z"
   },
   {
    "duration": 12,
    "start_time": "2023-05-13T19:58:34.109Z"
   },
   {
    "duration": 8,
    "start_time": "2023-05-13T19:58:34.123Z"
   },
   {
    "duration": 9,
    "start_time": "2023-05-13T19:58:34.133Z"
   },
   {
    "duration": 4,
    "start_time": "2023-05-13T19:58:34.144Z"
   },
   {
    "duration": 7,
    "start_time": "2023-05-13T19:58:34.149Z"
   },
   {
    "duration": 11,
    "start_time": "2023-05-13T19:58:34.158Z"
   },
   {
    "duration": 12,
    "start_time": "2023-05-13T19:58:34.172Z"
   },
   {
    "duration": 40,
    "start_time": "2023-05-13T19:58:34.185Z"
   },
   {
    "duration": 6,
    "start_time": "2023-05-13T19:58:34.226Z"
   },
   {
    "duration": 30,
    "start_time": "2023-05-13T19:58:34.234Z"
   },
   {
    "duration": 23,
    "start_time": "2023-05-13T19:58:34.266Z"
   },
   {
    "duration": 10,
    "start_time": "2023-05-13T19:58:34.291Z"
   },
   {
    "duration": 19,
    "start_time": "2023-05-13T19:58:34.302Z"
   },
   {
    "duration": 18,
    "start_time": "2023-05-13T19:58:34.323Z"
   },
   {
    "duration": 31,
    "start_time": "2023-05-13T19:58:34.342Z"
   },
   {
    "duration": 19,
    "start_time": "2023-05-13T19:58:34.374Z"
   },
   {
    "duration": 30,
    "start_time": "2023-05-13T19:58:34.395Z"
   },
   {
    "duration": 27,
    "start_time": "2023-05-13T19:58:34.427Z"
   },
   {
    "duration": 18,
    "start_time": "2023-05-13T19:58:34.456Z"
   },
   {
    "duration": 5,
    "start_time": "2023-05-13T19:58:34.475Z"
   },
   {
    "duration": 14,
    "start_time": "2023-05-13T19:58:34.482Z"
   },
   {
    "duration": 31,
    "start_time": "2023-05-13T19:58:34.497Z"
   },
   {
    "duration": 11,
    "start_time": "2023-05-13T19:58:34.529Z"
   },
   {
    "duration": 140,
    "start_time": "2023-05-13T19:58:34.542Z"
   },
   {
    "duration": 0,
    "start_time": "2023-05-13T19:58:34.683Z"
   },
   {
    "duration": 0,
    "start_time": "2023-05-13T19:58:34.685Z"
   },
   {
    "duration": 0,
    "start_time": "2023-05-13T19:58:34.686Z"
   },
   {
    "duration": 0,
    "start_time": "2023-05-13T19:58:34.687Z"
   },
   {
    "duration": 4,
    "start_time": "2023-05-13T20:02:06.874Z"
   },
   {
    "duration": 53,
    "start_time": "2023-05-13T20:02:06.881Z"
   },
   {
    "duration": 13,
    "start_time": "2023-05-13T20:02:06.936Z"
   },
   {
    "duration": 14,
    "start_time": "2023-05-13T20:02:06.950Z"
   },
   {
    "duration": 7,
    "start_time": "2023-05-13T20:02:06.966Z"
   },
   {
    "duration": 11,
    "start_time": "2023-05-13T20:02:06.974Z"
   },
   {
    "duration": 39,
    "start_time": "2023-05-13T20:02:06.986Z"
   },
   {
    "duration": 6,
    "start_time": "2023-05-13T20:02:07.026Z"
   },
   {
    "duration": 17,
    "start_time": "2023-05-13T20:02:07.034Z"
   },
   {
    "duration": 17,
    "start_time": "2023-05-13T20:02:07.052Z"
   },
   {
    "duration": 8,
    "start_time": "2023-05-13T20:02:07.073Z"
   },
   {
    "duration": 6,
    "start_time": "2023-05-13T20:02:07.083Z"
   },
   {
    "duration": 10,
    "start_time": "2023-05-13T20:02:07.091Z"
   },
   {
    "duration": 23,
    "start_time": "2023-05-13T20:02:07.102Z"
   },
   {
    "duration": 4,
    "start_time": "2023-05-13T20:02:07.127Z"
   },
   {
    "duration": 10,
    "start_time": "2023-05-13T20:02:07.133Z"
   },
   {
    "duration": 12,
    "start_time": "2023-05-13T20:02:07.144Z"
   },
   {
    "duration": 18,
    "start_time": "2023-05-13T20:02:07.158Z"
   },
   {
    "duration": 13,
    "start_time": "2023-05-13T20:02:07.177Z"
   },
   {
    "duration": 42,
    "start_time": "2023-05-13T20:02:07.192Z"
   },
   {
    "duration": 16,
    "start_time": "2023-05-13T20:02:07.236Z"
   },
   {
    "duration": 31,
    "start_time": "2023-05-13T20:02:07.253Z"
   },
   {
    "duration": 10,
    "start_time": "2023-05-13T20:02:07.286Z"
   },
   {
    "duration": 34,
    "start_time": "2023-05-13T20:02:07.297Z"
   },
   {
    "duration": 10,
    "start_time": "2023-05-13T20:02:07.333Z"
   },
   {
    "duration": 27,
    "start_time": "2023-05-13T20:02:07.345Z"
   },
   {
    "duration": 43,
    "start_time": "2023-05-13T20:02:07.375Z"
   },
   {
    "duration": 0,
    "start_time": "2023-05-13T20:02:07.420Z"
   },
   {
    "duration": 0,
    "start_time": "2023-05-13T20:02:07.424Z"
   },
   {
    "duration": 0,
    "start_time": "2023-05-13T20:02:07.425Z"
   },
   {
    "duration": 0,
    "start_time": "2023-05-13T20:02:07.426Z"
   },
   {
    "duration": 4,
    "start_time": "2023-05-13T20:10:13.694Z"
   },
   {
    "duration": 62,
    "start_time": "2023-05-13T20:10:13.701Z"
   },
   {
    "duration": 13,
    "start_time": "2023-05-13T20:10:13.765Z"
   },
   {
    "duration": 19,
    "start_time": "2023-05-13T20:10:13.780Z"
   },
   {
    "duration": 7,
    "start_time": "2023-05-13T20:10:13.800Z"
   },
   {
    "duration": 40,
    "start_time": "2023-05-13T20:10:13.808Z"
   },
   {
    "duration": 32,
    "start_time": "2023-05-13T20:10:13.850Z"
   },
   {
    "duration": 17,
    "start_time": "2023-05-13T20:10:13.884Z"
   },
   {
    "duration": 26,
    "start_time": "2023-05-13T20:10:13.902Z"
   },
   {
    "duration": 15,
    "start_time": "2023-05-13T20:10:13.931Z"
   },
   {
    "duration": 18,
    "start_time": "2023-05-13T20:10:13.949Z"
   },
   {
    "duration": 6,
    "start_time": "2023-05-13T20:10:13.969Z"
   },
   {
    "duration": 18,
    "start_time": "2023-05-13T20:10:13.977Z"
   },
   {
    "duration": 50,
    "start_time": "2023-05-13T20:10:13.996Z"
   },
   {
    "duration": 11,
    "start_time": "2023-05-13T20:10:14.048Z"
   },
   {
    "duration": 17,
    "start_time": "2023-05-13T20:10:14.060Z"
   },
   {
    "duration": 15,
    "start_time": "2023-05-13T20:10:14.078Z"
   },
   {
    "duration": 18,
    "start_time": "2023-05-13T20:10:14.095Z"
   },
   {
    "duration": 27,
    "start_time": "2023-05-13T20:10:14.115Z"
   },
   {
    "duration": 32,
    "start_time": "2023-05-13T20:10:14.144Z"
   },
   {
    "duration": 21,
    "start_time": "2023-05-13T20:10:14.178Z"
   },
   {
    "duration": 30,
    "start_time": "2023-05-13T20:10:14.201Z"
   },
   {
    "duration": 27,
    "start_time": "2023-05-13T20:10:14.236Z"
   },
   {
    "duration": 25,
    "start_time": "2023-05-13T20:10:14.265Z"
   },
   {
    "duration": 18,
    "start_time": "2023-05-13T20:10:14.292Z"
   },
   {
    "duration": 36,
    "start_time": "2023-05-13T20:10:14.311Z"
   },
   {
    "duration": 120583,
    "start_time": "2023-05-13T20:10:14.349Z"
   },
   {
    "duration": 707,
    "start_time": "2023-05-13T20:12:14.934Z"
   },
   {
    "duration": 718076,
    "start_time": "2023-05-13T20:12:15.645Z"
   },
   {
    "duration": 0,
    "start_time": "2023-05-13T20:24:13.724Z"
   },
   {
    "duration": 0,
    "start_time": "2023-05-13T20:24:13.724Z"
   },
   {
    "duration": 60,
    "start_time": "2023-05-13T20:24:59.597Z"
   },
   {
    "duration": 147,
    "start_time": "2023-05-13T20:25:06.799Z"
   },
   {
    "duration": 47,
    "start_time": "2023-05-13T20:25:16.094Z"
   },
   {
    "duration": 46,
    "start_time": "2023-05-13T20:37:05.687Z"
   },
   {
    "duration": 115,
    "start_time": "2023-05-13T20:37:39.052Z"
   },
   {
    "duration": 443,
    "start_time": "2023-05-13T20:49:11.291Z"
   },
   {
    "duration": 130957,
    "start_time": "2023-05-13T21:08:47.988Z"
   },
   {
    "duration": 153,
    "start_time": "2023-05-13T21:11:31.788Z"
   },
   {
    "duration": 33,
    "start_time": "2023-05-13T21:47:36.520Z"
   },
   {
    "duration": 12,
    "start_time": "2023-05-13T21:47:54.929Z"
   },
   {
    "duration": 189993,
    "start_time": "2023-05-13T21:47:57.850Z"
   },
   {
    "duration": 81711,
    "start_time": "2023-05-13T21:53:08.565Z"
   },
   {
    "duration": 2768516,
    "start_time": "2023-05-13T22:01:07.077Z"
   },
   {
    "duration": 4175178,
    "start_time": "2023-05-13T22:47:15.595Z"
   },
   {
    "duration": 1569837,
    "start_time": "2023-05-13T23:56:50.775Z"
   },
   {
    "duration": 20,
    "start_time": "2023-05-14T15:40:51.490Z"
   },
   {
    "duration": 10,
    "start_time": "2023-05-14T16:02:54.986Z"
   },
   {
    "duration": 12,
    "start_time": "2023-05-14T16:09:16.185Z"
   },
   {
    "duration": 74,
    "start_time": "2023-05-14T16:14:41.832Z"
   },
   {
    "duration": 75,
    "start_time": "2023-05-14T16:14:47.481Z"
   },
   {
    "duration": 13,
    "start_time": "2023-05-14T16:14:54.128Z"
   },
   {
    "duration": 51,
    "start_time": "2023-05-14T16:31:32.142Z"
   },
   {
    "duration": 2,
    "start_time": "2023-05-14T16:31:43.627Z"
   },
   {
    "duration": 6,
    "start_time": "2023-05-14T16:31:46.359Z"
   },
   {
    "duration": 5,
    "start_time": "2023-05-14T16:31:51.401Z"
   },
   {
    "duration": 3,
    "start_time": "2023-05-14T16:31:54.299Z"
   },
   {
    "duration": 6,
    "start_time": "2023-05-14T16:32:03.822Z"
   },
   {
    "duration": 3,
    "start_time": "2023-05-14T16:32:07.882Z"
   },
   {
    "duration": 5,
    "start_time": "2023-05-14T16:40:38.641Z"
   },
   {
    "duration": 8,
    "start_time": "2023-05-14T17:40:00.239Z"
   },
   {
    "duration": 1566,
    "start_time": "2023-05-14T18:03:09.633Z"
   },
   {
    "duration": 76,
    "start_time": "2023-05-14T18:15:09.919Z"
   },
   {
    "duration": 5,
    "start_time": "2023-05-14T18:15:14.678Z"
   },
   {
    "duration": 102,
    "start_time": "2023-05-14T18:15:14.687Z"
   },
   {
    "duration": 18,
    "start_time": "2023-05-14T18:15:14.792Z"
   },
   {
    "duration": 12,
    "start_time": "2023-05-14T18:15:14.812Z"
   },
   {
    "duration": 6,
    "start_time": "2023-05-14T18:15:14.826Z"
   },
   {
    "duration": 36,
    "start_time": "2023-05-14T18:15:14.833Z"
   },
   {
    "duration": 4,
    "start_time": "2023-05-14T18:15:14.871Z"
   },
   {
    "duration": 5,
    "start_time": "2023-05-14T18:15:14.876Z"
   },
   {
    "duration": 8,
    "start_time": "2023-05-14T18:15:14.882Z"
   },
   {
    "duration": 7,
    "start_time": "2023-05-14T18:15:14.892Z"
   },
   {
    "duration": 8,
    "start_time": "2023-05-14T18:15:14.901Z"
   },
   {
    "duration": 49,
    "start_time": "2023-05-14T18:15:14.910Z"
   },
   {
    "duration": 9,
    "start_time": "2023-05-14T18:15:14.960Z"
   },
   {
    "duration": 7,
    "start_time": "2023-05-14T18:15:14.971Z"
   },
   {
    "duration": 8,
    "start_time": "2023-05-14T18:15:14.980Z"
   },
   {
    "duration": 10,
    "start_time": "2023-05-14T18:15:14.989Z"
   },
   {
    "duration": 30,
    "start_time": "2023-05-14T18:15:15.001Z"
   },
   {
    "duration": 35,
    "start_time": "2023-05-14T18:15:15.033Z"
   },
   {
    "duration": 15,
    "start_time": "2023-05-14T18:15:15.070Z"
   },
   {
    "duration": 21,
    "start_time": "2023-05-14T18:15:15.087Z"
   },
   {
    "duration": 18,
    "start_time": "2023-05-14T18:15:15.110Z"
   },
   {
    "duration": 31,
    "start_time": "2023-05-14T18:15:15.129Z"
   },
   {
    "duration": 7,
    "start_time": "2023-05-14T18:15:15.161Z"
   },
   {
    "duration": 11,
    "start_time": "2023-05-14T18:15:15.170Z"
   },
   {
    "duration": 6,
    "start_time": "2023-05-14T18:15:15.183Z"
   },
   {
    "duration": 11,
    "start_time": "2023-05-14T18:15:15.191Z"
   },
   {
    "duration": 7,
    "start_time": "2023-05-14T18:15:17.923Z"
   },
   {
    "duration": 8,
    "start_time": "2023-05-14T18:20:15.630Z"
   },
   {
    "duration": 7,
    "start_time": "2023-05-14T18:20:23.219Z"
   },
   {
    "duration": 11,
    "start_time": "2023-05-14T18:21:04.015Z"
   },
   {
    "duration": 14,
    "start_time": "2023-05-14T18:21:13.465Z"
   },
   {
    "duration": 9,
    "start_time": "2023-05-14T18:21:21.780Z"
   },
   {
    "duration": 9,
    "start_time": "2023-05-14T18:21:32.085Z"
   },
   {
    "duration": 7,
    "start_time": "2023-05-14T18:35:06.496Z"
   },
   {
    "duration": 16,
    "start_time": "2023-05-14T18:35:16.202Z"
   },
   {
    "duration": 18,
    "start_time": "2023-05-14T18:38:08.805Z"
   },
   {
    "duration": 29,
    "start_time": "2023-05-14T18:38:24.383Z"
   },
   {
    "duration": 22,
    "start_time": "2023-05-14T18:38:56.382Z"
   },
   {
    "duration": 18,
    "start_time": "2023-05-14T18:39:19.416Z"
   },
   {
    "duration": 19,
    "start_time": "2023-05-14T18:39:46.397Z"
   },
   {
    "duration": 16,
    "start_time": "2023-05-14T18:42:14.749Z"
   },
   {
    "duration": 16,
    "start_time": "2023-05-14T18:42:21.210Z"
   },
   {
    "duration": 20,
    "start_time": "2023-05-14T18:43:39.015Z"
   },
   {
    "duration": 18,
    "start_time": "2023-05-14T18:44:37.029Z"
   },
   {
    "duration": 12,
    "start_time": "2023-05-14T18:44:46.030Z"
   },
   {
    "duration": 14,
    "start_time": "2023-05-14T18:45:21.276Z"
   },
   {
    "duration": 19,
    "start_time": "2023-05-14T18:47:06.666Z"
   },
   {
    "duration": 15,
    "start_time": "2023-05-14T18:47:38.191Z"
   },
   {
    "duration": 15,
    "start_time": "2023-05-14T18:48:13.147Z"
   },
   {
    "duration": 13,
    "start_time": "2023-05-14T18:48:20.623Z"
   },
   {
    "duration": 17,
    "start_time": "2023-05-14T18:48:31.544Z"
   },
   {
    "duration": 10,
    "start_time": "2023-05-14T18:56:41.103Z"
   },
   {
    "duration": 11,
    "start_time": "2023-05-14T18:56:53.760Z"
   },
   {
    "duration": 9,
    "start_time": "2023-05-14T18:56:58.696Z"
   },
   {
    "duration": 8,
    "start_time": "2023-05-14T18:58:08.751Z"
   },
   {
    "duration": 8,
    "start_time": "2023-05-14T18:58:23.880Z"
   },
   {
    "duration": 8,
    "start_time": "2023-05-14T18:58:43.791Z"
   },
   {
    "duration": 15,
    "start_time": "2023-05-14T19:02:05.916Z"
   },
   {
    "duration": 13,
    "start_time": "2023-05-14T19:02:35.809Z"
   },
   {
    "duration": 113993,
    "start_time": "2023-05-14T19:04:22.262Z"
   },
   {
    "duration": 9,
    "start_time": "2023-05-14T19:06:30.134Z"
   },
   {
    "duration": 9,
    "start_time": "2023-05-14T19:08:32.009Z"
   },
   {
    "duration": 212,
    "start_time": "2023-05-14T19:11:20.043Z"
   },
   {
    "duration": 198,
    "start_time": "2023-05-14T19:11:57.460Z"
   },
   {
    "duration": 7,
    "start_time": "2023-05-14T19:12:15.900Z"
   },
   {
    "duration": 13,
    "start_time": "2023-05-14T19:12:18.736Z"
   },
   {
    "duration": 8,
    "start_time": "2023-05-14T19:12:52.343Z"
   },
   {
    "duration": 11,
    "start_time": "2023-05-14T19:12:58.948Z"
   },
   {
    "duration": 12,
    "start_time": "2023-05-14T19:13:14.804Z"
   },
   {
    "duration": 8,
    "start_time": "2023-05-14T19:13:34.678Z"
   },
   {
    "duration": 20,
    "start_time": "2023-05-14T19:13:38.134Z"
   },
   {
    "duration": 9,
    "start_time": "2023-05-14T19:14:11.718Z"
   },
   {
    "duration": 10,
    "start_time": "2023-05-14T19:14:13.615Z"
   },
   {
    "duration": 8,
    "start_time": "2023-05-14T19:14:16.663Z"
   },
   {
    "duration": 12,
    "start_time": "2023-05-14T19:14:19.487Z"
   },
   {
    "duration": 7,
    "start_time": "2023-05-14T19:14:29.751Z"
   },
   {
    "duration": 322,
    "start_time": "2023-05-14T19:14:33.180Z"
   },
   {
    "duration": 7,
    "start_time": "2023-05-14T19:15:10.527Z"
   },
   {
    "duration": 316,
    "start_time": "2023-05-14T19:15:13.536Z"
   },
   {
    "duration": 7,
    "start_time": "2023-05-14T19:15:50.854Z"
   },
   {
    "duration": 471,
    "start_time": "2023-05-14T19:15:53.133Z"
   },
   {
    "duration": 340,
    "start_time": "2023-05-14T19:16:57.836Z"
   },
   {
    "duration": 380,
    "start_time": "2023-05-14T19:17:19.871Z"
   },
   {
    "duration": 468,
    "start_time": "2023-05-14T19:17:26.609Z"
   },
   {
    "duration": 505,
    "start_time": "2023-05-14T19:17:37.020Z"
   },
   {
    "duration": 437,
    "start_time": "2023-05-14T19:17:42.174Z"
   },
   {
    "duration": 8,
    "start_time": "2023-05-14T19:18:05.975Z"
   },
   {
    "duration": 419,
    "start_time": "2023-05-14T19:18:08.983Z"
   },
   {
    "duration": 442,
    "start_time": "2023-05-14T19:19:02.647Z"
   },
   {
    "duration": 469,
    "start_time": "2023-05-14T19:19:11.748Z"
   },
   {
    "duration": 7,
    "start_time": "2023-05-14T19:19:30.391Z"
   },
   {
    "duration": 816,
    "start_time": "2023-05-14T19:19:34.173Z"
   },
   {
    "duration": 7,
    "start_time": "2023-05-14T19:19:53.343Z"
   },
   {
    "duration": 7,
    "start_time": "2023-05-14T19:19:55.116Z"
   },
   {
    "duration": 81,
    "start_time": "2023-05-14T19:21:36.628Z"
   },
   {
    "duration": 71,
    "start_time": "2023-05-14T19:21:53.340Z"
   },
   {
    "duration": 7,
    "start_time": "2023-05-14T19:22:02.502Z"
   },
   {
    "duration": 6,
    "start_time": "2023-05-14T19:22:10.971Z"
   },
   {
    "duration": 6,
    "start_time": "2023-05-14T19:22:17.744Z"
   },
   {
    "duration": 1084,
    "start_time": "2023-05-14T19:22:28.065Z"
   },
   {
    "duration": 6,
    "start_time": "2023-05-14T19:23:03.332Z"
   },
   {
    "duration": 597,
    "start_time": "2023-05-14T19:23:06.092Z"
   },
   {
    "duration": 6,
    "start_time": "2023-05-14T19:23:37.340Z"
   },
   {
    "duration": 824,
    "start_time": "2023-05-14T19:23:40.348Z"
   },
   {
    "duration": 8,
    "start_time": "2023-05-14T19:24:31.944Z"
   },
   {
    "duration": 9,
    "start_time": "2023-05-14T19:24:47.983Z"
   },
   {
    "duration": 967,
    "start_time": "2023-05-14T19:24:50.382Z"
   },
   {
    "duration": 6,
    "start_time": "2023-05-14T19:25:25.335Z"
   },
   {
    "duration": 601,
    "start_time": "2023-05-14T19:25:29.684Z"
   },
   {
    "duration": 8,
    "start_time": "2023-05-14T19:25:36.999Z"
   },
   {
    "duration": 7,
    "start_time": "2023-05-14T19:25:57.248Z"
   },
   {
    "duration": 134248,
    "start_time": "2023-05-14T19:27:16.750Z"
   },
   {
    "duration": 1326,
    "start_time": "2023-05-14T19:33:59.876Z"
   },
   {
    "duration": 47,
    "start_time": "2023-05-14T19:34:01.204Z"
   },
   {
    "duration": 18,
    "start_time": "2023-05-14T19:34:01.252Z"
   },
   {
    "duration": 46,
    "start_time": "2023-05-14T19:34:01.272Z"
   },
   {
    "duration": 10,
    "start_time": "2023-05-14T19:34:01.319Z"
   },
   {
    "duration": 36,
    "start_time": "2023-05-14T19:34:01.331Z"
   },
   {
    "duration": 18,
    "start_time": "2023-05-14T19:34:01.368Z"
   },
   {
    "duration": 19,
    "start_time": "2023-05-14T19:34:01.388Z"
   },
   {
    "duration": 16,
    "start_time": "2023-05-14T19:34:01.409Z"
   },
   {
    "duration": 21,
    "start_time": "2023-05-14T19:34:01.428Z"
   },
   {
    "duration": 26,
    "start_time": "2023-05-14T19:34:01.451Z"
   },
   {
    "duration": 33,
    "start_time": "2023-05-14T19:34:01.479Z"
   },
   {
    "duration": 39,
    "start_time": "2023-05-14T19:34:01.514Z"
   },
   {
    "duration": 22,
    "start_time": "2023-05-14T19:34:01.555Z"
   },
   {
    "duration": 20,
    "start_time": "2023-05-14T19:34:01.578Z"
   },
   {
    "duration": 29,
    "start_time": "2023-05-14T19:34:01.599Z"
   },
   {
    "duration": 33,
    "start_time": "2023-05-14T19:34:01.629Z"
   },
   {
    "duration": 23,
    "start_time": "2023-05-14T19:34:01.664Z"
   },
   {
    "duration": 30,
    "start_time": "2023-05-14T19:34:01.689Z"
   },
   {
    "duration": 39,
    "start_time": "2023-05-14T19:34:01.721Z"
   },
   {
    "duration": 35,
    "start_time": "2023-05-14T19:34:01.762Z"
   },
   {
    "duration": 27,
    "start_time": "2023-05-14T19:34:01.799Z"
   },
   {
    "duration": 7,
    "start_time": "2023-05-14T19:34:01.828Z"
   },
   {
    "duration": 32,
    "start_time": "2023-05-14T19:34:01.837Z"
   },
   {
    "duration": 21,
    "start_time": "2023-05-14T19:34:01.870Z"
   },
   {
    "duration": 46,
    "start_time": "2023-05-14T19:34:01.893Z"
   },
   {
    "duration": 25,
    "start_time": "2023-05-14T19:34:01.942Z"
   },
   {
    "duration": 22,
    "start_time": "2023-05-14T19:34:01.971Z"
   },
   {
    "duration": 43,
    "start_time": "2023-05-14T19:34:01.995Z"
   },
   {
    "duration": 37,
    "start_time": "2023-05-14T19:34:02.039Z"
   },
   {
    "duration": 64,
    "start_time": "2023-05-14T19:34:02.078Z"
   },
   {
    "duration": 45,
    "start_time": "2023-05-14T19:34:02.144Z"
   },
   {
    "duration": 117460,
    "start_time": "2023-05-14T19:34:02.191Z"
   },
   {
    "duration": 100,
    "start_time": "2023-05-14T19:35:59.653Z"
   },
   {
    "duration": 0,
    "start_time": "2023-05-14T19:35:59.755Z"
   },
   {
    "duration": 0,
    "start_time": "2023-05-14T19:35:59.757Z"
   },
   {
    "duration": 0,
    "start_time": "2023-05-14T19:35:59.758Z"
   },
   {
    "duration": 0,
    "start_time": "2023-05-14T19:35:59.759Z"
   },
   {
    "duration": 0,
    "start_time": "2023-05-14T19:35:59.760Z"
   },
   {
    "duration": 0,
    "start_time": "2023-05-14T19:35:59.761Z"
   },
   {
    "duration": 0,
    "start_time": "2023-05-14T19:35:59.762Z"
   },
   {
    "duration": 0,
    "start_time": "2023-05-14T19:35:59.763Z"
   },
   {
    "duration": 0,
    "start_time": "2023-05-14T19:35:59.764Z"
   },
   {
    "duration": 0,
    "start_time": "2023-05-14T19:35:59.765Z"
   },
   {
    "duration": 0,
    "start_time": "2023-05-14T19:35:59.766Z"
   },
   {
    "duration": 0,
    "start_time": "2023-05-14T19:35:59.767Z"
   },
   {
    "duration": 0,
    "start_time": "2023-05-14T19:35:59.768Z"
   },
   {
    "duration": 2503378,
    "start_time": "2023-05-14T19:36:39.547Z"
   },
   {
    "duration": 2,
    "start_time": "2023-05-14T20:18:22.927Z"
   },
   {
    "duration": 870,
    "start_time": "2023-05-14T20:18:22.930Z"
   },
   {
    "duration": 119897,
    "start_time": "2023-05-14T20:18:23.802Z"
   },
   {
    "duration": 4,
    "start_time": "2023-05-14T20:20:23.701Z"
   },
   {
    "duration": 133913,
    "start_time": "2023-05-14T20:20:23.706Z"
   },
   {
    "duration": 78984,
    "start_time": "2023-05-14T20:22:37.621Z"
   },
   {
    "duration": 77,
    "start_time": "2023-05-14T20:23:56.607Z"
   },
   {
    "duration": 0,
    "start_time": "2023-05-14T20:23:56.686Z"
   },
   {
    "duration": 0,
    "start_time": "2023-05-14T20:23:56.687Z"
   },
   {
    "duration": 0,
    "start_time": "2023-05-14T20:23:56.689Z"
   },
   {
    "duration": 0,
    "start_time": "2023-05-14T20:23:56.691Z"
   },
   {
    "duration": 0,
    "start_time": "2023-05-14T20:23:56.692Z"
   },
   {
    "duration": 52,
    "start_time": "2023-05-15T02:13:12.525Z"
   },
   {
    "duration": 0,
    "start_time": "2023-05-15T02:13:12.579Z"
   },
   {
    "duration": 0,
    "start_time": "2023-05-15T02:13:12.580Z"
   },
   {
    "duration": 0,
    "start_time": "2023-05-15T02:13:12.581Z"
   },
   {
    "duration": 0,
    "start_time": "2023-05-15T02:13:12.582Z"
   },
   {
    "duration": 0,
    "start_time": "2023-05-15T02:13:12.583Z"
   },
   {
    "duration": 49,
    "start_time": "2023-05-15T02:13:20.353Z"
   },
   {
    "duration": 47,
    "start_time": "2023-05-15T02:13:25.988Z"
   },
   {
    "duration": 0,
    "start_time": "2023-05-15T02:13:26.038Z"
   },
   {
    "duration": 0,
    "start_time": "2023-05-15T02:13:26.039Z"
   },
   {
    "duration": 0,
    "start_time": "2023-05-15T02:13:26.041Z"
   },
   {
    "duration": 0,
    "start_time": "2023-05-15T02:13:26.042Z"
   },
   {
    "duration": 0,
    "start_time": "2023-05-15T02:13:26.044Z"
   },
   {
    "duration": 8,
    "start_time": "2023-05-15T02:13:46.651Z"
   },
   {
    "duration": 1609,
    "start_time": "2023-05-15T02:13:57.704Z"
   },
   {
    "duration": 216,
    "start_time": "2023-05-15T02:13:59.316Z"
   },
   {
    "duration": 56,
    "start_time": "2023-05-15T02:13:59.533Z"
   },
   {
    "duration": 13,
    "start_time": "2023-05-15T02:13:59.591Z"
   },
   {
    "duration": 66,
    "start_time": "2023-05-15T02:13:59.606Z"
   },
   {
    "duration": 11,
    "start_time": "2023-05-15T02:13:59.674Z"
   },
   {
    "duration": 17,
    "start_time": "2023-05-15T02:13:59.686Z"
   },
   {
    "duration": 67,
    "start_time": "2023-05-15T02:13:59.704Z"
   },
   {
    "duration": 9,
    "start_time": "2023-05-15T02:13:59.774Z"
   },
   {
    "duration": 16,
    "start_time": "2023-05-15T02:13:59.785Z"
   },
   {
    "duration": 11,
    "start_time": "2023-05-15T02:13:59.802Z"
   },
   {
    "duration": 59,
    "start_time": "2023-05-15T02:13:59.815Z"
   },
   {
    "duration": 11,
    "start_time": "2023-05-15T02:13:59.875Z"
   },
   {
    "duration": 29,
    "start_time": "2023-05-15T02:13:59.888Z"
   },
   {
    "duration": 52,
    "start_time": "2023-05-15T02:13:59.919Z"
   },
   {
    "duration": 5,
    "start_time": "2023-05-15T02:13:59.973Z"
   },
   {
    "duration": 18,
    "start_time": "2023-05-15T02:13:59.979Z"
   },
   {
    "duration": 19,
    "start_time": "2023-05-15T02:13:59.999Z"
   },
   {
    "duration": 65,
    "start_time": "2023-05-15T02:14:00.020Z"
   },
   {
    "duration": 40,
    "start_time": "2023-05-15T02:14:00.087Z"
   },
   {
    "duration": 19,
    "start_time": "2023-05-15T02:14:00.171Z"
   },
   {
    "duration": 97,
    "start_time": "2023-05-15T02:14:00.192Z"
   },
   {
    "duration": 48,
    "start_time": "2023-05-15T02:14:00.291Z"
   },
   {
    "duration": 10,
    "start_time": "2023-05-15T02:14:00.372Z"
   },
   {
    "duration": 51,
    "start_time": "2023-05-15T02:14:00.384Z"
   },
   {
    "duration": 29,
    "start_time": "2023-05-15T02:14:00.470Z"
   },
   {
    "duration": 33,
    "start_time": "2023-05-15T02:14:00.501Z"
   },
   {
    "duration": 20,
    "start_time": "2023-05-15T02:14:00.572Z"
   },
   {
    "duration": 78,
    "start_time": "2023-05-15T02:14:00.594Z"
   },
   {
    "duration": 41,
    "start_time": "2023-05-15T02:14:00.675Z"
   },
   {
    "duration": 71,
    "start_time": "2023-05-15T02:14:00.718Z"
   },
   {
    "duration": 20,
    "start_time": "2023-05-15T02:14:00.791Z"
   },
   {
    "duration": 126355,
    "start_time": "2023-05-15T02:14:00.813Z"
   },
   {
    "duration": 3,
    "start_time": "2023-05-15T02:16:07.172Z"
   },
   {
    "duration": 3077714,
    "start_time": "2023-05-15T02:16:07.177Z"
   },
   {
    "duration": 4,
    "start_time": "2023-05-15T03:07:24.894Z"
   },
   {
    "duration": 2399,
    "start_time": "2023-05-15T03:07:24.900Z"
   },
   {
    "duration": 146608,
    "start_time": "2023-05-15T03:07:27.301Z"
   },
   {
    "duration": 2,
    "start_time": "2023-05-15T03:09:53.911Z"
   },
   {
    "duration": 167696,
    "start_time": "2023-05-15T03:09:53.915Z"
   },
   {
    "duration": 92339,
    "start_time": "2023-05-15T03:12:41.612Z"
   },
   {
    "duration": 3386946,
    "start_time": "2023-05-15T03:14:13.953Z"
   },
   {
    "duration": 143,
    "start_time": "2023-05-15T04:10:40.904Z"
   },
   {
    "duration": 0,
    "start_time": "2023-05-15T04:10:41.049Z"
   },
   {
    "duration": 0,
    "start_time": "2023-05-15T04:10:41.050Z"
   },
   {
    "duration": 0,
    "start_time": "2023-05-15T04:10:41.051Z"
   },
   {
    "duration": 0,
    "start_time": "2023-05-15T04:10:41.052Z"
   },
   {
    "duration": 4404186,
    "start_time": "2023-05-15T04:20:54.396Z"
   },
   {
    "duration": 2570172,
    "start_time": "2023-05-15T05:34:18.584Z"
   },
   {
    "duration": 1790,
    "start_time": "2023-05-15T06:17:08.758Z"
   },
   {
    "duration": 390,
    "start_time": "2023-05-15T06:17:10.551Z"
   },
   {
    "duration": 0,
    "start_time": "2023-05-15T06:17:10.944Z"
   },
   {
    "duration": 2292,
    "start_time": "2023-05-15T06:37:31.356Z"
   },
   {
    "duration": 1054,
    "start_time": "2023-05-15T06:37:38.061Z"
   },
   {
    "duration": 10,
    "start_time": "2023-05-15T06:38:12.352Z"
   },
   {
    "duration": 1597,
    "start_time": "2023-05-15T06:38:18.985Z"
   },
   {
    "duration": 1590,
    "start_time": "2023-05-15T16:48:34.293Z"
   },
   {
    "duration": 69,
    "start_time": "2023-05-15T16:52:14.017Z"
   },
   {
    "duration": 763,
    "start_time": "2023-05-15T16:52:17.596Z"
   },
   {
    "duration": 888,
    "start_time": "2023-05-15T16:52:40.387Z"
   },
   {
    "duration": 83,
    "start_time": "2023-05-15T16:52:50.884Z"
   },
   {
    "duration": 103,
    "start_time": "2023-05-15T16:53:08.100Z"
   },
   {
    "duration": 83,
    "start_time": "2023-05-15T16:53:12.602Z"
   },
   {
    "duration": 15,
    "start_time": "2023-05-15T16:53:15.625Z"
   },
   {
    "duration": 9,
    "start_time": "2023-05-15T16:53:21.123Z"
   },
   {
    "duration": 6,
    "start_time": "2023-05-15T16:53:35.438Z"
   },
   {
    "duration": 954,
    "start_time": "2023-05-15T16:53:43.929Z"
   },
   {
    "duration": 490,
    "start_time": "2023-05-15T16:54:06.384Z"
   },
   {
    "duration": 1108,
    "start_time": "2023-05-15T16:54:13.676Z"
   },
   {
    "duration": 8,
    "start_time": "2023-05-15T16:56:27.437Z"
   },
   {
    "duration": 760,
    "start_time": "2023-05-15T16:56:30.414Z"
   },
   {
    "duration": 6,
    "start_time": "2023-05-15T16:56:48.546Z"
   },
   {
    "duration": 441,
    "start_time": "2023-05-15T16:56:52.532Z"
   },
   {
    "duration": 13,
    "start_time": "2023-05-15T16:58:58.934Z"
   },
   {
    "duration": 1390,
    "start_time": "2023-05-15T16:59:01.475Z"
   },
   {
    "duration": 5,
    "start_time": "2023-05-15T16:59:27.382Z"
   },
   {
    "duration": 757,
    "start_time": "2023-05-15T16:59:31.816Z"
   },
   {
    "duration": 6,
    "start_time": "2023-05-15T16:59:47.975Z"
   },
   {
    "duration": 1207,
    "start_time": "2023-05-15T16:59:50.173Z"
   },
   {
    "duration": 6,
    "start_time": "2023-05-15T17:00:43.355Z"
   },
   {
    "duration": 671,
    "start_time": "2023-05-15T17:00:45.516Z"
   },
   {
    "duration": 6,
    "start_time": "2023-05-15T17:01:40.940Z"
   },
   {
    "duration": 702,
    "start_time": "2023-05-15T17:01:43.875Z"
   },
   {
    "duration": 6,
    "start_time": "2023-05-15T17:02:11.115Z"
   },
   {
    "duration": 776,
    "start_time": "2023-05-15T17:02:13.052Z"
   },
   {
    "duration": 9,
    "start_time": "2023-05-15T17:02:48.114Z"
   },
   {
    "duration": 912,
    "start_time": "2023-05-15T17:02:50.563Z"
   },
   {
    "duration": 1063,
    "start_time": "2023-05-15T17:03:07.718Z"
   },
   {
    "duration": 867,
    "start_time": "2023-05-15T17:04:29.884Z"
   },
   {
    "duration": 1548,
    "start_time": "2023-05-15T17:04:46.900Z"
   },
   {
    "duration": 837,
    "start_time": "2023-05-15T17:05:03.912Z"
   },
   {
    "duration": 136,
    "start_time": "2023-05-15T17:11:49.205Z"
   },
   {
    "duration": 13,
    "start_time": "2023-05-15T17:12:27.822Z"
   },
   {
    "duration": 10,
    "start_time": "2023-05-15T17:12:37.848Z"
   },
   {
    "duration": 11,
    "start_time": "2023-05-15T17:18:05.610Z"
   },
   {
    "duration": 61,
    "start_time": "2023-05-15T17:20:24.136Z"
   },
   {
    "duration": 11,
    "start_time": "2023-05-15T17:20:27.586Z"
   },
   {
    "duration": 1631,
    "start_time": "2023-05-15T17:24:44.950Z"
   },
   {
    "duration": 65,
    "start_time": "2023-05-15T17:24:46.583Z"
   },
   {
    "duration": 22,
    "start_time": "2023-05-15T17:24:46.650Z"
   },
   {
    "duration": 32,
    "start_time": "2023-05-15T17:24:46.675Z"
   },
   {
    "duration": 14,
    "start_time": "2023-05-15T17:24:46.709Z"
   },
   {
    "duration": 46,
    "start_time": "2023-05-15T17:24:46.725Z"
   },
   {
    "duration": 11,
    "start_time": "2023-05-15T17:24:46.773Z"
   },
   {
    "duration": 21,
    "start_time": "2023-05-15T17:24:46.787Z"
   },
   {
    "duration": 20,
    "start_time": "2023-05-15T17:24:46.810Z"
   },
   {
    "duration": 30,
    "start_time": "2023-05-15T17:24:46.834Z"
   },
   {
    "duration": 32,
    "start_time": "2023-05-15T17:24:46.867Z"
   },
   {
    "duration": 11,
    "start_time": "2023-05-15T17:24:46.902Z"
   },
   {
    "duration": 16,
    "start_time": "2023-05-15T17:24:46.915Z"
   },
   {
    "duration": 9,
    "start_time": "2023-05-15T17:24:46.933Z"
   },
   {
    "duration": 6,
    "start_time": "2023-05-15T17:24:46.944Z"
   },
   {
    "duration": 10,
    "start_time": "2023-05-15T17:24:46.951Z"
   },
   {
    "duration": 19,
    "start_time": "2023-05-15T17:24:46.963Z"
   },
   {
    "duration": 21,
    "start_time": "2023-05-15T17:24:46.984Z"
   },
   {
    "duration": 18,
    "start_time": "2023-05-15T17:24:47.008Z"
   },
   {
    "duration": 44,
    "start_time": "2023-05-15T17:24:47.028Z"
   },
   {
    "duration": 20,
    "start_time": "2023-05-15T17:24:47.074Z"
   },
   {
    "duration": 19,
    "start_time": "2023-05-15T17:24:47.096Z"
   },
   {
    "duration": 6,
    "start_time": "2023-05-15T17:24:47.117Z"
   },
   {
    "duration": 20,
    "start_time": "2023-05-15T17:24:47.125Z"
   },
   {
    "duration": 9,
    "start_time": "2023-05-15T17:24:47.170Z"
   },
   {
    "duration": 52,
    "start_time": "2023-05-15T17:24:47.181Z"
   },
   {
    "duration": 24,
    "start_time": "2023-05-15T17:24:47.235Z"
   },
   {
    "duration": 400,
    "start_time": "2023-05-15T17:24:47.263Z"
   },
   {
    "duration": 0,
    "start_time": "2023-05-15T17:24:47.665Z"
   },
   {
    "duration": 0,
    "start_time": "2023-05-15T17:24:47.666Z"
   },
   {
    "duration": 0,
    "start_time": "2023-05-15T17:24:47.668Z"
   },
   {
    "duration": 0,
    "start_time": "2023-05-15T17:24:47.669Z"
   },
   {
    "duration": 0,
    "start_time": "2023-05-15T17:24:47.670Z"
   },
   {
    "duration": 0,
    "start_time": "2023-05-15T17:24:47.671Z"
   },
   {
    "duration": 119,
    "start_time": "2023-05-15T17:24:58.065Z"
   },
   {
    "duration": 1615,
    "start_time": "2023-05-15T17:25:14.609Z"
   },
   {
    "duration": 56,
    "start_time": "2023-05-15T17:25:16.226Z"
   },
   {
    "duration": 21,
    "start_time": "2023-05-15T17:25:16.283Z"
   },
   {
    "duration": 35,
    "start_time": "2023-05-15T17:25:16.307Z"
   },
   {
    "duration": 47,
    "start_time": "2023-05-15T17:25:16.344Z"
   },
   {
    "duration": 34,
    "start_time": "2023-05-15T17:25:16.392Z"
   },
   {
    "duration": 36,
    "start_time": "2023-05-15T17:25:16.429Z"
   },
   {
    "duration": 17,
    "start_time": "2023-05-15T17:25:16.467Z"
   },
   {
    "duration": 19,
    "start_time": "2023-05-15T17:25:16.486Z"
   },
   {
    "duration": 11,
    "start_time": "2023-05-15T17:25:16.509Z"
   },
   {
    "duration": 10,
    "start_time": "2023-05-15T17:25:16.522Z"
   },
   {
    "duration": 7,
    "start_time": "2023-05-15T17:25:16.534Z"
   },
   {
    "duration": 32,
    "start_time": "2023-05-15T17:25:16.544Z"
   },
   {
    "duration": 13,
    "start_time": "2023-05-15T17:25:16.578Z"
   },
   {
    "duration": 14,
    "start_time": "2023-05-15T17:25:16.593Z"
   },
   {
    "duration": 11,
    "start_time": "2023-05-15T17:25:16.609Z"
   },
   {
    "duration": 17,
    "start_time": "2023-05-15T17:25:16.622Z"
   },
   {
    "duration": 75,
    "start_time": "2023-05-15T17:25:16.641Z"
   },
   {
    "duration": 18,
    "start_time": "2023-05-15T17:25:16.718Z"
   },
   {
    "duration": 18,
    "start_time": "2023-05-15T17:25:16.738Z"
   },
   {
    "duration": 51,
    "start_time": "2023-05-15T17:25:16.758Z"
   },
   {
    "duration": 29,
    "start_time": "2023-05-15T17:25:16.811Z"
   },
   {
    "duration": 6,
    "start_time": "2023-05-15T17:25:16.842Z"
   },
   {
    "duration": 25,
    "start_time": "2023-05-15T17:25:16.850Z"
   },
   {
    "duration": 11,
    "start_time": "2023-05-15T17:25:16.877Z"
   },
   {
    "duration": 13,
    "start_time": "2023-05-15T17:25:16.889Z"
   },
   {
    "duration": 9,
    "start_time": "2023-05-15T17:25:16.904Z"
   },
   {
    "duration": 89,
    "start_time": "2023-05-15T17:25:16.917Z"
   },
   {
    "duration": 0,
    "start_time": "2023-05-15T17:25:17.008Z"
   },
   {
    "duration": 0,
    "start_time": "2023-05-15T17:25:17.009Z"
   },
   {
    "duration": 0,
    "start_time": "2023-05-15T17:25:17.011Z"
   },
   {
    "duration": 0,
    "start_time": "2023-05-15T17:25:17.012Z"
   },
   {
    "duration": 0,
    "start_time": "2023-05-15T17:25:17.013Z"
   },
   {
    "duration": 0,
    "start_time": "2023-05-15T17:25:17.014Z"
   },
   {
    "duration": 0,
    "start_time": "2023-05-15T17:25:17.016Z"
   },
   {
    "duration": 0,
    "start_time": "2023-05-15T17:25:17.017Z"
   },
   {
    "duration": 0,
    "start_time": "2023-05-15T17:25:17.017Z"
   },
   {
    "duration": 0,
    "start_time": "2023-05-15T17:25:17.019Z"
   },
   {
    "duration": 0,
    "start_time": "2023-05-15T17:25:17.020Z"
   },
   {
    "duration": 0,
    "start_time": "2023-05-15T17:25:17.021Z"
   },
   {
    "duration": 0,
    "start_time": "2023-05-15T17:25:17.022Z"
   },
   {
    "duration": 0,
    "start_time": "2023-05-15T17:25:17.023Z"
   },
   {
    "duration": 0,
    "start_time": "2023-05-15T17:25:17.024Z"
   },
   {
    "duration": 0,
    "start_time": "2023-05-15T17:25:17.025Z"
   },
   {
    "duration": 0,
    "start_time": "2023-05-15T17:25:17.026Z"
   },
   {
    "duration": 0,
    "start_time": "2023-05-15T17:25:17.027Z"
   },
   {
    "duration": 16,
    "start_time": "2023-05-15T17:25:40.429Z"
   },
   {
    "duration": 1633,
    "start_time": "2023-05-15T17:25:48.373Z"
   },
   {
    "duration": 57,
    "start_time": "2023-05-15T17:25:50.008Z"
   },
   {
    "duration": 20,
    "start_time": "2023-05-15T17:25:50.067Z"
   },
   {
    "duration": 29,
    "start_time": "2023-05-15T17:25:50.090Z"
   },
   {
    "duration": 8,
    "start_time": "2023-05-15T17:25:50.120Z"
   },
   {
    "duration": 36,
    "start_time": "2023-05-15T17:25:50.130Z"
   },
   {
    "duration": 9,
    "start_time": "2023-05-15T17:25:50.169Z"
   },
   {
    "duration": 15,
    "start_time": "2023-05-15T17:25:50.180Z"
   },
   {
    "duration": 17,
    "start_time": "2023-05-15T17:25:50.197Z"
   },
   {
    "duration": 9,
    "start_time": "2023-05-15T17:25:50.218Z"
   },
   {
    "duration": 14,
    "start_time": "2023-05-15T17:25:50.229Z"
   },
   {
    "duration": 12,
    "start_time": "2023-05-15T17:25:50.272Z"
   },
   {
    "duration": 18,
    "start_time": "2023-05-15T17:25:50.286Z"
   },
   {
    "duration": 13,
    "start_time": "2023-05-15T17:25:50.307Z"
   },
   {
    "duration": 11,
    "start_time": "2023-05-15T17:25:50.322Z"
   },
   {
    "duration": 48,
    "start_time": "2023-05-15T17:25:50.335Z"
   },
   {
    "duration": 19,
    "start_time": "2023-05-15T17:25:50.385Z"
   },
   {
    "duration": 35,
    "start_time": "2023-05-15T17:25:50.406Z"
   },
   {
    "duration": 26,
    "start_time": "2023-05-15T17:25:50.443Z"
   },
   {
    "duration": 39,
    "start_time": "2023-05-15T17:25:50.471Z"
   },
   {
    "duration": 29,
    "start_time": "2023-05-15T17:25:50.513Z"
   },
   {
    "duration": 48,
    "start_time": "2023-05-15T17:25:50.545Z"
   },
   {
    "duration": 7,
    "start_time": "2023-05-15T17:25:50.596Z"
   },
   {
    "duration": 26,
    "start_time": "2023-05-15T17:25:50.605Z"
   },
   {
    "duration": 26,
    "start_time": "2023-05-15T17:25:50.633Z"
   },
   {
    "duration": 29,
    "start_time": "2023-05-15T17:25:50.661Z"
   },
   {
    "duration": 27,
    "start_time": "2023-05-15T17:25:50.692Z"
   },
   {
    "duration": 14,
    "start_time": "2023-05-15T17:25:50.724Z"
   },
   {
    "duration": 40,
    "start_time": "2023-05-15T17:25:50.740Z"
   },
   {
    "duration": 30,
    "start_time": "2023-05-15T17:25:50.783Z"
   },
   {
    "duration": 34,
    "start_time": "2023-05-15T17:25:50.816Z"
   },
   {
    "duration": 34,
    "start_time": "2023-05-15T17:25:50.852Z"
   },
   {
    "duration": 135415,
    "start_time": "2023-05-15T17:25:50.888Z"
   },
   {
    "duration": 2,
    "start_time": "2023-05-15T17:28:06.305Z"
   },
   {
    "duration": 83,
    "start_time": "2023-05-15T17:28:06.309Z"
   },
   {
    "duration": 0,
    "start_time": "2023-05-15T17:28:06.393Z"
   },
   {
    "duration": 0,
    "start_time": "2023-05-15T17:28:06.395Z"
   },
   {
    "duration": 0,
    "start_time": "2023-05-15T17:28:06.396Z"
   },
   {
    "duration": 0,
    "start_time": "2023-05-15T17:28:06.397Z"
   },
   {
    "duration": 0,
    "start_time": "2023-05-15T17:28:06.399Z"
   },
   {
    "duration": 0,
    "start_time": "2023-05-15T17:28:06.400Z"
   },
   {
    "duration": 0,
    "start_time": "2023-05-15T17:28:06.401Z"
   },
   {
    "duration": 0,
    "start_time": "2023-05-15T17:28:06.403Z"
   },
   {
    "duration": 0,
    "start_time": "2023-05-15T17:28:06.404Z"
   },
   {
    "duration": 0,
    "start_time": "2023-05-15T17:28:06.405Z"
   },
   {
    "duration": 0,
    "start_time": "2023-05-15T17:28:06.407Z"
   },
   {
    "duration": 563526,
    "start_time": "2023-05-15T17:30:51.617Z"
   },
   {
    "duration": 0,
    "start_time": "2023-05-15T17:40:15.145Z"
   },
   {
    "duration": 0,
    "start_time": "2023-05-15T17:40:15.146Z"
   },
   {
    "duration": 0,
    "start_time": "2023-05-15T17:40:15.148Z"
   },
   {
    "duration": 0,
    "start_time": "2023-05-15T17:40:15.150Z"
   },
   {
    "duration": 0,
    "start_time": "2023-05-15T17:40:15.152Z"
   },
   {
    "duration": 0,
    "start_time": "2023-05-15T17:40:15.154Z"
   },
   {
    "duration": 0,
    "start_time": "2023-05-15T17:40:15.155Z"
   },
   {
    "duration": 0,
    "start_time": "2023-05-15T17:40:15.172Z"
   },
   {
    "duration": 0,
    "start_time": "2023-05-15T17:40:15.174Z"
   },
   {
    "duration": 0,
    "start_time": "2023-05-15T17:40:15.176Z"
   },
   {
    "duration": 11,
    "start_time": "2023-05-15T17:40:37.721Z"
   },
   {
    "duration": 31848,
    "start_time": "2023-05-15T17:40:44.170Z"
   },
   {
    "duration": 0,
    "start_time": "2023-05-15T17:41:16.021Z"
   },
   {
    "duration": 0,
    "start_time": "2023-05-15T17:41:16.022Z"
   },
   {
    "duration": 0,
    "start_time": "2023-05-15T17:41:16.023Z"
   },
   {
    "duration": 0,
    "start_time": "2023-05-15T17:41:16.024Z"
   },
   {
    "duration": 0,
    "start_time": "2023-05-15T17:41:16.026Z"
   },
   {
    "duration": 0,
    "start_time": "2023-05-15T17:41:16.027Z"
   },
   {
    "duration": 0,
    "start_time": "2023-05-15T17:41:16.028Z"
   },
   {
    "duration": 0,
    "start_time": "2023-05-15T17:41:16.029Z"
   },
   {
    "duration": 0,
    "start_time": "2023-05-15T17:41:16.030Z"
   },
   {
    "duration": 0,
    "start_time": "2023-05-15T17:41:16.031Z"
   },
   {
    "duration": 1026599,
    "start_time": "2023-05-15T17:42:00.572Z"
   },
   {
    "duration": 1159,
    "start_time": "2023-05-15T17:59:07.174Z"
   },
   {
    "duration": 195875,
    "start_time": "2023-05-15T17:59:08.335Z"
   },
   {
    "duration": 144260,
    "start_time": "2023-05-15T18:02:24.213Z"
   },
   {
    "duration": 1,
    "start_time": "2023-05-15T18:04:48.475Z"
   },
   {
    "duration": 0,
    "start_time": "2023-05-15T18:04:48.478Z"
   },
   {
    "duration": 0,
    "start_time": "2023-05-15T18:04:48.480Z"
   },
   {
    "duration": 0,
    "start_time": "2023-05-15T18:04:48.483Z"
   },
   {
    "duration": 0,
    "start_time": "2023-05-15T18:04:48.485Z"
   },
   {
    "duration": 0,
    "start_time": "2023-05-15T18:04:48.486Z"
   },
   {
    "duration": 0,
    "start_time": "2023-05-15T18:04:48.489Z"
   },
   {
    "duration": 18,
    "start_time": "2023-05-15T18:06:24.682Z"
   },
   {
    "duration": 2256,
    "start_time": "2023-05-15T18:06:51.478Z"
   },
   {
    "duration": 67,
    "start_time": "2023-05-15T18:06:53.737Z"
   },
   {
    "duration": 37,
    "start_time": "2023-05-15T18:06:53.807Z"
   },
   {
    "duration": 40,
    "start_time": "2023-05-15T18:06:53.848Z"
   },
   {
    "duration": 11,
    "start_time": "2023-05-15T18:06:53.892Z"
   },
   {
    "duration": 37,
    "start_time": "2023-05-15T18:06:53.906Z"
   },
   {
    "duration": 24,
    "start_time": "2023-05-15T18:06:53.947Z"
   },
   {
    "duration": 18,
    "start_time": "2023-05-15T18:06:53.973Z"
   },
   {
    "duration": 27,
    "start_time": "2023-05-15T18:06:53.994Z"
   },
   {
    "duration": 16,
    "start_time": "2023-05-15T18:06:54.024Z"
   },
   {
    "duration": 32,
    "start_time": "2023-05-15T18:06:54.042Z"
   },
   {
    "duration": 23,
    "start_time": "2023-05-15T18:06:54.077Z"
   },
   {
    "duration": 18,
    "start_time": "2023-05-15T18:06:54.102Z"
   },
   {
    "duration": 11,
    "start_time": "2023-05-15T18:06:54.122Z"
   },
   {
    "duration": 6,
    "start_time": "2023-05-15T18:06:54.135Z"
   },
   {
    "duration": 31,
    "start_time": "2023-05-15T18:06:54.143Z"
   },
   {
    "duration": 17,
    "start_time": "2023-05-15T18:06:54.177Z"
   },
   {
    "duration": 43,
    "start_time": "2023-05-15T18:06:54.196Z"
   },
   {
    "duration": 33,
    "start_time": "2023-05-15T18:06:54.242Z"
   },
   {
    "duration": 25,
    "start_time": "2023-05-15T18:06:54.278Z"
   },
   {
    "duration": 28,
    "start_time": "2023-05-15T18:06:54.306Z"
   },
   {
    "duration": 20,
    "start_time": "2023-05-15T18:06:54.373Z"
   },
   {
    "duration": 46,
    "start_time": "2023-05-15T18:06:54.395Z"
   },
   {
    "duration": 22,
    "start_time": "2023-05-15T18:06:54.443Z"
   },
   {
    "duration": 21,
    "start_time": "2023-05-15T18:06:54.469Z"
   },
   {
    "duration": 26,
    "start_time": "2023-05-15T18:06:54.492Z"
   },
   {
    "duration": 10,
    "start_time": "2023-05-15T18:06:54.521Z"
   },
   {
    "duration": 11,
    "start_time": "2023-05-15T18:06:54.535Z"
   },
   {
    "duration": 18,
    "start_time": "2023-05-15T18:06:54.549Z"
   },
   {
    "duration": 14,
    "start_time": "2023-05-15T18:06:54.571Z"
   },
   {
    "duration": 34,
    "start_time": "2023-05-15T18:06:54.587Z"
   },
   {
    "duration": 20,
    "start_time": "2023-05-15T18:06:54.623Z"
   },
   {
    "duration": 126391,
    "start_time": "2023-05-15T18:06:54.645Z"
   },
   {
    "duration": 1,
    "start_time": "2023-05-15T18:09:01.039Z"
   },
   {
    "duration": 0,
    "start_time": "2023-05-15T18:09:01.041Z"
   },
   {
    "duration": 0,
    "start_time": "2023-05-15T18:09:01.043Z"
   },
   {
    "duration": 0,
    "start_time": "2023-05-15T18:09:01.045Z"
   },
   {
    "duration": 0,
    "start_time": "2023-05-15T18:09:01.046Z"
   },
   {
    "duration": 0,
    "start_time": "2023-05-15T18:09:01.048Z"
   },
   {
    "duration": 0,
    "start_time": "2023-05-15T18:09:01.050Z"
   },
   {
    "duration": 0,
    "start_time": "2023-05-15T18:09:01.070Z"
   },
   {
    "duration": 0,
    "start_time": "2023-05-15T18:09:01.072Z"
   },
   {
    "duration": 0,
    "start_time": "2023-05-15T18:09:01.073Z"
   },
   {
    "duration": 0,
    "start_time": "2023-05-15T18:09:01.073Z"
   },
   {
    "duration": 1668,
    "start_time": "2023-05-15T18:09:34.612Z"
   },
   {
    "duration": 69,
    "start_time": "2023-05-15T18:09:36.283Z"
   },
   {
    "duration": 36,
    "start_time": "2023-05-15T18:09:36.354Z"
   },
   {
    "duration": 30,
    "start_time": "2023-05-15T18:09:36.396Z"
   },
   {
    "duration": 46,
    "start_time": "2023-05-15T18:09:36.428Z"
   },
   {
    "duration": 17,
    "start_time": "2023-05-15T18:09:36.476Z"
   },
   {
    "duration": 6,
    "start_time": "2023-05-15T18:09:36.495Z"
   },
   {
    "duration": 11,
    "start_time": "2023-05-15T18:09:36.503Z"
   },
   {
    "duration": 13,
    "start_time": "2023-05-15T18:09:36.516Z"
   },
   {
    "duration": 9,
    "start_time": "2023-05-15T18:09:36.533Z"
   },
   {
    "duration": 35,
    "start_time": "2023-05-15T18:09:36.544Z"
   },
   {
    "duration": 7,
    "start_time": "2023-05-15T18:09:36.581Z"
   },
   {
    "duration": 11,
    "start_time": "2023-05-15T18:09:36.590Z"
   },
   {
    "duration": 9,
    "start_time": "2023-05-15T18:09:36.603Z"
   },
   {
    "duration": 5,
    "start_time": "2023-05-15T18:09:36.614Z"
   },
   {
    "duration": 9,
    "start_time": "2023-05-15T18:09:36.621Z"
   },
   {
    "duration": 46,
    "start_time": "2023-05-15T18:09:36.631Z"
   },
   {
    "duration": 28,
    "start_time": "2023-05-15T18:09:36.679Z"
   },
   {
    "duration": 24,
    "start_time": "2023-05-15T18:09:36.709Z"
   },
   {
    "duration": 44,
    "start_time": "2023-05-15T18:09:36.735Z"
   },
   {
    "duration": 20,
    "start_time": "2023-05-15T18:09:36.781Z"
   },
   {
    "duration": 18,
    "start_time": "2023-05-15T18:09:36.803Z"
   },
   {
    "duration": 6,
    "start_time": "2023-05-15T18:09:36.824Z"
   },
   {
    "duration": 44,
    "start_time": "2023-05-15T18:09:36.832Z"
   },
   {
    "duration": 10,
    "start_time": "2023-05-15T18:09:36.878Z"
   },
   {
    "duration": 15,
    "start_time": "2023-05-15T18:09:36.890Z"
   },
   {
    "duration": 8,
    "start_time": "2023-05-15T18:09:36.908Z"
   },
   {
    "duration": 9,
    "start_time": "2023-05-15T18:09:36.921Z"
   },
   {
    "duration": 45,
    "start_time": "2023-05-15T18:09:36.932Z"
   },
   {
    "duration": 17,
    "start_time": "2023-05-15T18:09:36.979Z"
   },
   {
    "duration": 23,
    "start_time": "2023-05-15T18:09:36.998Z"
   },
   {
    "duration": 22,
    "start_time": "2023-05-15T18:09:37.023Z"
   },
   {
    "duration": 657897,
    "start_time": "2023-05-15T18:09:37.048Z"
   },
   {
    "duration": 2216551,
    "start_time": "2023-05-15T18:20:34.948Z"
   },
   {
    "duration": 1457,
    "start_time": "2023-05-15T18:57:31.502Z"
   },
   {
    "duration": 674673,
    "start_time": "2023-05-15T18:57:32.962Z"
   },
   {
    "duration": 815039,
    "start_time": "2023-05-15T19:08:47.637Z"
   },
   {
    "duration": 468950,
    "start_time": "2023-05-15T19:22:22.685Z"
   },
   {
    "duration": 178,
    "start_time": "2023-05-15T19:30:11.638Z"
   },
   {
    "duration": 0,
    "start_time": "2023-05-15T19:30:11.821Z"
   },
   {
    "duration": 0,
    "start_time": "2023-05-15T19:30:11.823Z"
   },
   {
    "duration": 0,
    "start_time": "2023-05-15T19:30:11.824Z"
   },
   {
    "duration": 0,
    "start_time": "2023-05-15T19:30:11.825Z"
   },
   {
    "duration": 0,
    "start_time": "2023-05-15T19:30:11.826Z"
   },
   {
    "duration": 26362,
    "start_time": "2023-05-16T00:29:10.360Z"
   },
   {
    "duration": 1768359,
    "start_time": "2023-05-16T00:29:41.212Z"
   },
   {
    "duration": 812700,
    "start_time": "2023-05-16T00:59:09.574Z"
   },
   {
    "duration": 420431,
    "start_time": "2023-05-16T01:12:42.276Z"
   },
   {
    "duration": 889,
    "start_time": "2023-05-16T01:19:42.710Z"
   },
   {
    "duration": 1093,
    "start_time": "2023-05-16T01:19:43.601Z"
   },
   {
    "duration": 764,
    "start_time": "2023-05-16T01:19:44.696Z"
   },
   {
    "duration": 9,
    "start_time": "2023-05-16T01:29:04.441Z"
   },
   {
    "duration": 143,
    "start_time": "2023-05-16T02:46:53.928Z"
   },
   {
    "duration": 148,
    "start_time": "2023-05-16T02:48:13.338Z"
   },
   {
    "duration": 144,
    "start_time": "2023-05-16T02:48:42.020Z"
   },
   {
    "duration": 146,
    "start_time": "2023-05-16T02:48:46.641Z"
   },
   {
    "duration": 290,
    "start_time": "2023-05-16T02:49:34.022Z"
   },
   {
    "duration": 285,
    "start_time": "2023-05-16T02:52:09.093Z"
   },
   {
    "duration": 11,
    "start_time": "2023-05-16T02:55:14.536Z"
   },
   {
    "duration": 33231,
    "start_time": "2023-05-16T02:56:03.358Z"
   },
   {
    "duration": 11,
    "start_time": "2023-05-16T02:56:47.672Z"
   },
   {
    "duration": 10,
    "start_time": "2023-05-16T02:58:16.571Z"
   },
   {
    "duration": 10,
    "start_time": "2023-05-16T02:58:28.746Z"
   },
   {
    "duration": 10,
    "start_time": "2023-05-16T03:04:24.119Z"
   },
   {
    "duration": 10,
    "start_time": "2023-05-16T03:04:27.128Z"
   },
   {
    "duration": 11,
    "start_time": "2023-05-16T03:04:39.140Z"
   },
   {
    "duration": 11,
    "start_time": "2023-05-16T03:04:51.370Z"
   },
   {
    "duration": 287,
    "start_time": "2023-05-16T03:05:13.107Z"
   },
   {
    "duration": 12,
    "start_time": "2023-05-16T03:05:15.338Z"
   },
   {
    "duration": 73,
    "start_time": "2023-05-16T03:06:38.148Z"
   },
   {
    "duration": 299,
    "start_time": "2023-05-16T03:06:43.276Z"
   },
   {
    "duration": 12,
    "start_time": "2023-05-16T03:06:48.645Z"
   },
   {
    "duration": 12,
    "start_time": "2023-05-16T03:06:52.075Z"
   },
   {
    "duration": 296,
    "start_time": "2023-05-16T03:08:37.212Z"
   },
   {
    "duration": 12,
    "start_time": "2023-05-16T03:08:41.473Z"
   },
   {
    "duration": 3,
    "start_time": "2023-05-16T03:09:00.881Z"
   },
   {
    "duration": 9,
    "start_time": "2023-05-16T03:09:26.805Z"
   },
   {
    "duration": 276,
    "start_time": "2023-05-16T03:09:32.613Z"
   },
   {
    "duration": 183,
    "start_time": "2023-05-16T03:09:35.516Z"
   },
   {
    "duration": 2398,
    "start_time": "2023-05-16T17:08:53.369Z"
   },
   {
    "duration": 510,
    "start_time": "2023-05-16T17:08:55.771Z"
   },
   {
    "duration": 40,
    "start_time": "2023-05-16T17:08:56.283Z"
   },
   {
    "duration": 21,
    "start_time": "2023-05-16T17:08:56.329Z"
   },
   {
    "duration": 12,
    "start_time": "2023-05-16T17:08:56.356Z"
   },
   {
    "duration": 32,
    "start_time": "2023-05-16T17:08:56.374Z"
   },
   {
    "duration": 11,
    "start_time": "2023-05-16T17:08:56.415Z"
   },
   {
    "duration": 14,
    "start_time": "2023-05-16T17:08:56.432Z"
   },
   {
    "duration": 14,
    "start_time": "2023-05-16T17:08:56.451Z"
   },
   {
    "duration": 12,
    "start_time": "2023-05-16T17:08:56.468Z"
   },
   {
    "duration": 15,
    "start_time": "2023-05-16T17:08:56.482Z"
   },
   {
    "duration": 15,
    "start_time": "2023-05-16T17:08:56.500Z"
   },
   {
    "duration": 25,
    "start_time": "2023-05-16T17:08:56.517Z"
   },
   {
    "duration": 14,
    "start_time": "2023-05-16T17:08:56.545Z"
   },
   {
    "duration": 10,
    "start_time": "2023-05-16T17:08:56.562Z"
   },
   {
    "duration": 7,
    "start_time": "2023-05-16T17:08:56.574Z"
   },
   {
    "duration": 12,
    "start_time": "2023-05-16T17:08:56.584Z"
   },
   {
    "duration": 27,
    "start_time": "2023-05-16T17:08:56.598Z"
   },
   {
    "duration": 24,
    "start_time": "2023-05-16T17:08:56.627Z"
   },
   {
    "duration": 42,
    "start_time": "2023-05-16T17:08:56.652Z"
   },
   {
    "duration": 36,
    "start_time": "2023-05-16T17:08:56.697Z"
   },
   {
    "duration": 30,
    "start_time": "2023-05-16T17:08:56.735Z"
   },
   {
    "duration": 9,
    "start_time": "2023-05-16T17:08:56.769Z"
   },
   {
    "duration": 32,
    "start_time": "2023-05-16T17:08:56.794Z"
   },
   {
    "duration": 11,
    "start_time": "2023-05-16T17:08:56.833Z"
   },
   {
    "duration": 22,
    "start_time": "2023-05-16T17:08:56.855Z"
   },
   {
    "duration": 16,
    "start_time": "2023-05-16T17:08:56.879Z"
   },
   {
    "duration": 31,
    "start_time": "2023-05-16T17:08:56.923Z"
   },
   {
    "duration": 16,
    "start_time": "2023-05-16T17:08:56.961Z"
   },
   {
    "duration": 14,
    "start_time": "2023-05-16T17:08:56.980Z"
   },
   {
    "duration": 38,
    "start_time": "2023-05-16T17:08:56.996Z"
   },
   {
    "duration": 32,
    "start_time": "2023-05-16T17:08:57.036Z"
   },
   {
    "duration": 690862,
    "start_time": "2023-05-16T17:08:57.071Z"
   },
   {
    "duration": 2149700,
    "start_time": "2023-05-16T17:20:27.936Z"
   },
   {
    "duration": 1126,
    "start_time": "2023-05-16T17:56:17.638Z"
   },
   {
    "duration": 189415,
    "start_time": "2023-05-16T17:56:18.766Z"
   },
   {
    "duration": 0,
    "start_time": "2023-05-16T17:59:28.183Z"
   },
   {
    "duration": 0,
    "start_time": "2023-05-16T17:59:28.188Z"
   },
   {
    "duration": 0,
    "start_time": "2023-05-16T17:59:28.189Z"
   },
   {
    "duration": 0,
    "start_time": "2023-05-16T17:59:28.191Z"
   },
   {
    "duration": 0,
    "start_time": "2023-05-16T17:59:28.192Z"
   },
   {
    "duration": 0,
    "start_time": "2023-05-16T17:59:28.193Z"
   },
   {
    "duration": 0,
    "start_time": "2023-05-16T17:59:28.194Z"
   },
   {
    "duration": 0,
    "start_time": "2023-05-16T17:59:28.195Z"
   },
   {
    "duration": 0,
    "start_time": "2023-05-16T17:59:28.196Z"
   },
   {
    "duration": 0,
    "start_time": "2023-05-16T17:59:28.197Z"
   },
   {
    "duration": 620045,
    "start_time": "2023-05-16T18:01:48.453Z"
   },
   {
    "duration": 736853,
    "start_time": "2023-05-16T18:12:08.502Z"
   },
   {
    "duration": 379255,
    "start_time": "2023-05-16T18:24:25.357Z"
   },
   {
    "duration": 2013989,
    "start_time": "2023-05-16T18:30:44.615Z"
   },
   {
    "duration": 886044,
    "start_time": "2023-05-16T19:04:18.606Z"
   },
   {
    "duration": 459618,
    "start_time": "2023-05-16T19:19:04.653Z"
   },
   {
    "duration": 803,
    "start_time": "2023-05-16T19:26:44.273Z"
   },
   {
    "duration": 1178,
    "start_time": "2023-05-16T19:26:45.078Z"
   },
   {
    "duration": 818,
    "start_time": "2023-05-16T19:26:46.257Z"
   },
   {
    "duration": 17,
    "start_time": "2023-05-16T19:26:47.078Z"
   },
   {
    "duration": 0,
    "start_time": "2023-05-16T19:26:47.096Z"
   },
   {
    "duration": 415,
    "start_time": "2023-05-16T19:45:54.708Z"
   },
   {
    "duration": 321,
    "start_time": "2023-05-16T19:46:08.598Z"
   },
   {
    "duration": 336,
    "start_time": "2023-05-16T19:47:11.806Z"
   },
   {
    "duration": 22,
    "start_time": "2023-05-16T19:50:12.557Z"
   },
   {
    "duration": 355,
    "start_time": "2023-05-16T19:50:58.412Z"
   },
   {
    "duration": 349,
    "start_time": "2023-05-16T19:51:21.005Z"
   },
   {
    "duration": 261,
    "start_time": "2023-05-16T19:51:30.110Z"
   },
   {
    "duration": 336,
    "start_time": "2023-05-16T19:52:01.944Z"
   },
   {
    "duration": 392,
    "start_time": "2023-05-16T19:52:19.450Z"
   },
   {
    "duration": 352,
    "start_time": "2023-05-16T19:53:24.452Z"
   },
   {
    "duration": 36,
    "start_time": "2023-05-16T19:54:01.260Z"
   },
   {
    "duration": 241,
    "start_time": "2023-05-16T19:54:10.248Z"
   },
   {
    "duration": 331,
    "start_time": "2023-05-16T19:55:46.947Z"
   },
   {
    "duration": 11,
    "start_time": "2023-05-16T20:06:03.530Z"
   },
   {
    "duration": 190,
    "start_time": "2023-05-16T20:06:33.926Z"
   },
   {
    "duration": 189,
    "start_time": "2023-05-16T20:07:21.057Z"
   },
   {
    "duration": 175,
    "start_time": "2023-05-16T20:07:28.451Z"
   },
   {
    "duration": 335,
    "start_time": "2023-05-16T20:09:20.144Z"
   },
   {
    "duration": 168,
    "start_time": "2023-05-16T20:09:26.108Z"
   },
   {
    "duration": 19615,
    "start_time": "2023-05-16T20:10:27.049Z"
   },
   {
    "duration": 19602,
    "start_time": "2023-05-16T20:11:00.230Z"
   },
   {
    "duration": 369728,
    "start_time": "2023-05-16T20:12:40.914Z"
   },
   {
    "duration": 388997,
    "start_time": "2023-05-16T20:25:02.353Z"
   },
   {
    "duration": 157,
    "start_time": "2023-05-16T20:37:07.235Z"
   },
   {
    "duration": 5,
    "start_time": "2023-05-16T21:14:26.762Z"
   },
   {
    "duration": 48,
    "start_time": "2023-05-16T21:14:26.781Z"
   },
   {
    "duration": 14,
    "start_time": "2023-05-16T21:14:26.832Z"
   },
   {
    "duration": 13,
    "start_time": "2023-05-16T21:14:26.848Z"
   },
   {
    "duration": 6,
    "start_time": "2023-05-16T21:14:26.863Z"
   },
   {
    "duration": 13,
    "start_time": "2023-05-16T21:14:26.888Z"
   },
   {
    "duration": 5,
    "start_time": "2023-05-16T21:14:26.903Z"
   },
   {
    "duration": 7,
    "start_time": "2023-05-16T21:14:26.910Z"
   },
   {
    "duration": 9,
    "start_time": "2023-05-16T21:14:26.919Z"
   },
   {
    "duration": 10,
    "start_time": "2023-05-16T21:14:26.930Z"
   },
   {
    "duration": 54,
    "start_time": "2023-05-16T21:14:26.943Z"
   },
   {
    "duration": 7,
    "start_time": "2023-05-16T21:14:26.999Z"
   },
   {
    "duration": 9,
    "start_time": "2023-05-16T21:14:27.007Z"
   },
   {
    "duration": 9,
    "start_time": "2023-05-16T21:14:27.017Z"
   },
   {
    "duration": 13,
    "start_time": "2023-05-16T21:14:27.028Z"
   },
   {
    "duration": 46,
    "start_time": "2023-05-16T21:14:27.043Z"
   },
   {
    "duration": 10,
    "start_time": "2023-05-16T21:14:27.091Z"
   },
   {
    "duration": 31,
    "start_time": "2023-05-16T21:14:27.103Z"
   },
   {
    "duration": 20,
    "start_time": "2023-05-16T21:14:27.136Z"
   },
   {
    "duration": 41,
    "start_time": "2023-05-16T21:14:27.158Z"
   },
   {
    "duration": 18,
    "start_time": "2023-05-16T21:14:27.201Z"
   },
   {
    "duration": 18,
    "start_time": "2023-05-16T21:14:27.221Z"
   },
   {
    "duration": 6,
    "start_time": "2023-05-16T21:14:27.241Z"
   },
   {
    "duration": 42,
    "start_time": "2023-05-16T21:14:27.248Z"
   },
   {
    "duration": 7,
    "start_time": "2023-05-16T21:14:27.292Z"
   },
   {
    "duration": 15,
    "start_time": "2023-05-16T21:14:27.300Z"
   },
   {
    "duration": 7,
    "start_time": "2023-05-16T21:14:27.317Z"
   },
   {
    "duration": 9,
    "start_time": "2023-05-16T21:14:27.326Z"
   },
   {
    "duration": 10,
    "start_time": "2023-05-16T21:14:27.337Z"
   },
   {
    "duration": 48,
    "start_time": "2023-05-16T21:14:27.350Z"
   },
   {
    "duration": 22,
    "start_time": "2023-05-16T21:14:27.401Z"
   },
   {
    "duration": 22,
    "start_time": "2023-05-16T21:14:27.425Z"
   },
   {
    "duration": 3787,
    "start_time": "2023-05-16T21:14:27.450Z"
   },
   {
    "duration": 0,
    "start_time": "2023-05-16T21:14:31.239Z"
   },
   {
    "duration": 0,
    "start_time": "2023-05-16T21:14:31.241Z"
   },
   {
    "duration": 0,
    "start_time": "2023-05-16T21:14:31.243Z"
   },
   {
    "duration": 0,
    "start_time": "2023-05-16T21:14:31.244Z"
   },
   {
    "duration": 0,
    "start_time": "2023-05-16T21:14:31.246Z"
   },
   {
    "duration": 0,
    "start_time": "2023-05-16T21:14:31.247Z"
   },
   {
    "duration": 0,
    "start_time": "2023-05-16T21:14:31.248Z"
   },
   {
    "duration": 0,
    "start_time": "2023-05-16T21:14:31.250Z"
   },
   {
    "duration": 0,
    "start_time": "2023-05-16T21:14:31.251Z"
   },
   {
    "duration": 0,
    "start_time": "2023-05-16T21:14:31.253Z"
   },
   {
    "duration": 0,
    "start_time": "2023-05-16T21:14:31.255Z"
   },
   {
    "duration": 0,
    "start_time": "2023-05-16T21:14:31.256Z"
   },
   {
    "duration": 0,
    "start_time": "2023-05-16T21:14:31.288Z"
   },
   {
    "duration": 1431,
    "start_time": "2023-05-16T21:14:44.013Z"
   },
   {
    "duration": 52,
    "start_time": "2023-05-16T21:14:45.446Z"
   },
   {
    "duration": 19,
    "start_time": "2023-05-16T21:14:45.500Z"
   },
   {
    "duration": 15,
    "start_time": "2023-05-16T21:14:45.522Z"
   },
   {
    "duration": 6,
    "start_time": "2023-05-16T21:14:45.539Z"
   },
   {
    "duration": 11,
    "start_time": "2023-05-16T21:14:45.547Z"
   },
   {
    "duration": 32,
    "start_time": "2023-05-16T21:14:45.559Z"
   },
   {
    "duration": 6,
    "start_time": "2023-05-16T21:14:45.592Z"
   },
   {
    "duration": 10,
    "start_time": "2023-05-16T21:14:45.600Z"
   },
   {
    "duration": 7,
    "start_time": "2023-05-16T21:14:45.613Z"
   },
   {
    "duration": 8,
    "start_time": "2023-05-16T21:14:45.622Z"
   },
   {
    "duration": 6,
    "start_time": "2023-05-16T21:14:45.632Z"
   },
   {
    "duration": 7,
    "start_time": "2023-05-16T21:14:45.639Z"
   },
   {
    "duration": 47,
    "start_time": "2023-05-16T21:14:45.648Z"
   },
   {
    "duration": 4,
    "start_time": "2023-05-16T21:14:45.696Z"
   },
   {
    "duration": 5,
    "start_time": "2023-05-16T21:14:45.702Z"
   },
   {
    "duration": 11,
    "start_time": "2023-05-16T21:14:45.708Z"
   },
   {
    "duration": 19,
    "start_time": "2023-05-16T21:14:45.720Z"
   },
   {
    "duration": 50,
    "start_time": "2023-05-16T21:14:45.741Z"
   },
   {
    "duration": 18,
    "start_time": "2023-05-16T21:14:45.792Z"
   },
   {
    "duration": 21,
    "start_time": "2023-05-16T21:14:45.812Z"
   },
   {
    "duration": 20,
    "start_time": "2023-05-16T21:14:45.835Z"
   },
   {
    "duration": 7,
    "start_time": "2023-05-16T21:14:45.887Z"
   },
   {
    "duration": 16,
    "start_time": "2023-05-16T21:14:45.896Z"
   },
   {
    "duration": 8,
    "start_time": "2023-05-16T21:14:45.914Z"
   },
   {
    "duration": 13,
    "start_time": "2023-05-16T21:14:45.923Z"
   },
   {
    "duration": 9,
    "start_time": "2023-05-16T21:14:45.937Z"
   },
   {
    "duration": 43,
    "start_time": "2023-05-16T21:14:45.950Z"
   },
   {
    "duration": 11,
    "start_time": "2023-05-16T21:14:45.996Z"
   },
   {
    "duration": 9,
    "start_time": "2023-05-16T21:14:46.008Z"
   },
   {
    "duration": 17,
    "start_time": "2023-05-16T21:14:46.025Z"
   },
   {
    "duration": 18,
    "start_time": "2023-05-16T21:14:46.044Z"
   },
   {
    "duration": 555188,
    "start_time": "2023-05-16T21:14:46.088Z"
   },
   {
    "duration": 1953425,
    "start_time": "2023-05-16T21:24:01.277Z"
   },
   {
    "duration": 1733,
    "start_time": "2023-05-16T21:56:34.704Z"
   },
   {
    "duration": 627364,
    "start_time": "2023-05-16T21:56:36.439Z"
   },
   {
    "duration": 705661,
    "start_time": "2023-05-16T22:07:03.805Z"
   },
   {
    "duration": 359693,
    "start_time": "2023-05-16T22:18:49.468Z"
   },
   {
    "duration": 1886177,
    "start_time": "2023-05-16T22:24:49.163Z"
   },
   {
    "duration": 870122,
    "start_time": "2023-05-16T22:56:15.342Z"
   },
   {
    "duration": 458512,
    "start_time": "2023-05-16T23:10:45.466Z"
   },
   {
    "duration": 779,
    "start_time": "2023-05-16T23:18:23.980Z"
   },
   {
    "duration": 1188,
    "start_time": "2023-05-16T23:18:24.761Z"
   },
   {
    "duration": 788,
    "start_time": "2023-05-16T23:18:25.950Z"
   },
   {
    "duration": 193,
    "start_time": "2023-05-16T23:18:26.740Z"
   },
   {
    "duration": 180,
    "start_time": "2023-05-16T23:18:26.935Z"
   },
   {
    "duration": 51,
    "start_time": "2023-06-06T17:54:30.772Z"
   },
   {
    "duration": 1584,
    "start_time": "2023-07-19T15:38:49.727Z"
   },
   {
    "duration": 366,
    "start_time": "2023-07-19T15:38:51.313Z"
   },
   {
    "duration": 18,
    "start_time": "2023-07-19T15:38:51.680Z"
   },
   {
    "duration": 50,
    "start_time": "2023-07-19T15:38:51.700Z"
   },
   {
    "duration": 6,
    "start_time": "2023-07-19T15:38:51.752Z"
   },
   {
    "duration": 19,
    "start_time": "2023-07-19T15:38:51.760Z"
   },
   {
    "duration": 15,
    "start_time": "2023-07-19T15:38:51.780Z"
   },
   {
    "duration": 23,
    "start_time": "2023-07-19T15:38:51.796Z"
   },
   {
    "duration": 12,
    "start_time": "2023-07-19T15:38:51.821Z"
   },
   {
    "duration": 21,
    "start_time": "2023-07-19T15:38:51.835Z"
   },
   {
    "duration": 21,
    "start_time": "2023-07-19T15:38:51.857Z"
   },
   {
    "duration": 8,
    "start_time": "2023-07-19T15:38:51.880Z"
   },
   {
    "duration": 32,
    "start_time": "2023-07-19T15:38:51.890Z"
   },
   {
    "duration": 9,
    "start_time": "2023-07-19T15:38:51.924Z"
   },
   {
    "duration": 23,
    "start_time": "2023-07-19T15:38:51.934Z"
   },
   {
    "duration": 19,
    "start_time": "2023-07-19T15:38:51.959Z"
   },
   {
    "duration": 31,
    "start_time": "2023-07-19T15:38:51.979Z"
   },
   {
    "duration": 23,
    "start_time": "2023-07-19T15:38:52.012Z"
   },
   {
    "duration": 16,
    "start_time": "2023-07-19T15:38:52.037Z"
   },
   {
    "duration": 17,
    "start_time": "2023-07-19T15:38:52.055Z"
   },
   {
    "duration": 18,
    "start_time": "2023-07-19T15:38:52.073Z"
   },
   {
    "duration": 16,
    "start_time": "2023-07-19T15:38:52.093Z"
   },
   {
    "duration": 16,
    "start_time": "2023-07-19T15:38:52.111Z"
   },
   {
    "duration": 29,
    "start_time": "2023-07-19T15:38:52.128Z"
   },
   {
    "duration": 20,
    "start_time": "2023-07-19T15:38:52.159Z"
   },
   {
    "duration": 38,
    "start_time": "2023-07-19T15:38:52.181Z"
   },
   {
    "duration": 8,
    "start_time": "2023-07-19T15:38:52.221Z"
   },
   {
    "duration": 23,
    "start_time": "2023-07-19T15:38:52.233Z"
   },
   {
    "duration": 30,
    "start_time": "2023-07-19T15:38:52.258Z"
   },
   {
    "duration": 31,
    "start_time": "2023-07-19T15:38:52.290Z"
   },
   {
    "duration": 38,
    "start_time": "2023-07-19T15:38:52.323Z"
   },
   {
    "duration": 12,
    "start_time": "2023-07-19T15:38:52.363Z"
   },
   {
    "duration": 509738,
    "start_time": "2023-07-19T15:38:52.377Z"
   },
   {
    "duration": 1799636,
    "start_time": "2023-07-19T15:47:22.116Z"
   },
   {
    "duration": 1141,
    "start_time": "2023-07-19T16:17:21.753Z"
   },
   {
    "duration": 559315,
    "start_time": "2023-07-19T16:17:22.896Z"
   },
   {
    "duration": 643165,
    "start_time": "2023-07-19T16:26:42.213Z"
   },
   {
    "duration": 326187,
    "start_time": "2023-07-19T16:37:25.380Z"
   },
   {
    "duration": 1777351,
    "start_time": "2023-07-19T16:42:51.568Z"
   },
   {
    "duration": 791865,
    "start_time": "2023-07-19T17:12:28.921Z"
   },
   {
    "duration": 417074,
    "start_time": "2023-07-19T17:25:40.787Z"
   },
   {
    "duration": 731,
    "start_time": "2023-07-19T17:32:37.863Z"
   },
   {
    "duration": 1701,
    "start_time": "2023-07-19T17:32:38.596Z"
   },
   {
    "duration": 804,
    "start_time": "2023-07-19T17:32:40.299Z"
   },
   {
    "duration": 181,
    "start_time": "2023-07-19T17:32:41.105Z"
   },
   {
    "duration": 161,
    "start_time": "2023-07-19T17:32:41.288Z"
   }
  ],
  "kernelspec": {
   "display_name": "Python 3 (ipykernel)",
   "language": "python",
   "name": "python3"
  },
  "language_info": {
   "codemirror_mode": {
    "name": "ipython",
    "version": 3
   },
   "file_extension": ".py",
   "mimetype": "text/x-python",
   "name": "python",
   "nbconvert_exporter": "python",
   "pygments_lexer": "ipython3",
   "version": "3.9.5"
  },
  "toc": {
   "base_numbering": 1,
   "nav_menu": {},
   "number_sections": true,
   "sideBar": true,
   "skip_h1_title": true,
   "title_cell": "Содержание",
   "title_sidebar": "Contents",
   "toc_cell": true,
   "toc_position": {
    "height": "calc(100% - 180px)",
    "left": "10px",
    "top": "150px",
    "width": "355.625px"
   },
   "toc_section_display": true,
   "toc_window_display": true
  }
 },
 "nbformat": 4,
 "nbformat_minor": 2
}
